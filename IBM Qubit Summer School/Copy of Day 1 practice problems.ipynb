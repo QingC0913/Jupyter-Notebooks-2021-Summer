{
 "cells": [
  {
   "cell_type": "code",
   "execution_count": null,
   "id": "d286d3c6",
   "metadata": {},
   "outputs": [],
   "source": [
    "import numpy as np\n",
    "# Importing standard Qiskit libraries\n",
    "from qiskit import QuantumCircuit, transpile, Aer, IBMQ\n",
    "from qiskit.tools.jupyter import *\n",
    "from qiskit.visualization import *\n",
    "from ibm_quantum_widgets import *\n",
    "\n",
    "# Loading your IBM Quantum account(s)\n",
    "provider = IBMQ.load_account()"
   ]
  },
  {
   "cell_type": "code",
   "execution_count": null,
   "id": "470ae5cb",
   "metadata": {},
   "outputs": [],
   "source": [
    "# BLOCK 1 - Define a variable called \"feet\" and convert it to inches (there are 12 inches in 1 foot)\n",
    "\n"
   ]
  },
  {
   "cell_type": "code",
   "execution_count": null,
   "id": "352c16eb",
   "metadata": {},
   "outputs": [],
   "source": [
    "# BLOCK 2 -  The sides of a rectangle have length=3 and width=5. Define variables for \"length\" and \"width\" and compute the area.\n",
    "# (Area = length * width)"
   ]
  },
  {
   "cell_type": "code",
   "execution_count": null,
   "id": "c45ed4f1",
   "metadata": {},
   "outputs": [],
   "source": [
    "# BLOCK 3 - Compare the length and width of the rectangle in the previous problem"
   ]
  },
  {
   "cell_type": "code",
   "execution_count": null,
   "id": "5873a7ce",
   "metadata": {},
   "outputs": [],
   "source": [
    "# BLOCK 4 - Create two integer variables. Add the variables together and store the result in a third variable."
   ]
  },
  {
   "cell_type": "code",
   "execution_count": null,
   "id": "5b3420f1",
   "metadata": {},
   "outputs": [],
   "source": [
    "# BLOCK 5 - Create a list \"z\" containing the numbers 15, 75, 25, 45, 90."
   ]
  },
  {
   "cell_type": "code",
   "execution_count": null,
   "id": "11f79782",
   "metadata": {},
   "outputs": [],
   "source": [
    "# BLOCK 6 - Print the number that is 5 less than z[1]"
   ]
  },
  {
   "cell_type": "code",
   "execution_count": null,
   "id": "92c28296",
   "metadata": {},
   "outputs": [],
   "source": [
    "# BLOCK 7 - Print the number that is half of z[0]"
   ]
  },
  {
   "cell_type": "code",
   "execution_count": null,
   "id": "de8fe861",
   "metadata": {},
   "outputs": [],
   "source": [
    "# BLOCK 8 - Create a list that has the days of the week starting with Sunday"
   ]
  },
  {
   "cell_type": "code",
   "execution_count": null,
   "id": "7b2359ed",
   "metadata": {},
   "outputs": [],
   "source": [
    "# BLOCK 9 - Print a sentence that uses the elements from the list to tell us the 2nd and 3rd days of the week"
   ]
  },
  {
   "cell_type": "code",
   "execution_count": null,
   "id": "98da0017",
   "metadata": {},
   "outputs": [],
   "source": [
    "# BLOCK 10 - Make a list of 5 numbers. \n",
    "# If the first number is less than the second number, print each number on the list"
   ]
  },
  {
   "cell_type": "code",
   "execution_count": null,
   "id": "ee102353",
   "metadata": {},
   "outputs": [],
   "source": [
    "# BLOCK 11 - Make a list of 5 numbers.\n",
    "# If the first number is less than the second number, print each number on the list.\n",
    "# Otherwise, print only the first number"
   ]
  }
 ],
 "metadata": {
  "kernelspec": {
   "display_name": "Python 3",
   "language": "python",
   "name": "python3"
  },
  "language_info": {
   "codemirror_mode": {
    "name": "ipython",
    "version": 3
   },
   "file_extension": ".py",
   "mimetype": "text/x-python",
   "name": "python",
   "nbconvert_exporter": "python",
   "pygments_lexer": "ipython3",
   "version": "3.8.10"
  }
 },
 "nbformat": 4,
 "nbformat_minor": 5
}
