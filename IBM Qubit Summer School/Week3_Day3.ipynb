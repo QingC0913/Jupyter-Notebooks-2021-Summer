{
 "cells": [
  {
   "cell_type": "markdown",
   "metadata": {
    "id": "n10Rndy9F7ok"
   },
   "source": [
    "<div style=\"text-align: center; margin: 50px\">\n",
    "\n",
    "<h1 style=\"color: white; background-color: grey; text-align: center;\">Week 3, Days 3 and 4</h1>\n",
    "<h3>Quantum Key Distribution</h3>\n",
    "\n",
    "</div>"
   ]
  },
  {
   "cell_type": "code",
   "execution_count": null,
   "metadata": {
    "id": "qBcHtwKsF7ol",
    "outputId": "bf4dc1b0-c4ba-4c75-b844-4df4c8918e6d"
   },
   "outputs": [
    {
     "name": "stderr",
     "output_type": "stream",
     "text": [
      "ibmqfactory.load_account:WARNING:2021-07-06 21:27:24,852: Credentials are already in use. The existing account in the session will be replaced.\n"
     ]
    }
   ],
   "source": [
    "import numpy as np\n",
    "# Importing standard Qiskit libraries\n",
    "from qiskit import QuantumCircuit, execute, transpile, Aer, IBMQ\n",
    "from qiskit.tools.jupyter import *\n",
    "from qiskit.visualization import *\n",
    "from ibm_quantum_widgets import *\n",
    "from qiskit_textbook.tools import array_to_latex\n",
    "\n",
    "# Loading your IBM Quantum account(s)\n",
    "provider = IBMQ.load_account()\n",
    "\n",
    "from random import getrandbits\n"
   ]
  },
  {
   "cell_type": "markdown",
   "metadata": {
    "id": "FkdXuqWSF7om"
   },
   "source": [
    "## Coding cheat sheet:\n",
    "\n",
    "#Defining a quantum circuit: \n",
    "\n",
    "`qc = QuantumCircuit(1)` #Define a 1 qubit quantum circuit <br>\n",
    "\n",
    "`qc.x(0)` #Add an X gate <br>\n",
    "`qc.h(0)` #Add an H gate <br>\n",
    "`qc.z(0)` #Add a Z gate <br>\n",
    "`qc.y(0)` #Add a Y gate <br>\n",
    "\n",
    "`qc.draw()` #Draw the circuit <br>\n",
    "\n",
    "**Using the statevector simulator** (Do this no matter which way you want to see the output):<br>\n",
    "\n",
    "`svsim = Aer.get_backend('statevector_simulator')` # Tell it which simulator you want to use <br>\n",
    "`job = execute(qc,svsim)` # Put in the name of your quantum circuit where it says qc<br>\n",
    "`result = job.result()` <br>\n",
    "\n",
    "\n",
    "See the output on the Bloch sphere:<br>\n",
    "`state = result.get_statevector()` <br>\n",
    "`plot_bloch_multivector(state)`<br>\n",
    "\n",
    "See the output in vector form:<br>\n",
    "`state = result.get_statevector()` <br>\n",
    "`array_to_latex(state, pretext=\"\\\\text{Statevector} = \")` <br>\n",
    "\n",
    "See the output in histogram form: <br>\n",
    "`counts = result.get_counts(qc)` <br>\n",
    "`plot_histogram(counts)` <br>\n",
    "\n",
    "**Using the qasm simulator:**\n",
    "\n",
    "`qc.measure_all()` #adds measurements <br>\n",
    "\n",
    "`svsim = Aer.get_backend('qasm_simulator')` # Change statevector to qasm <br>\n",
    "`job = execute(qc,svsim,shots=100)` # add shots - tell it how many times to run <br>\n",
    "`result = job.result()` <br>\n",
    "\n",
    "\n",
    "**Using a real quantum computer:**\n",
    "\n",
    "Find the least busy backend: <br>\n",
    "`IBMQ.load_account()` <br>\n",
    "`provider = IBMQ.get_provider(hub='ibm-q')` <br>\n",
    "`backend = least_busy(provider.backends(filters=lambda x: x.configuration().n_qubits >= 2 \n",
    "                                       and not x.configuration().simulator \n",
    "                                       and x.status().operational==True))` <br>\n",
    "`print(\"least busy backend: \", backend)` <br>\n",
    "\n",
    "\n",
    "Run the job:\n",
    "`job = execute(qc, backend=backend, shots=100)`\n",
    "\n",
    "`result = job.result()` <br>\n",
    "`counts = result.get_counts(qc)` <br>\n",
    "`plot_histogram(counts)` \n",
    "\n",
    "\n",
    "\n"
   ]
  },
  {
   "cell_type": "markdown",
   "metadata": {
    "id": "SZiP7qW3F7on"
   },
   "source": [
    "<a id=\"step1\"></a>\n",
    "## Step 1 - Alice randomly chooses bits\n"
   ]
  },
  {
   "cell_type": "code",
   "execution_count": null,
   "metadata": {
    "id": "ZMa8SF40F7on",
    "outputId": "5dfeec53-40ed-40bd-9249-f7dc388cacfd"
   },
   "outputs": [
    {
     "data": {
      "text/plain": [
       "1"
      ]
     },
     "execution_count": 4,
     "metadata": {
      "tags": []
     },
     "output_type": "execute_result"
    }
   ],
   "source": [
    "#BLOCK 1 - try out the getrandbits function\n",
    "\n",
    "getrandbits(1)"
   ]
  },
  {
   "cell_type": "code",
   "execution_count": null,
   "metadata": {
    "id": "K1KDZBF4F7oo",
    "outputId": "ef65709b-d6c7-4a98-c78c-f6c9735e4552"
   },
   "outputs": [
    {
     "data": {
      "text/plain": [
       "'01011001101101001111101111100011100111001011000011111011111110101001101100011000100011101000111000011101100110111101010111111011111000000001101111000110101011111100100111110001011111111001101001111110001110010100100111110001111100011110010010001110111001000000111011111011100111001011000110100100001100010000100101100110001000011001011110000000000100001111001101100001101000011111010100011010000100111101100110110010000000111110110000000101111011100000101111101110100000110010000010001110101100010100'"
      ]
     },
     "execution_count": 45,
     "metadata": {
      "tags": []
     },
     "output_type": "execute_result"
    }
   ],
   "source": [
    "# BLOCK 2 - Generate Alice's bitstring\n",
    "\n",
    "alice_bitstring = \"\"\n",
    "    \n"
   ]
  },
  {
   "cell_type": "markdown",
   "metadata": {
    "id": "hjCiUgBcF7oo"
   },
   "source": [
    "## Step 2 - Alice randomly chooses bases"
   ]
  },
  {
   "cell_type": "code",
   "execution_count": null,
   "metadata": {
    "id": "r2BQUG7jF7oo",
    "outputId": "75ed60a2-586f-403d-b53c-6c00bdde0e73"
   },
   "outputs": [
    {
     "data": {
      "text/plain": [
       "'00010001000001100111011101100001101101010000100100100110101010010011011010011010111000010100011011010111111101100001011101011110110111110101110110000100111001000011000101110011001010011110010010011101101110110011111110000011001001001111101010011011110110110101111100001111101000111100010010110001001111110101001001101010010100101011101000011101100011100001011111100100000001011000111000000100000100001000110001010000110010001001101010110111100000110101000000010100101011101101111010001001100101011000'"
      ]
     },
     "execution_count": 46,
     "metadata": {
      "tags": []
     },
     "output_type": "execute_result"
    }
   ],
   "source": [
    "# BLOCK 3 - Generate Alice's bases\n",
    "\n",
    "alice_bases = \"\"\n",
    "    \n"
   ]
  },
  {
   "cell_type": "markdown",
   "metadata": {
    "id": "OevIDnGsF7op"
   },
   "source": [
    "<a id=\"step3\"></a>\n",
    "## Step 3 - Encode the classical bits into qubits\n",
    "\n",
    "\n",
    "The table below summarizes the qubit states Alice sends, based on the bit of Alice's `alice_bitstring` the corresponding bit of `selected_bases`:\n",
    "\n",
    "| Bit in `alice_bitstring` | Corresponding bit in `alice_bases` | Encoding basis | Qubit state sent |\n",
    "|:----------------:|:--------------------------:|:--------------------------:|:---------------:|\n",
    "| 0 | 0 | $$|0\\rangle,|1\\rangle$$ |$$|0\\rangle$$ |\n",
    "| 0 | 1 | $$|+\\rangle,|-\\rangle$$ |$$|+\\rangle$$ |\n",
    "| 1 | 0 | $$|0\\rangle,|1\\rangle$$ |$$|1\\rangle$$ |\n",
    "| 1 | 1 | $$|+\\rangle,|-\\rangle$$ |$$|-\\rangle$$ |"
   ]
  },
  {
   "cell_type": "code",
   "execution_count": null,
   "metadata": {
    "id": "dp1tvEV-F7oq"
   },
   "outputs": [],
   "source": [
    "#BLOCK 4 - Define a function to encode Alice's qubits\n",
    "\n",
    "def encode(alice_bitstring, alice_bases):\n",
    "    encoded_qubits = []\n",
    "    for i in range(500):\n",
    "        qc = QuantumCircuit(1)\n",
    "\n",
    "        # INSERT CODE HERE!\n",
    "            \n",
    "        encoded_qubits.append(qc)\n",
    "        \n",
    "    return encoded_qubits"
   ]
  },
  {
   "cell_type": "code",
   "execution_count": null,
   "metadata": {
    "id": "qH9ui_b8F7oq"
   },
   "outputs": [],
   "source": [
    "# BLOCK 5  - call the encode function to create the encoded qubits\n",
    "\n",
    "qubits = "
   ]
  },
  {
   "cell_type": "markdown",
   "metadata": {
    "id": "xYzpQgrqF7oq"
   },
   "source": [
    "# Step 4 - Alice sends qubits to Bob\n",
    "\n",
    "### There's nothing we need to code here. Alice would send the qubits to Bob (maybe through a fiber optic cable)"
   ]
  },
  {
   "cell_type": "markdown",
   "metadata": {
    "id": "Xvb9ClNPF7or"
   },
   "source": [
    "# Step 5 - Bob randomly picks the bases he will use to measure Alice's qubits\n"
   ]
  },
  {
   "cell_type": "code",
   "execution_count": null,
   "metadata": {
    "id": "RtMPfw7nF7or",
    "outputId": "79004e69-473e-4767-cb0d-fd9b1aff5619"
   },
   "outputs": [
    {
     "data": {
      "text/plain": [
       "'10100011111011100001010100001001100100001010011111111110110110110001111100011001011100110110110000001000011001001110101011010001101101101001001011011111001000010000001111011101000000011110011000111110111110100001110001110001011011001100000000011110100011100011100110000100111100110010000110000101001011100100011010110101110101110110100000000110100001010101101111101100110011110111111001110001001111000010010011101011001000011100001011001011101110101011100100011001100100100110111100110110110110011000'"
      ]
     },
     "execution_count": 49,
     "metadata": {
      "tags": []
     },
     "output_type": "execute_result"
    }
   ],
   "source": [
    "#BLOCK 6  - generate Bob's bases\n",
    "\n",
    "bob_bases = \"\"\n",
    "    \n"
   ]
  },
  {
   "cell_type": "markdown",
   "metadata": {
    "id": "OEjdMHN4F7os"
   },
   "source": [
    "## Step 6 & 7 - Bob makes measurements and converts qubits into bits\n",
    "\n",
    "Bob now has to measure the qubits in a the random bases that he chose in part 2"
   ]
  },
  {
   "cell_type": "code",
   "execution_count": null,
   "metadata": {
    "id": "UQbVmyuZF7os"
   },
   "outputs": [],
   "source": [
    "#BLOCK 7 - define a function to measure Alice's qubits\n",
    "\n",
    "def measure(bob_bases, encoded_qubits):\n",
    "    \n",
    "    # Stores the results of Bob's measurements\n",
    "    bob_bitstring = ''\n",
    "    \n",
    "    for i in range(len(encoded_qubits)):\n",
    "        qc = encoded_qubits[i]\n",
    "        \n",
    "        # CODE GOES HERE!\n",
    "        \n",
    "        # Now that the measurements have been added to the circuit, let's run them.\n",
    "        job = execute(qc, backend=Aer.get_backend('qasm_simulator'), shots = 1) \n",
    "        results = job.result()\n",
    "        counts = results.get_counts()\n",
    "        measured_bit = max(counts, key=counts.get)\n",
    "\n",
    "        # Append measured bit to Bob's measured bitstring\n",
    "        bob_bitstring += measured_bit \n",
    "        \n",
    "    return bob_bitstring"
   ]
  },
  {
   "cell_type": "code",
   "execution_count": null,
   "metadata": {
    "id": "wi8WmXAHF7ov",
    "outputId": "a09ebc6c-aac2-419d-f7da-7181bc4ca507"
   },
   "outputs": [
    {
     "data": {
      "text/plain": [
       "'11001001010111001001101110001011100110000011100000101011101110001011101010011001100111101000110001001001100110010010100001111011111010000101011011000111111010111110101101111101011111111001101001011101011110010100101000000011101110011110111000001111101001010110110011110011110011001101010110000000001100000000100100100010001001010101010110000000000100001111001101101001011000011101010100101010001110110111100100101000100010101010110000110001111111111010101011100011101100111000000110101110101100010100'"
      ]
     },
     "execution_count": 51,
     "metadata": {
      "tags": []
     },
     "output_type": "execute_result"
    }
   ],
   "source": [
    "# BLOCK 8 - call the measure function\n",
    "\n",
    "bob_bitstring = "
   ]
  },
  {
   "cell_type": "markdown",
   "metadata": {
    "id": "4hisVrQ8F7ow"
   },
   "source": [
    "## Step 8 - Alice and Bob compare their bases"
   ]
  },
  {
   "cell_type": "code",
   "execution_count": null,
   "metadata": {
    "id": "8lBNxnSXF7ow"
   },
   "outputs": [],
   "source": [
    "#BLOCK 9 - Define a function for Alice and Bob to compare their bases\n",
    "\n",
    "def compare_bases(alice_bases, bob_bases):\n",
    "    indices = []\n",
    "\n",
    "    # CODE GOES HERE!\n",
    "\n",
    "    return indices"
   ]
  },
  {
   "cell_type": "code",
   "execution_count": null,
   "metadata": {
    "id": "WxNX6huXF7ox",
    "outputId": "bd1b45a8-ac3e-492b-f973-e6b4b6a67365"
   },
   "outputs": [
    {
     "data": {
      "text/plain": [
       "264"
      ]
     },
     "execution_count": 56,
     "metadata": {
      "tags": []
     },
     "output_type": "execute_result"
    }
   ],
   "source": [
    "#BLOCK 10  - call the function to find the agreeing bases\n",
    "\n",
    "agreeing_bases = \n",
    "len(agreeing_bases)"
   ]
  },
  {
   "cell_type": "markdown",
   "metadata": {
    "id": "oZIXbTgLF7oy"
   },
   "source": [
    "## Step 9 - Alice and Bob generate their key\n"
   ]
  },
  {
   "cell_type": "code",
   "execution_count": null,
   "metadata": {
    "id": "f3Rv9XmsF7oy",
    "outputId": "f1825848-a9a9-4c4c-b2e4-319c62e5931d"
   },
   "outputs": [
    {
     "name": "stdout",
     "output_type": "stream",
     "text": [
      "110111001110110011101100101011110010101001100011010010000101011110000110110111110111101111110011001111011100010100011110011110000111100001011101011001001000000100000010110100000111000000101111101100011001010101100111110010000111100001111100111101101100000111010100\n"
     ]
    }
   ],
   "source": [
    "#BLOCK 11 - create Alice's key\n",
    "\n",
    "alice_key = ''\n",
    "\n",
    "# CODE GOES HERE!\n",
    "\n",
    "print(alice_key)\n"
   ]
  },
  {
   "cell_type": "code",
   "execution_count": null,
   "metadata": {
    "id": "4LH7dhHSF7oz",
    "outputId": "5c61b0bd-dc45-4a0a-8e34-158a3fddd1ff"
   },
   "outputs": [
    {
     "name": "stdout",
     "output_type": "stream",
     "text": [
      "110111001110110011101100101011110010101001100011010010000101011110000110110111110111101111110011001111011100010100011110011110000111100001011101011001001000000100000010110100000111000000101111101100011001010101100111110010000111100001111100111101101100000111010100\n"
     ]
    }
   ],
   "source": [
    "#BLOCK 12 - create Bob's key\n",
    "\n",
    "bob_key = ''\n",
    "\n",
    "# CODE GOES HERE!\n",
    "\n",
    "print(bob_key)\n"
   ]
  },
  {
   "cell_type": "code",
   "execution_count": null,
   "metadata": {
    "id": "4yl-g3tLF7oz",
    "outputId": "eb797db7-62c3-428c-e805-3ee04d65d320"
   },
   "outputs": [
    {
     "name": "stdout",
     "output_type": "stream",
     "text": [
      "1101110011\n",
      "1101110011\n",
      "True\n"
     ]
    }
   ],
   "source": [
    "#BLOCK 13 - what do we notice about these keys?\n",
    "\n",
    "print(alice_key[:10])\n",
    "print(bob_key[:10])\n",
    "# How can I compare them?"
   ]
  },
  {
   "cell_type": "markdown",
   "metadata": {
    "id": "-7Sd_7ywF7oz"
   },
   "source": [
    "## Optional content - Encrypting and decrypting messages"
   ]
  },
  {
   "cell_type": "code",
   "execution_count": null,
   "metadata": {
    "id": "4zbwspoqF7o0"
   },
   "outputs": [],
   "source": [
    "# BLOCK 14\n",
    "\n",
    "import binascii\n",
    "\n",
    "def encrypt_message(unencrypted_string, key):\n",
    "    # Convert ascii string to binary string\n",
    "    bits = bin(int(binascii.hexlify(unencrypted_string.encode('utf-8', 'surrogatepass')), 16))[2:]\n",
    "    bitstring = bits.zfill(8 * ((len(bits) + 7) // 8))\n",
    "    # created the encrypted string using the key\n",
    "    encrypted_string = \"\"\n",
    "    for i in range(len(bitstring)):\n",
    "        encrypted_string += str( (int(bitstring[i])^ int(key[i])) )\n",
    "    return encrypted_string\n",
    "    \n",
    "def decrypt_message(encrypted_bits, key):\n",
    "    # created the unencrypted string using the key\n",
    "    unencrypted_bits = \"\"\n",
    "    for i in range(len(encrypted_bits)):\n",
    "        unencrypted_bits += str( (int(encrypted_bits[i])^ int(key[i])) )\n",
    "    # Convert bitstring into\n",
    "    i = int(unencrypted_bits, 2)\n",
    "    hex_string = '%x' % i\n",
    "    n = len(hex_string)\n",
    "    bits = binascii.unhexlify(hex_string.zfill(n + (n & 1)))\n",
    "    unencrypted_string = bits.decode('utf-8', 'surrogatepass')\n",
    "    return unencrypted_string"
   ]
  },
  {
   "cell_type": "code",
   "execution_count": null,
   "metadata": {
    "id": "eSEyHmjUF7o0"
   },
   "outputs": [],
   "source": [
    "# BLOCK 15\n",
    "\n",
    "message = \"QKD is cool!\"\n",
    "print(\"Original Messge:\", message)\n",
    "encrypted_message = encrypt_message(message, alice_key)\n",
    "print(\"Encrypted message:\", encrypted_message)\n",
    "decrypted_message = decrypt_message(encrypted_message, bob_key)\n",
    "print(\"Decrypted message:\", decrypted_message)"
   ]
  }
 ],
 "metadata": {
  "colab": {
   "name": "Week 3 Day 3-4 v2.ipynb",
   "provenance": []
  },
  "kernelspec": {
   "display_name": "Python 3",
   "language": "python",
   "name": "python3"
  },
  "language_info": {
   "codemirror_mode": {
    "name": "ipython",
    "version": 3
   },
   "file_extension": ".py",
   "mimetype": "text/x-python",
   "name": "python",
   "nbconvert_exporter": "python",
   "pygments_lexer": "ipython3",
   "version": "3.8.10"
  }
 },
 "nbformat": 4,
 "nbformat_minor": 1
}
