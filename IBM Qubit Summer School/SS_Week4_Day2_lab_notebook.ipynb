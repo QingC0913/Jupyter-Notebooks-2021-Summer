{
 "cells": [
  {
   "cell_type": "markdown",
   "id": "316a674e",
   "metadata": {
    "id": "ebf64283"
   },
   "source": [
    "# Week 4 Day 2 lab\n",
    "## Solving the Knapsack problem using VQE"
   ]
  },
  {
   "cell_type": "markdown",
   "id": "88eeea74",
   "metadata": {
    "id": "237b0a42"
   },
   "source": [
    "The knapsack problem is a problem in combinatorial optimization: Given a set of items, each with a weight and a value, determine the number of each item to include in a collection so that the total weight is less than or equal to a given limit and the total value is as large as possible. It derives its name from the problem faced by someone who is constrained by a fixed-size knapsack and must fill it with the most valuable items. The problem often arises in resource allocation where the decision makers have to choose from a set of non-divisible projects or tasks under a fixed budget or time constraint, respectively."
   ]
  },
  {
   "cell_type": "markdown",
   "id": "949b8557",
   "metadata": {
    "id": "65edada3"
   },
   "source": [
    "Let's make the needed imports:"
   ]
  },
  {
   "cell_type": "code",
   "execution_count": null,
   "id": "1b34bd58",
   "metadata": {
    "id": "69077589"
   },
   "outputs": [],
   "source": [
    "# BLOCK 1 - Importing libaries. A lot of new libararies here! \n",
    "\n",
    "from qiskit_optimization.applications import Knapsack\n",
    "from qiskit.algorithms import NumPyMinimumEigensolver\n",
    "from qiskit_optimization.algorithms import MinimumEigenOptimizer\n",
    "from qiskit.utils import QuantumInstance\n",
    "from qiskit import Aer\n",
    "from qiskit_optimization.converters import QuadraticProgramToQubo\n",
    "from qiskit.algorithms import VQE\n",
    "from qiskit.algorithms.optimizers import SPSA\n",
    "from qiskit.circuit.library import EfficientSU2, TwoLocal\n",
    "\n",
    "# Our typical libraries\n",
    "import numpy as np\n",
    "from qiskit import QuantumCircuit, execute, transpile, Aer, IBMQ\n",
    "from qiskit.tools.jupyter import *\n",
    "from qiskit.visualization import *\n",
    "from ibm_quantum_widgets import *\n",
    "from qiskit_textbook.tools import array_to_latex\n",
    "\n",
    "# Loading your IBM Quantum account(s)\n",
    "provider = IBMQ.load_account()\n",
    "\n",
    "print(\"All libraries imported successfully!\")"
   ]
  },
  {
   "cell_type": "markdown",
   "id": "2ad97c2f",
   "metadata": {
    "id": "80b8c885"
   },
   "source": [
    "## Part 1 - Setting up the problem"
   ]
  },
  {
   "cell_type": "code",
   "execution_count": null,
   "id": "68e4019d",
   "metadata": {
    "id": "fcfc65f3"
   },
   "outputs": [],
   "source": [
    "# BLOCK 2 - Defining the knapsack problem. We define a list of values, a list of weights, the maximum weight, and then\n",
    "# put it all together into a variable called `problem' using the Knapsack function.\n",
    "values = [4, 2, 5, 10]   # list of the values of items\n",
    "weights = [3, 1, 2, 6]   # list of the weights of items\n",
    "max_weight = 10            # maximum weight capacity (knapsack capacity)\n",
    "\n",
    "knapsack_problem = Knapsack(values = values, weights = weights, max_weight = max_weight) #putting it all together"
   ]
  },
  {
   "cell_type": "markdown",
   "id": "221863cd",
   "metadata": {
    "id": "7851a50d"
   },
   "source": [
    "## Part 2 - Using a classical method to solve the problem"
   ]
  },
  {
   "cell_type": "code",
   "execution_count": null,
   "id": "3044672c",
   "metadata": {
    "id": "684496d9"
   },
   "outputs": [],
   "source": [
    "# BLOCK 3- Choosing the method of solving the knapsack problem. Since this is a small problem, \n",
    "#we can check the answer we will get later with VQE using a classical solver. \n",
    "# The method we will use to solve is called `NumPyMinimumEigensolver'.\n",
    "# We create a variable called method, and store the method we want to use \n",
    "#(NumPyMinimumEigensolver) in it.\n",
    "# Later, we will use VQE instead of the classical NumPyMinimumEigensolver.\n",
    "\n",
    "method = NumPyMinimumEigensolver()"
   ]
  },
  {
   "cell_type": "code",
   "execution_count": null,
   "id": "8355ccc9",
   "metadata": {
    "id": "53c144dd",
    "scrolled": true
   },
   "outputs": [],
   "source": [
    "# BLOCK 4 - Using the classical solver NumPyMinimumEigensolver. \n",
    "# Run this block to use the classical solver defined in Block 2 \n",
    "# to solve the knapsack problem defined in Block 1.\n",
    "\n",
    "calc = MinimumEigenOptimizer(method)\n",
    "result = calc.solve(knapsack_problem.to_quadratic_program())\n",
    "print('result:\\n', result)\n",
    "print('\\nsolution:\\n', knapsack_problem.interpret(result))"
   ]
  },
  {
   "cell_type": "markdown",
   "id": "5c76ba33",
   "metadata": {
    "id": "ad24a597"
   },
   "source": [
    "## Part 3 - Using VQE to solve the problem"
   ]
  },
  {
   "cell_type": "code",
   "execution_count": null,
   "id": "98f0823f",
   "metadata": {
    "id": "6dd5ca9f"
   },
   "outputs": [],
   "source": [
    "# BLOCK 5 - Converting the knapsack problem to a quantum circuit, \n",
    "# i.e., a colletion of quantum gates (or operators).\n",
    "# Run this block to convert the knapsack problem to a quantum operator, \n",
    "# and print the number of qubits used.\n",
    "\n",
    "operator, offset = QuadraticProgramToQubo().convert(knapsack_problem.to_quadratic_program()).to_ising()\n",
    "print(\"number of qubits =\",operator.num_qubits)"
   ]
  },
  {
   "cell_type": "code",
   "execution_count": null,
   "id": "917e05ca",
   "metadata": {
    "id": "970991c5"
   },
   "outputs": [],
   "source": [
    "# BLOCK 6 - Setting up VQE. We define a QuantumInstance, which is a way of specifying which simulator we want to use.\n",
    "# We define our tunable circuit for VQE. Here, we will choose EfficientSU2\n",
    "# We define which classical optimizer we want to use - here we will use one called SPSA\n",
    "# We tell our code to use VQE with the tunable circuit, the optimizer, and the quantum instance\n",
    "\n",
    "qinstance = QuantumInstance(backend=Aer.get_backend('qasm_simulator'), shots=1000)\n",
    "\n",
    "tunable_circuit = EfficientSU2(operator.num_qubits, reps=3, entanglement='full')\n",
    "#tunable_circuit = TwoLocal(operator.num_qubits, rotation_blocks = ['h', 'rx'], entanglement_blocks = 'cz', reps=3, entanglement='full')\n",
    "optimizer = SPSA(maxiter=15)\n",
    "\n",
    "method = VQE(ansatz = tunable_circuit, optimizer = optimizer, quantum_instance = qinstance)"
   ]
  },
  {
   "cell_type": "code",
   "execution_count": null,
   "id": "8db0736f",
   "metadata": {
    "id": "edc281af"
   },
   "outputs": [],
   "source": [
    "# BLOCK 7 - Running VQE and printing results. This is the same code as in Block 2. T\n",
    "#he only difference is that here, the method is VQE and not the classical NumPyMinimumEigensolver.\n",
    "\n",
    "calc = MinimumEigenOptimizer(method)\n",
    "result = calc.solve(knapsack_problem.to_quadratic_program())\n",
    "print('result:\\n', result)\n",
    "print('\\nsolution:\\n', knapsack_problem.interpret(result))\n",
    "#print('\\ntime:', result.min_eigen_solver_result.optimizer_time)"
   ]
  },
  {
   "cell_type": "code",
   "execution_count": null,
   "id": "0b6b7de8",
   "metadata": {
    "id": "9b0eff1b"
   },
   "outputs": [],
   "source": [
    "# BLOCK 8 - Drawing the tunable circuit. \n",
    "tunable_circuit.decompose().draw()"
   ]
  },
  {
   "cell_type": "markdown",
   "id": "38717d9e",
   "metadata": {
    "id": "3b89999f"
   },
   "source": [
    "# Tunable gates"
   ]
  },
  {
   "cell_type": "code",
   "execution_count": null,
   "id": "b51aaffe",
   "metadata": {
    "id": "b8521fb8"
   },
   "outputs": [],
   "source": [
    "# BLOCK 9 - The Rx gate. try changing the angle and see what the Rx gate does.\n",
    "\n",
    "angle = 15\n",
    "qc = QuantumCircuit(1)\n",
    "qc.rx(angle*np.pi/180,0)\n",
    "\n",
    "svsim = Aer.get_backend('statevector_simulator')\n",
    "job = execute(qc,svsim)\n",
    "result = job.result()\n",
    "\n",
    "state = result.get_statevector()\n",
    "plot_bloch_multivector(state)"
   ]
  },
  {
   "cell_type": "code",
   "execution_count": null,
   "id": "324ba415",
   "metadata": {
    "id": "eb9e62ef"
   },
   "outputs": [],
   "source": [
    "# BLOCK 10 - The Ry gate. try changing the angle and see what the Ry gate does.\n",
    "\n",
    "angle = 180\n",
    "qc = QuantumCircuit(1)\n",
    "qc.ry(angle*np.pi/180,0)\n",
    "\n",
    "svsim = Aer.get_backend('statevector_simulator')\n",
    "job = execute(qc,svsim)\n",
    "result = job.result()\n",
    "\n",
    "state = result.get_statevector()\n",
    "plot_bloch_multivector(state)"
   ]
  },
  {
   "cell_type": "code",
   "execution_count": null,
   "id": "3918c3da",
   "metadata": {
    "id": "d489d6bb"
   },
   "outputs": [],
   "source": [
    "# BLOCK 11 - The Rz gate. try changing the angle and see what the Rz gate does.\n",
    "\n",
    "angle = 180\n",
    "qc = QuantumCircuit(1)\n",
    "qc.rz(angle*np.pi/180,0)\n",
    "\n",
    "svsim = Aer.get_backend('statevector_simulator')\n",
    "job = execute(qc,svsim)\n",
    "result = job.result()\n",
    "\n",
    "state = result.get_statevector()\n",
    "plot_bloch_multivector(state)"
   ]
  },
  {
   "cell_type": "code",
   "execution_count": null,
   "id": "74148dd6",
   "metadata": {
    "id": "327beb7f"
   },
   "outputs": [],
   "source": []
  }
 ],
 "metadata": {
  "colab": {
   "name": "SS_Week4_Day2_lab_notebook (1) (3).ipynb",
   "provenance": []
  },
  "kernelspec": {
   "display_name": "Qiskit v0.29.0",
   "language": "python",
   "name": "python3"
  },
  "language_info": {
   "codemirror_mode": {
    "name": "ipython",
    "version": 3
   },
   "file_extension": ".py",
   "mimetype": "text/x-python",
   "name": "python",
   "nbconvert_exporter": "python",
   "pygments_lexer": "ipython3",
   "version": "3.8.10"
  },
  "widgets": {
   "application/vnd.jupyter.widget-state+json": {
    "state": {},
    "version_major": 2,
    "version_minor": 0
   }
  }
 },
 "nbformat": 4,
 "nbformat_minor": 5
}
