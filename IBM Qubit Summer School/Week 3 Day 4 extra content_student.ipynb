{
 "cells": [
  {
   "cell_type": "markdown",
   "metadata": {},
   "source": [
    "<div style=\"text-align: center; margin: 50px\">\n",
    "\n",
    "<h1 style=\"color: white; background-color: grey; text-align: center;\">Week 3, Day 4, Extra content</h1>\n",
    "<h3>Quantum Key Distribution</h3>\n",
    "\n",
    "</div>"
   ]
  },
  {
   "cell_type": "code",
   "execution_count": 1,
   "metadata": {},
   "outputs": [],
   "source": [
    "import numpy as np\n",
    "# Importing standard Qiskit libraries\n",
    "from qiskit import QuantumCircuit, execute, transpile, Aer, IBMQ\n",
    "from qiskit.tools.jupyter import *\n",
    "from qiskit.visualization import *\n",
    "from ibm_quantum_widgets import *\n",
    "from qiskit_textbook.tools import array_to_latex\n",
    "\n",
    "# Loading your IBM Quantum account(s)\n",
    "provider = IBMQ.load_account()\n",
    "\n",
    "from random import getrandbits\n"
   ]
  },
  {
   "cell_type": "markdown",
   "metadata": {},
   "source": [
    "## Coding cheat sheet:\n",
    "\n",
    "#Defining a quantum circuit: \n",
    "\n",
    "`qc = QuantumCircuit(1)` #Define a 1 qubit quantum circuit <br>\n",
    "\n",
    "`qc.x(0)` #Add an X gate <br>\n",
    "`qc.h(0)` #Add an H gate <br>\n",
    "`qc.z(0)` #Add a Z gate <br>\n",
    "`qc.y(0)` #Add a Y gate <br>\n",
    "\n",
    "`qc.draw()` #Draw the circuit <br>\n",
    "\n",
    "**Using the statevector simulator** (Do this no matter which way you want to see the output):<br>\n",
    "\n",
    "`svsim = Aer.get_backend('statevector_simulator')` # Tell it which simulator you want to use <br>\n",
    "`job = execute(qc,svsim)` # Put in the name of your quantum circuit where it says qc<br>\n",
    "`result = job.result()` <br>\n",
    "\n",
    "\n",
    "See the output on the Bloch sphere:<br>\n",
    "`state = result.get_statevector()` <br>\n",
    "`plot_bloch_multivector(state)`<br>\n",
    "\n",
    "See the output in vector form:<br>\n",
    "`state = result.get_statevector()` <br>\n",
    "`array_to_latex(state, pretext=\"\\\\text{Statevector} = \")` <br>\n",
    "\n",
    "See the output in histogram form: <br>\n",
    "`counts = result.get_counts(qc)` <br>\n",
    "`plot_histogram(counts)` <br>\n",
    "\n",
    "**Using the qasm simulator:**\n",
    "\n",
    "`qc.measure_all()` #adds measurements <br>\n",
    "\n",
    "`svsim = Aer.get_backend('qasm_simulator')` # Change statevector to qasm <br>\n",
    "`job = execute(qc,svsim,shots=100)` # add shots - tell it how many times to run <br>\n",
    "`result = job.result()` <br>\n",
    "\n",
    "\n",
    "**Using a real quantum computer:**\n",
    "\n",
    "Find the least busy backend: <br>\n",
    "`IBMQ.load_account()` <br>\n",
    "`provider = IBMQ.get_provider(hub='ibm-q')` <br>\n",
    "`backend = least_busy(provider.backends(filters=lambda x: x.configuration().n_qubits >= 2 \n",
    "                                       and not x.configuration().simulator \n",
    "                                       and x.status().operational==True))` <br>\n",
    "`print(\"least busy backend: \", backend)` <br>\n",
    "\n",
    "\n",
    "Run the job:\n",
    "`job = execute(qc, backend=backend, shots=100)`\n",
    "\n",
    "`result = job.result()` <br>\n",
    "`counts = result.get_counts(qc)` <br>\n",
    "`plot_histogram(counts)` \n",
    "\n",
    "\n",
    "\n"
   ]
  },
  {
   "cell_type": "markdown",
   "metadata": {},
   "source": [
    "<a id=\"step1\"></a>\n",
    "## Generate Alice's bitstring and bases\n",
    "\n",
    "Alice needs to randomly select a bit key and a basis in which to encode each bit.\n"
   ]
  },
  {
   "cell_type": "code",
   "execution_count": 8,
   "metadata": {},
   "outputs": [
    {
     "data": {
      "text/plain": [
       "'0'"
      ]
     },
     "execution_count": 8,
     "metadata": {},
     "output_type": "execute_result"
    }
   ],
   "source": [
    "#BLOCK 1 - try out the getrandbits function\n",
    "\n"
   ]
  },
  {
   "cell_type": "code",
   "execution_count": 2,
   "metadata": {},
   "outputs": [
    {
     "data": {
      "text/plain": [
       "'00110111010010000110110001011101100001011101011110000011100110001001000000000100000011110110000110110001001000100111110101011100110111110010110110011010000001111011110011010001000010100111110000111000010110000011010000000101100110001010000100000100001011000011110100011110011111101100101100011111111001101001110101011101101111010101110111000001111001111011110101001100010100001011111001111101110000001000011100000111110111000010010001111111101010011101011100111011111100110110111110011111010000111111'"
      ]
     },
     "execution_count": 2,
     "metadata": {},
     "output_type": "execute_result"
    }
   ],
   "source": [
    "# BLOCK 2 - Generate Alice's bitstring\n",
    "\n",
    "alice_bitstring = \"\"\n",
    "    "
   ]
  },
  {
   "cell_type": "code",
   "execution_count": 3,
   "metadata": {},
   "outputs": [
    {
     "data": {
      "text/plain": [
       "'11010000011101101101010000100010010011110110001001010011111100000110100010110011010101001010100000100111100000101101010100000111001111010101011010110101100010111011001010100101011001110101101110010100001010011101001010010100011001100110000010011111010000111001011011100011111000011110111111001100101110100001100101000000001111000001011001000001001011011010001010111101000011001101110001110100000011010010001011110100101100101010101111011000100111000010100100000010000011010000101110001111001011110100'"
      ]
     },
     "execution_count": 3,
     "metadata": {},
     "output_type": "execute_result"
    }
   ],
   "source": [
    "# BLOCK 3 - Generate Alice's bases\n",
    "\n",
    "alice_bases = \"\"\n",
    "    \n"
   ]
  },
  {
   "cell_type": "markdown",
   "metadata": {},
   "source": [
    "<a id=\"step3\"></a>\n",
    "## Encode classical bits using qubits\n",
    "\n",
    "\n",
    "The table below summarizes the qubit states Alice sends, based on the bit of Alice's `alice_bitstring` the corresponding bit of `selected_bases`:\n",
    "\n",
    "| Bit in `alice_bitstring` | Corresponding bit in `alice_bases` | Encoding basis | Qubit state sent |\n",
    "|:----------------:|:--------------------------:|:--------------------------:|:---------------:|\n",
    "| 0 | 0 | $$|0\\rangle,|1\\rangle$$ |$$|0\\rangle$$ |\n",
    "| 0 | 1 | $$|+\\rangle,|-\\rangle$$ |$$|+\\rangle$$ |\n",
    "| 1 | 0 | $$|0\\rangle,|1\\rangle$$ |$$|1\\rangle$$ |\n",
    "| 1 | 1 | $$|+\\rangle,|-\\rangle$$ |$$|-\\rangle$$ |"
   ]
  },
  {
   "cell_type": "code",
   "execution_count": 4,
   "metadata": {},
   "outputs": [],
   "source": [
    "#BLOCK 4 - Define a function to encode Alice's qubits\n",
    "\n",
    "def encode(alice_bitstring, alice_bases):\n",
    "    encoded_qubits = []\n",
    "    for i in range(500):\n",
    "        qc = QuantumCircuit(1)\n",
    "\n",
    "        # ADD HERE!\n",
    "            \n",
    "        encoded_qubits.append(qc)\n",
    "        \n",
    "    return encoded_qubits"
   ]
  },
  {
   "cell_type": "markdown",
   "metadata": {},
   "source": [
    "## Create Alice's encoded_qubits"
   ]
  },
  {
   "cell_type": "code",
   "execution_count": 5,
   "metadata": {},
   "outputs": [],
   "source": [
    "# BLOCK 5  - call the encode function to create the encoded qubits\n",
    "\n",
    "qubits = "
   ]
  },
  {
   "cell_type": "markdown",
   "metadata": {},
   "source": [
    "## Generate Eve's bases"
   ]
  },
  {
   "cell_type": "code",
   "execution_count": 6,
   "metadata": {},
   "outputs": [
    {
     "data": {
      "text/plain": [
       "'01100010111111110011111110001111010111101000100100100011011101111011100001010111011000011011011110101100100011000111110000100111111000100000000100001011101100111110000010000101011011100011011101101001000101001100101111000011011000100001111100101010011000101100110101011101000010100100111111011011110011000010011100001010101000001011011011110100101110110001000011101011100110011011111101000000000001100000011000100111100010011110011010010100000100101011100100100001000001110000100000001001010011010000'"
      ]
     },
     "execution_count": 6,
     "metadata": {},
     "output_type": "execute_result"
    }
   ],
   "source": [
    "# BLOCK 6 - Generate Eve's bases\n",
    "\n",
    "eve_bases = \"\"\n",
    "    \n"
   ]
  },
  {
   "cell_type": "markdown",
   "metadata": {},
   "source": [
    "## Eve makes measurements"
   ]
  },
  {
   "cell_type": "code",
   "execution_count": 7,
   "metadata": {},
   "outputs": [],
   "source": [
    "# BLOCK 7 - Eve makes measurements\n",
    "\n",
    "def measure_eve(eve_bases, encoded_qubits):\n",
    "    \n",
    "    # Stores the results of Bob's measurements\n",
    "    eve_bitstring = ''\n",
    "    \n",
    "    for i in range(len(encoded_qubits)):\n",
    "        qc = encoded_qubits[i]\n",
    "        \n",
    "        # ADD HERE!\n",
    "        \n",
    "        # Now that the measurements have been added to the circuit, let's run them.\n",
    "        job = execute(qc, backend=Aer.get_backend('qasm_simulator'), shots = 1) \n",
    "        results = job.result()\n",
    "        counts = results.get_counts()\n",
    "        measured_bit = max(counts, key=counts.get)\n",
    "        # Append measured bit to Bob's measured bitstring\n",
    "        eve_bitstring += measured_bit \n",
    "        \n",
    "    return eve_bitstring"
   ]
  },
  {
   "cell_type": "code",
   "execution_count": 8,
   "metadata": {},
   "outputs": [
    {
     "data": {
      "text/plain": [
       "'10000101110000001110011011010101100101001001111011010011100110001101000011000100000110100111010000111000001010100101010001111100000110110110100100011000001101111111111011010001000000100001000001011101011110010010010100010001100110001111010100110100001011010010110000000100101101101100101100011011111101101011111101011101001001011101110111010001111001110011111100011010110101011101111001101101110010001010001101000110111101110010010100111111101011010100011100111000111110110110110010011101010000011011'"
      ]
     },
     "execution_count": 8,
     "metadata": {},
     "output_type": "execute_result"
    }
   ],
   "source": [
    "# BLOCK 8 - Call function from Block 7\n",
    "\n",
    "eve_bitstring = \n",
    "eve_bitstring"
   ]
  },
  {
   "cell_type": "markdown",
   "metadata": {},
   "source": [
    "## Eve sends Bob new qubits using her bitstring"
   ]
  },
  {
   "cell_type": "code",
   "execution_count": 9,
   "metadata": {},
   "outputs": [],
   "source": [
    "# BLOCK 9 - Eve encodes new qubits\n",
    "\n",
    "qubits = "
   ]
  },
  {
   "cell_type": "markdown",
   "metadata": {},
   "source": [
    "## Generate Bob's bases"
   ]
  },
  {
   "cell_type": "code",
   "execution_count": 10,
   "metadata": {},
   "outputs": [
    {
     "data": {
      "text/plain": [
       "'00011110111110110110011000010011101011100101010111110100000000100110110010111110000111100010001110101010001001000011111011001110011101100011010100011100000010100100111110001000100011110000100010101000001111101100101101010010011000010010000110110111000000111100110100001110001010001010111110111000110101011101000101001000100110000010000110011001010001101111001100000000100001001001010010010110100100110000100100011100111001100101110110011010100000101000010111110110100100011011110101011100010110001111'"
      ]
     },
     "execution_count": 10,
     "metadata": {},
     "output_type": "execute_result"
    }
   ],
   "source": [
    "#BLOCK 10  - generate Bob's bases\n",
    "\n",
    "bob_bases = \"\"\n",
    "    \n",
    "\n"
   ]
  },
  {
   "cell_type": "markdown",
   "metadata": {},
   "source": [
    "## Bob makes measurements\n",
    "\n",
    "Bob now has to measure the qubits in a the random bases that he chose in part 2"
   ]
  },
  {
   "cell_type": "code",
   "execution_count": 11,
   "metadata": {},
   "outputs": [],
   "source": [
    "#BLOCK 11 - define a function to measure Alice's qubits\n",
    "\n",
    "def measure(bob_bases, encoded_qubits):\n",
    "    \n",
    "    # Stores the results of Bob's measurements\n",
    "    bob_bitstring = ''\n",
    "    \n",
    "    for i in range(len(encoded_qubits)):\n",
    "        qc = encoded_qubits[i]\n",
    "        \n",
    "        \n",
    "        \n",
    "        # Now that the measurements have been added to the circuit, let's run them.\n",
    "        job = execute(qc, backend=Aer.get_backend('qasm_simulator'), shots = 1) \n",
    "        results = job.result()\n",
    "        counts = results.get_counts()\n",
    "        measured_bit = max(counts, key=counts.get)\n",
    "\n",
    "        # Append measured bit to Bob's measured bitstring\n",
    "        bob_bitstring += measured_bit \n",
    "        \n",
    "    return bob_bitstring"
   ]
  },
  {
   "cell_type": "markdown",
   "metadata": {},
   "source": [
    "## Call the function to measure Alice's qubits\n"
   ]
  },
  {
   "cell_type": "code",
   "execution_count": 12,
   "metadata": {},
   "outputs": [
    {
     "data": {
      "text/plain": [
       "'10110101110000001011011101010101100001001101011011000010111011011001000001000100010111100111000000111010100010100001010011010101000010110101100100011101000011110111100011010001100000110001000001011100011100010010010100010000100110111111001110101100010011010010110000010110101101101110101100011000111011101110111101011101000001011101100010011101100011110111110000111011110111011111110100101101110110001010111001111110110110000010111000111111101011010101111110111111011010010111100111011100010101000000'"
      ]
     },
     "execution_count": 12,
     "metadata": {},
     "output_type": "execute_result"
    }
   ],
   "source": [
    "# BLOCK 12 - call the measure function\n",
    "\n",
    "bob_bitstring = \n",
    "bob_bitstring"
   ]
  },
  {
   "cell_type": "code",
   "execution_count": 13,
   "metadata": {},
   "outputs": [],
   "source": [
    "#BLOCK 13 - Define a function for Alice and Bob to compare their bases\n",
    "\n",
    "def compare_bases(alice_bases, bob_bases):\n",
    "    indices = []\n",
    "    \n",
    "    # ADD HERE!\n",
    "    \n",
    "    return indices"
   ]
  },
  {
   "cell_type": "markdown",
   "metadata": {},
   "source": [
    "## Alice and Bob compare their bases\n"
   ]
  },
  {
   "cell_type": "code",
   "execution_count": 14,
   "metadata": {},
   "outputs": [],
   "source": [
    "#BLOCK 14  - call the function to find the agreeing bases\n",
    "\n",
    "agreeing_bases = "
   ]
  },
  {
   "cell_type": "code",
   "execution_count": 15,
   "metadata": {},
   "outputs": [
    {
     "name": "stdout",
     "output_type": "stream",
     "text": [
      "1111000111001110001011000010010010000000000011110001100000110110101100110101000011011100010011100000101001100001100111100000001000101100011111111100101101111001101010110101101011000110111110101010001111101111100100101111010000011111101111111111111111011001\n",
      "1111000001101010001011010011110010000100000110111001110010110110000001100110000111011100011000001000110001100100100111110011001000001101011111111110101101001010111010110100001111010110101110011011011111010111100100111101010010011111101111111111101111011000\n"
     ]
    }
   ],
   "source": [
    "#BLOCK 15 - create the key\n",
    "\n",
    "alice_key = ''\n",
    "bob_key = ''\n",
    "\n",
    "# ADD HERE!\n",
    "\n",
    "print(alice_key)\n",
    "print(bob_key)\n"
   ]
  },
  {
   "cell_type": "code",
   "execution_count": 16,
   "metadata": {},
   "outputs": [
    {
     "name": "stdout",
     "output_type": "stream",
     "text": [
      "1111000111\n",
      "1111000001\n",
      "False\n"
     ]
    }
   ],
   "source": [
    "# BLOCK 16 - Compare keys\n",
    "\n",
    "print(alice_key[:10])\n",
    "print(bob_key[:10])\n",
    "print(alice_key == bob_key)"
   ]
  }
 ],
 "metadata": {
  "kernelspec": {
   "display_name": "Python 3",
   "language": "python",
   "name": "python3"
  },
  "language_info": {
   "codemirror_mode": {
    "name": "ipython",
    "version": 3
   },
   "file_extension": ".py",
   "mimetype": "text/x-python",
   "name": "python",
   "nbconvert_exporter": "python",
   "pygments_lexer": "ipython3",
   "version": "3.8.10"
  }
 },
 "nbformat": 4,
 "nbformat_minor": 4
}
