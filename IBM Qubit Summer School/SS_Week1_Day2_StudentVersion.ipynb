{
 "cells": [
  {
   "cell_type": "markdown",
   "id": "d4ff8d9e",
   "metadata": {},
   "source": [
    "# Week 1 Day 2 lab"
   ]
  },
  {
   "cell_type": "markdown",
   "id": "798daf6c",
   "metadata": {},
   "source": [
    "## Topics that we will cover\n",
    "\n",
    "1. For loops\n",
    "2. Range\n",
    "3. Functions"
   ]
  },
  {
   "cell_type": "markdown",
   "id": "6f643708",
   "metadata": {},
   "source": [
    "## For loops"
   ]
  },
  {
   "cell_type": "code",
   "execution_count": null,
   "id": "3be3e99c",
   "metadata": {
    "scrolled": true
   },
   "outputs": [],
   "source": [
    "# Block 1 - Print all the items in the list by using a for loop\n",
    "\n",
    "my_list = [1,2,3,4,5,6,7,8,9,10]\n",
    "\n"
   ]
  },
  {
   "cell_type": "code",
   "execution_count": null,
   "id": "d70815d6",
   "metadata": {},
   "outputs": [],
   "source": [
    "# BLOCK 2  - Print all the items in the list using a for loop\n",
    "\n",
    "favorite_animals = [\"snakes\", \"seals\", \"bunnies\", \"cats\"]\n"
   ]
  },
  {
   "cell_type": "markdown",
   "id": "d7bc4861",
   "metadata": {},
   "source": [
    "## Range"
   ]
  },
  {
   "cell_type": "code",
   "execution_count": null,
   "id": "12504b64",
   "metadata": {
    "scrolled": true
   },
   "outputs": [],
   "source": [
    "# Block 3 - Use range() to print the numbers 0-9\n",
    "\n"
   ]
  },
  {
   "cell_type": "code",
   "execution_count": null,
   "id": "b7e5d219",
   "metadata": {},
   "outputs": [],
   "source": [
    "# Block 4 - Print the numbers between 1 and 15 using range\n",
    "\n"
   ]
  },
  {
   "cell_type": "code",
   "execution_count": null,
   "id": "d9e18650",
   "metadata": {},
   "outputs": [],
   "source": [
    "# BLOCK 5 - Print the numbers between 6-12 using range\n",
    "\n"
   ]
  },
  {
   "cell_type": "code",
   "execution_count": null,
   "id": "245a7494",
   "metadata": {},
   "outputs": [],
   "source": [
    "# Block 6 - Print the multiples of 5 between 5 and 20 using range\n",
    "\n"
   ]
  },
  {
   "cell_type": "code",
   "execution_count": null,
   "id": "937901ce",
   "metadata": {},
   "outputs": [],
   "source": [
    "# BLOCK 7 - Store a list containing the numbers 1-10. \n",
    "# Use a for loop to print out each number times 5\n",
    "\n"
   ]
  },
  {
   "cell_type": "code",
   "execution_count": null,
   "id": "ac022841",
   "metadata": {},
   "outputs": [],
   "source": [
    "# BLOCK 8 - Use a for loop to store the numbers 0-10 in a list\n",
    "\n"
   ]
  },
  {
   "cell_type": "code",
   "execution_count": null,
   "id": "177dcb64",
   "metadata": {},
   "outputs": [],
   "source": [
    "# Block 9 - Copy the code sent by your TA in the chat and run it.\n",
    "# Is the output what you expected?\n",
    "\n"
   ]
  },
  {
   "cell_type": "code",
   "execution_count": null,
   "id": "a696ce41",
   "metadata": {},
   "outputs": [],
   "source": [
    "# Block 10 - Copy the code sent by your TA in the chat and run it.\n",
    "# Is the output what you expected?\n",
    "\n"
   ]
  },
  {
   "cell_type": "markdown",
   "id": "8bc7e0cf",
   "metadata": {},
   "source": [
    "## Functions"
   ]
  },
  {
   "cell_type": "code",
   "execution_count": null,
   "id": "786a30e1",
   "metadata": {},
   "outputs": [],
   "source": [
    "# BLOCK 11 - Run this block to see how to define a function\n",
    "\n",
    "def addition(x,y):\n",
    "    print(x+y)\n",
    "    "
   ]
  },
  {
   "cell_type": "code",
   "execution_count": null,
   "id": "fccfe497",
   "metadata": {},
   "outputs": [],
   "source": [
    "# BLOCK 12 - Call the function addition\n",
    "\n"
   ]
  },
  {
   "cell_type": "code",
   "execution_count": null,
   "id": "ee67a2dc",
   "metadata": {},
   "outputs": [],
   "source": [
    "# BLOCK 13 - Define a function subtraction that takes inputs x and y \n",
    "# and does x - y\n",
    "\n"
   ]
  },
  {
   "cell_type": "code",
   "execution_count": null,
   "id": "7481f0d0",
   "metadata": {},
   "outputs": [],
   "source": [
    "# BLOCK 14 - Call the function subtraction\n",
    "\n"
   ]
  },
  {
   "cell_type": "code",
   "execution_count": null,
   "id": "c174e613",
   "metadata": {},
   "outputs": [],
   "source": [
    "# BLOCK 15 - Run this block to see how a function can return a value\n",
    "\n",
    "def addition(x,y):\n",
    "    return x+y"
   ]
  },
  {
   "cell_type": "code",
   "execution_count": null,
   "id": "d01c03db",
   "metadata": {},
   "outputs": [],
   "source": [
    "# BLOCK 16 - Call the function addition and store the result in a new variable\n",
    "\n"
   ]
  },
  {
   "cell_type": "code",
   "execution_count": null,
   "id": "7d77c9ba",
   "metadata": {},
   "outputs": [],
   "source": [
    "# BLOCK 17 - Define a function called multiply that multiplies two numbers\n",
    "# and returns the result\n",
    "\n"
   ]
  },
  {
   "cell_type": "code",
   "execution_count": null,
   "id": "b8d6e221",
   "metadata": {},
   "outputs": [],
   "source": [
    "#BLOCK 18 - Call the function multiply and store the result in a new variable\n",
    "\n"
   ]
  },
  {
   "cell_type": "code",
   "execution_count": null,
   "id": "95121b17",
   "metadata": {},
   "outputs": [],
   "source": [
    "# Block 19 - Copy and paste the code given to you by your TA to \n",
    "# run this block to define the function 'compare'\n",
    "\n"
   ]
  },
  {
   "cell_type": "code",
   "execution_count": null,
   "id": "71a3735e",
   "metadata": {},
   "outputs": [],
   "source": [
    "# Block 20 - Call the function 'compare'\n",
    "\n"
   ]
  },
  {
   "cell_type": "code",
   "execution_count": null,
   "id": "b0c77045",
   "metadata": {},
   "outputs": [],
   "source": [
    "# Block 21 - Can you modify the code in Block 19 to store the indices of the \n",
    "#agreeing numbers on the list?\n",
    "\n"
   ]
  },
  {
   "cell_type": "code",
   "execution_count": null,
   "id": "4204989a",
   "metadata": {},
   "outputs": [],
   "source": [
    "# Block 22 -Copy the code sent by your TA in the chat and run it.\n",
    "\n"
   ]
  },
  {
   "cell_type": "code",
   "execution_count": null,
   "id": "19a31037",
   "metadata": {
    "scrolled": true
   },
   "outputs": [],
   "source": [
    "# BLOCK 23 - Call the function guess_lucky\n",
    "\n"
   ]
  },
  {
   "cell_type": "markdown",
   "id": "3530e24f",
   "metadata": {},
   "source": [
    "## Putting it together - linear search"
   ]
  },
  {
   "cell_type": "code",
   "execution_count": null,
   "id": "3644214d",
   "metadata": {},
   "outputs": [],
   "source": [
    "# BLOCK 24 - Define a list containing the multiples of 2 from 2-14\n",
    "# bonus - use a for loop!\n"
   ]
  },
  {
   "cell_type": "code",
   "execution_count": null,
   "id": "bfbdbcf4",
   "metadata": {},
   "outputs": [],
   "source": [
    "# BLOCK 25 - Find the index of the number 6\n",
    "\n"
   ]
  },
  {
   "cell_type": "code",
   "execution_count": null,
   "id": "0fd4d885",
   "metadata": {},
   "outputs": [],
   "source": [
    "# BLOCK 26 - Write a function that does linear search!\n",
    "\n"
   ]
  },
  {
   "cell_type": "code",
   "execution_count": null,
   "id": "86c3e7a3",
   "metadata": {},
   "outputs": [],
   "source": [
    "# BLOCK 27 - Call the function\n",
    "\n"
   ]
  },
  {
   "cell_type": "code",
   "execution_count": null,
   "id": "b7006ead",
   "metadata": {},
   "outputs": [],
   "source": []
  }
 ],
 "metadata": {
  "kernelspec": {
   "display_name": "Python 3",
   "language": "python",
   "name": "python3"
  },
  "language_info": {
   "codemirror_mode": {
    "name": "ipython",
    "version": 3
   },
   "file_extension": ".py",
   "mimetype": "text/x-python",
   "name": "python",
   "nbconvert_exporter": "python",
   "pygments_lexer": "ipython3",
   "version": "3.8.10"
  }
 },
 "nbformat": 4,
 "nbformat_minor": 5
}
