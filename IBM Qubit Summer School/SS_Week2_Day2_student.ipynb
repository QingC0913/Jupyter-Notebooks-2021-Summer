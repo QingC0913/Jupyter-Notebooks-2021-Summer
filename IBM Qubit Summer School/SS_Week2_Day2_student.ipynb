{
 "cells": [
  {
   "cell_type": "code",
   "execution_count": null,
   "id": "assured-personality",
   "metadata": {
    "id": "assured-personality"
   },
   "outputs": [],
   "source": [
    "%matplotlib inline\n",
    "# Importing standard Qiskit libraries\n",
    "from qiskit import QuantumCircuit, execute, Aer, IBMQ\n",
    "from qiskit.compiler import transpile, assemble\n",
    "from qiskit.tools.jupyter import *\n",
    "from qiskit.visualization import *\n",
    "from ibm_quantum_widgets import *\n",
    "from qiskit_textbook.tools import array_to_latex\n",
    "\n",
    "# Loading your IBM Q account(s)\n",
    "provider = IBMQ.load_account()\n",
    "\n",
    "print(\"Libraries have imported\")"
   ]
  },
  {
   "cell_type": "markdown",
   "id": "selected-ceramic",
   "metadata": {
    "id": "selected-ceramic"
   },
   "source": [
    "# Week 2 day 2 - Applying gates to quantum states\n",
    "\n"
   ]
  },
  {
   "cell_type": "markdown",
   "id": "geological-grace",
   "metadata": {
    "id": "geological-grace"
   },
   "source": [
    "# Coding cheat sheet:\n",
    "\n",
    "### Defining a quantum circuit: \n",
    "\n",
    "`qc = QuantumCircuit(1)` Define a 1 qubit quantum circuit <br>\n",
    "\n",
    "`qc.x(0)` Add an X gate <br>\n",
    "`qc.h(0)` Add an H gate <br>\n",
    "`qc.z(0)` Add a Z gate <br>\n",
    "`qc.y(0)` Add a Y gate <br>\n",
    "\n",
    "`qc.draw()` Draw the circuit <br>\n",
    "\n",
    "### Set up the statevector simulator:<br>\n",
    "`svsim = Aer.get_backend('statevector_simulator')` # Tell it which simulator you want to use <br>\n",
    "`job = execute(qc,svsim)` # Put in the name of your quantum circuit where it says qc<br>\n",
    "`result = job.result()` <br>\n",
    "`state = result.get_statevector()` <br>\n",
    "\n",
    "See the output on the Bloch sphere:<br>\n",
    "`plot_bloch_multivector(state)`<br>\n",
    "\n",
    "See the output in vector form:<br>\n",
    "`array_to_latex(state, pretext=\"\\\\text{Statevector} = \")` <br>\n",
    "\n",
    "See the output in histogram form: <br>\n",
    "`svsim = Aer.get_backend('statevector_simulator')` # Same as before (tell it what simulator you want to use) <br>\n",
    "`job = execute(qc,svsim,shots=100)` # Here you have to add shots - tell it how many times to run. <br>\n",
    "`result = job.result()` <br>\n",
    "`counts = result.get_counts(qc)` <br>\n",
    "`plot_histogram(counts)` <br>\n",
    "\n",
    "### Using a real quantum computer:\n",
    "\n",
    "First check which one is the least busy: <br>\n",
    "`from qiskit import IBMQ` <br>\n",
    "`from qiskit.providers.ibmq import least_busy` <br>\n",
    "\n",
    "#ask for the least busy quantum computer <br>\n",
    "`provider = IBMQ.get_provider(hub='ibm-q')` <br>\n",
    "`backend = least_busy(provider.backends(filters=lambda x: x.configuration().n_qubits >= 2 and not x.configuration().simulator and x.status().operational==True))` <br>\n",
    "#tell us what the least busy one is <br>\n",
    "`print(\"least busy backend: \", backend)` <br>\n",
    "\n",
    "\n",
    "Then run the job <br>\n",
    "`job = execute(qc, backend=backend, shots=100)`\n",
    "`result = job.result()` <br>\n",
    "`counts = result.get_counts(qc)` <br>\n",
    "`plot_histogram(counts)` "
   ]
  },
  {
   "cell_type": "markdown",
   "id": "1210fc97",
   "metadata": {},
   "source": [
    "## Applying multiple gates to qubits"
   ]
  },
  {
   "cell_type": "code",
   "execution_count": null,
   "id": "9316e177",
   "metadata": {
    "id": "9316e177"
   },
   "outputs": [],
   "source": [
    "# BLOCK 1 - Create a one-qubit quantum circuit with an H gate followed by a Z gate. \n",
    "#Run this circuit using statevector simulator to find the output statevector.\n",
    "\n"
   ]
  },
  {
   "cell_type": "code",
   "execution_count": null,
   "id": "innovative-column",
   "metadata": {
    "id": "innovative-column"
   },
   "outputs": [],
   "source": [
    "# BLOCK 2 - Create a one qubit circuit with a Z gate followed by an H gate. \n",
    "#Run this circuit using statevector simulator to find the output statevector.\n",
    "\n"
   ]
  },
  {
   "cell_type": "code",
   "execution_count": null,
   "id": "cf43381e",
   "metadata": {
    "id": "innovative-column"
   },
   "outputs": [],
   "source": [
    "# BLOCK 3 - Create a one qubit circuit with an H gate followed by another H gate. \n",
    "#Run this circuit using statevector simulator to find the output statevector.\n",
    "\n"
   ]
  },
  {
   "cell_type": "code",
   "execution_count": null,
   "id": "02bfa462",
   "metadata": {},
   "outputs": [],
   "source": [
    "# Block 4 - copy and paste the code provided to you by your TA.\n",
    "\n"
   ]
  },
  {
   "cell_type": "code",
   "execution_count": null,
   "id": "8372acff",
   "metadata": {},
   "outputs": [],
   "source": [
    "# Block 5 - copy and paste the code provided to you by your TA.\n",
    "\n"
   ]
  },
  {
   "cell_type": "code",
   "execution_count": null,
   "id": "e8b634ac",
   "metadata": {},
   "outputs": [],
   "source": [
    "#Block 6 – Create a list ‘qc_gates’ = [0,1,0,0,1,1]. \n",
    "#Using for loops and if statements, create a unique quantum circuit with 1 qubit for each element of this list. \n",
    "#If the list element is 0, add a Z gate to the circuit. If the list element is 1, add an X gate.\n",
    "\n"
   ]
  },
  {
   "cell_type": "code",
   "execution_count": null,
   "id": "9afb033a",
   "metadata": {},
   "outputs": [],
   "source": [
    "# Block 7 - copy and paste the code provided by your TA\n",
    "\n"
   ]
  },
  {
   "cell_type": "markdown",
   "id": "708a8be6",
   "metadata": {},
   "source": [
    "## Optional content"
   ]
  },
  {
   "cell_type": "code",
   "execution_count": null,
   "id": "5605bf83",
   "metadata": {},
   "outputs": [],
   "source": [
    "#BLOCK A - This code will add the circuit composer widget\n",
    "# you can then drag and drop gates. Click \"create a cell and synchronize output\" and the code will appear below!\n",
    "# in the code that appears below, add your own code to run the circuits\n",
    "\n",
    "from ibm_quantum_widgets import CircuitComposer\n",
    "editor = CircuitComposer()\n",
    "editor"
   ]
  },
  {
   "cell_type": "code",
   "execution_count": null,
   "id": "d0d01efd",
   "metadata": {},
   "outputs": [],
   "source": [
    "# This code is being generated automatically by the IBM Quantum Circuit Composer widget.\n",
    "# It changes in every update of the widget, so any modifications done in this cell will be lost.\n",
    "# State: synchronized\n",
    "\n"
   ]
  },
  {
   "cell_type": "code",
   "execution_count": null,
   "id": "1a9f4072",
   "metadata": {},
   "outputs": [],
   "source": [
    "# BLOCK B - Using the circuit composer widget, can you figure out the rules of the Toffoli gate (CCNOT)?\n",
    "\n"
   ]
  },
  {
   "cell_type": "code",
   "execution_count": null,
   "id": "051e4f4c",
   "metadata": {},
   "outputs": [],
   "source": [
    "# BLOCK C - Using the circuit composer widget, can you use CNOT gates to swap the value of two qubits?\n",
    "\n"
   ]
  }
 ],
 "metadata": {
  "colab": {
   "name": "Week 2 Day 4.ipynb",
   "provenance": []
  },
  "kernelspec": {
   "display_name": "Python 3",
   "language": "python",
   "name": "python3"
  },
  "language_info": {
   "codemirror_mode": {
    "name": "ipython",
    "version": 3
   },
   "file_extension": ".py",
   "mimetype": "text/x-python",
   "name": "python",
   "nbconvert_exporter": "python",
   "pygments_lexer": "ipython3",
   "version": "3.8.10"
  },
  "widgets": {
   "application/vnd.jupyter.widget-state+json": {
    "state": {
     "005f22ff69144dd0a52cd6eb4dd55f07": {
      "model_module": "@jupyter-widgets/base",
      "model_module_version": "1.2.0",
      "model_name": "LayoutModel",
      "state": {
       "width": "190px"
      }
     },
     "04c808eca41640a78fed12d052fbc04f": {
      "model_module": "@jupyter-widgets/controls",
      "model_module_version": "1.5.0",
      "model_name": "DescriptionStyleModel",
      "state": {
       "description_width": ""
      }
     },
     "0679a14d8dff4660b0de3c0a2bdc6c73": {
      "model_module": "@jupyter-widgets/controls",
      "model_module_version": "1.5.0",
      "model_name": "DescriptionStyleModel",
      "state": {
       "description_width": ""
      }
     },
     "2475a2f870264e399dec5a32a174eccd": {
      "model_module": "@jupyter-widgets/controls",
      "model_module_version": "1.5.0",
      "model_name": "ButtonStyleModel",
      "state": {}
     },
     "271f3f30e9d94615b4563d7d647eead4": {
      "model_module": "@jupyter-widgets/controls",
      "model_module_version": "1.5.0",
      "model_name": "DescriptionStyleModel",
      "state": {
       "description_width": ""
      }
     },
     "3281a647bede4021a6d30cd41eae2424": {
      "model_module": "@jupyter-widgets/controls",
      "model_module_version": "1.5.0",
      "model_name": "HTMLModel",
      "state": {
       "layout": "IPY_MODEL_b9f2207fda9c45d3a5f39108e0f27648",
       "style": "IPY_MODEL_04c808eca41640a78fed12d052fbc04f",
       "value": "<p style='font-family: IBM Plex Sans, Arial, Helvetica, sans-serif; font-size: 20px; font-weight: medium;'>Circuit Properties</p>"
      }
     },
     "33828ddf10084c2db53fe0ec551be771": {
      "model_module": "@quantum/ibm-q-lab-widgets",
      "model_module_version": "^1.0.3",
      "model_name": "CircuitComposerModel",
      "state": {
       "_model_module_version": "^1.0.3",
       "_view_module_version": "^1.0.3",
       "circuit": "\"OPENQASM 2.0;\\ninclude \\\"qelib1.inc\\\";\\n\\nqreg q[2];\\ncreg c[2];\\n\\nh q[0];\\nx q[1];\"",
       "editable": true,
       "layout": "IPY_MODEL_934c0c0d692d48abab0c9fb895549198",
       "qiskit_code_cell_index": 13
      }
     },
     "479357da13334bf4aca42759a6a6c632": {
      "model_module": "@jupyter-widgets/base",
      "model_module_version": "1.2.0",
      "model_name": "LayoutModel",
      "state": {
       "grid_area": "right",
       "padding": "0px 0px 0px 0px",
       "width": "70px"
      }
     },
     "6b04aa33bc744d02bfeacbb6e6b4e197": {
      "model_module": "@jupyter-widgets/controls",
      "model_module_version": "1.5.0",
      "model_name": "DescriptionStyleModel",
      "state": {
       "description_width": ""
      }
     },
     "6bea6a80212a40d2adb038223e9a0b29": {
      "model_module": "@jupyter-widgets/controls",
      "model_module_version": "1.5.0",
      "model_name": "DescriptionStyleModel",
      "state": {
       "description_width": ""
      }
     },
     "6c69aeda466a4559a57e0d3e8328e6ff": {
      "model_module": "@jupyter-widgets/controls",
      "model_module_version": "1.5.0",
      "model_name": "HTMLModel",
      "state": {
       "layout": "IPY_MODEL_005f22ff69144dd0a52cd6eb4dd55f07",
       "style": "IPY_MODEL_88eabfcfbe9a4f45acf2c9b17105c349",
       "value": "<h5>Job ID</h5>"
      }
     },
     "6f560a649eeb479bb749b7af15d0a581": {
      "model_module": "@jupyter-widgets/controls",
      "model_module_version": "1.5.0",
      "model_name": "ButtonModel",
      "state": {
       "button_style": "primary",
       "description": "Clear",
       "layout": "IPY_MODEL_479357da13334bf4aca42759a6a6c632",
       "style": "IPY_MODEL_2475a2f870264e399dec5a32a174eccd"
      }
     },
     "72a542fa4d8b4f4f94f4f3a908913cd1": {
      "model_module": "@jupyter-widgets/base",
      "model_module_version": "1.2.0",
      "model_name": "LayoutModel",
      "state": {
       "width": "145px"
      }
     },
     "8828a54def9549d091689c97919a3900": {
      "model_module": "@jupyter-widgets/controls",
      "model_module_version": "1.5.0",
      "model_name": "HTMLModel",
      "state": {
       "layout": "IPY_MODEL_f80230c85d824ea98ccdd480c4c4d072",
       "style": "IPY_MODEL_6bea6a80212a40d2adb038223e9a0b29",
       "value": "<h5>Status</h5>"
      }
     },
     "88eabfcfbe9a4f45acf2c9b17105c349": {
      "model_module": "@jupyter-widgets/controls",
      "model_module_version": "1.5.0",
      "model_name": "DescriptionStyleModel",
      "state": {
       "description_width": ""
      }
     },
     "934c0c0d692d48abab0c9fb895549198": {
      "model_module": "@jupyter-widgets/base",
      "model_module_version": "1.2.0",
      "model_name": "LayoutModel",
      "state": {}
     },
     "a3eab3704edb424eb034ef69908278b1": {
      "model_module": "@jupyter-widgets/base",
      "model_module_version": "1.2.0",
      "model_name": "LayoutModel",
      "state": {
       "width": "70px"
      }
     },
     "b6b192508b0c469395f2a63d7c336429": {
      "model_module": "@jupyter-widgets/controls",
      "model_module_version": "1.5.0",
      "model_name": "HBoxModel",
      "state": {
       "children": [
        "IPY_MODEL_6c69aeda466a4559a57e0d3e8328e6ff",
        "IPY_MODEL_f8ae6e23a78a42baa011225a723c46e4",
        "IPY_MODEL_8828a54def9549d091689c97919a3900",
        "IPY_MODEL_f0c7c0c81d12488ca2991ddf502989d7",
        "IPY_MODEL_be8754ccdaf0464fa3477c23a1ba4ce7"
       ],
       "layout": "IPY_MODEL_c0184bde52fe4969bc3ba0f0daf445d6"
      }
     },
     "b9a4d8ed61124f408224c6a65c963671": {
      "model_module": "@jupyter-widgets/controls",
      "model_module_version": "1.5.0",
      "model_name": "GridBoxModel",
      "state": {
       "children": [
        "IPY_MODEL_6f560a649eeb479bb749b7af15d0a581"
       ],
       "layout": "IPY_MODEL_e7006eaad73546029ca229cd2335c7b6"
      }
     },
     "b9f2207fda9c45d3a5f39108e0f27648": {
      "model_module": "@jupyter-widgets/base",
      "model_module_version": "1.2.0",
      "model_name": "LayoutModel",
      "state": {
       "margin": "0px 0px 10px 0px"
      }
     },
     "be8754ccdaf0464fa3477c23a1ba4ce7": {
      "model_module": "@jupyter-widgets/controls",
      "model_module_version": "1.5.0",
      "model_name": "HTMLModel",
      "state": {
       "layout": "IPY_MODEL_cca82dd334504d26b4eb83c195e9c6aa",
       "style": "IPY_MODEL_6b04aa33bc744d02bfeacbb6e6b4e197",
       "value": "<h5>Message</h5>"
      }
     },
     "c0184bde52fe4969bc3ba0f0daf445d6": {
      "model_module": "@jupyter-widgets/base",
      "model_module_version": "1.2.0",
      "model_name": "LayoutModel",
      "state": {
       "margin": "0px 0px 0px 37px",
       "width": "600px"
      }
     },
     "cca82dd334504d26b4eb83c195e9c6aa": {
      "model_module": "@jupyter-widgets/base",
      "model_module_version": "1.2.0",
      "model_name": "LayoutModel",
      "state": {}
     },
     "e7006eaad73546029ca229cd2335c7b6": {
      "model_module": "@jupyter-widgets/base",
      "model_module_version": "1.2.0",
      "model_name": "LayoutModel",
      "state": {
       "grid_template_areas": "\n                                       \". . . . right \"\n                                        ",
       "grid_template_columns": "20% 20% 20% 20% 20%",
       "width": "100%"
      }
     },
     "f0c7c0c81d12488ca2991ddf502989d7": {
      "model_module": "@jupyter-widgets/controls",
      "model_module_version": "1.5.0",
      "model_name": "HTMLModel",
      "state": {
       "layout": "IPY_MODEL_a3eab3704edb424eb034ef69908278b1",
       "style": "IPY_MODEL_271f3f30e9d94615b4563d7d647eead4",
       "value": "<h5>Queue</h5>"
      }
     },
     "f80230c85d824ea98ccdd480c4c4d072": {
      "model_module": "@jupyter-widgets/base",
      "model_module_version": "1.2.0",
      "model_name": "LayoutModel",
      "state": {
       "width": "95px"
      }
     },
     "f8ae6e23a78a42baa011225a723c46e4": {
      "model_module": "@jupyter-widgets/controls",
      "model_module_version": "1.5.0",
      "model_name": "HTMLModel",
      "state": {
       "layout": "IPY_MODEL_72a542fa4d8b4f4f94f4f3a908913cd1",
       "style": "IPY_MODEL_0679a14d8dff4660b0de3c0a2bdc6c73",
       "value": "<h5>Backend</h5>"
      }
     }
    },
    "version_major": 2,
    "version_minor": 0
   }
  }
 },
 "nbformat": 4,
 "nbformat_minor": 5
}
