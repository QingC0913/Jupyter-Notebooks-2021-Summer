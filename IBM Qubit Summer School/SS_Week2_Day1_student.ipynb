{
 "cells": [
  {
   "cell_type": "code",
   "execution_count": null,
   "id": "assured-personality",
   "metadata": {
    "id": "assured-personality"
   },
   "outputs": [],
   "source": [
    "%matplotlib inline\n",
    "# Importing standard Qiskit libraries\n",
    "from qiskit import QuantumCircuit, execute, Aer, IBMQ\n",
    "from qiskit.compiler import transpile, assemble\n",
    "from qiskit.tools.jupyter import *\n",
    "from qiskit.visualization import *\n",
    "from ibm_quantum_widgets import *\n",
    "from qiskit_textbook.tools import array_to_latex\n",
    "\n",
    "from numpy import pi\n",
    "\n",
    "# Loading your IBM Q account(s)\n",
    "provider = IBMQ.load_account()"
   ]
  },
  {
   "cell_type": "markdown",
   "id": "selected-ceramic",
   "metadata": {
    "id": "selected-ceramic"
   },
   "source": [
    "# Week 2 day 1 - Creating quantum circuits\n",
    "\n"
   ]
  },
  {
   "cell_type": "markdown",
   "id": "geological-grace",
   "metadata": {
    "id": "geological-grace"
   },
   "source": [
    "# Coding cheat sheet:\n",
    "\n",
    "### Defining a quantum circuit: \n",
    "\n",
    "`qc = QuantumCircuit(1)` Define a 1 qubit quantum circuit <br>\n",
    "\n",
    "`qc.x(0)` Add an X gate <br>\n",
    "`qc.h(0)` Add an H gate <br>\n",
    "`qc.z(0)` Add a Z gate <br>\n",
    "`qc.y(0)` Add a Y gate <br>\n",
    "\n",
    "`qc.draw()` Draw the circuit <br>\n",
    "\n",
    "### Set up the statevector simulator:<br>\n",
    "`svsim = Aer.get_backend('statevector_simulator')` # Tell it which simulator you want to use <br>\n",
    "`job = execute(qc,svsim)` # Put in the name of your quantum circuit where it says qc<br>\n",
    "`result = job.result()` <br>\n",
    "`state = result.get_statevector()` <br>\n",
    "\n",
    "See the output on the Bloch sphere:<br>\n",
    "`plot_bloch_multivector(state)`<br>\n",
    "\n",
    "See the output in vector form:<br>\n",
    "`array_to_latex(state, pretext=\"\\\\text{Statevector} = \")` <br>\n",
    "\n",
    "See the output in histogram form: <br>\n",
    "`svsim = Aer.get_backend('statevector_simulator')` # Same as before (tell it what simulator you want to use) <br>\n",
    "`job = execute(qc,svsim,shots=100)` # Here you have to add shots - tell it how many times to run. <br>\n",
    "`result = job.result()` <br>\n",
    "`counts = result.get_counts(qc)` <br>\n",
    "`plot_histogram(counts)` <br>\n",
    "\n",
    "### Using a real quantum computer:\n",
    "\n",
    "First check which one is the least busy: <br>\n",
    "`from qiskit import IBMQ` <br>\n",
    "`from qiskit.providers.ibmq import least_busy` <br>\n",
    "\n",
    "#ask for the least busy quantum computer <br>\n",
    "`provider = IBMQ.get_provider(hub='ibm-q')` <br>\n",
    "`backend = least_busy(provider.backends(filters=lambda x: x.configuration().n_qubits >= 2 and not x.configuration().simulator and x.status().operational==True))` <br>\n",
    "#tell us what the least busy one is <br>\n",
    "`print(\"least busy backend: \", backend)` <br>\n",
    "\n",
    "\n",
    "Then run the job <br>\n",
    "`job = execute(qc, backend=backend, shots=100)`\n",
    "`result = job.result()` <br>\n",
    "`counts = result.get_counts(qc)` <br>\n",
    "`plot_histogram(counts)` \n",
    "\n"
   ]
  },
  {
   "cell_type": "markdown",
   "id": "crazy-holocaust",
   "metadata": {
    "id": "crazy-holocaust"
   },
   "source": [
    "## Creating quantum circuits\n"
   ]
  },
  {
   "cell_type": "code",
   "execution_count": null,
   "id": "several-tractor",
   "metadata": {
    "id": "several-tractor",
    "outputId": "d13ffa5a-1928-44c5-d476-8e2291e5c4a5",
    "scrolled": false
   },
   "outputs": [],
   "source": [
    "# BLOCK 1  - Create a single qubit quantum circuit. Draw the circuit\n",
    "\n"
   ]
  },
  {
   "cell_type": "code",
   "execution_count": null,
   "id": "9b7604ee",
   "metadata": {},
   "outputs": [],
   "source": [
    "# BLOCK 2 - Run this block to simulate the circuit from Block 1 on statevector simulator and see the resulting state\n",
    "# on the Bloch sphere\n",
    "\n",
    "svsim = Aer.get_backend('statevector_simulator') # Same as before (tell it what simulator you want to use)\n",
    "job = execute(qc,svsim)\n",
    "result = job.result()\n",
    "state = result.get_statevector(qc)\n",
    "plot_bloch_multivector(state)"
   ]
  },
  {
   "cell_type": "code",
   "execution_count": null,
   "id": "acaa6d65",
   "metadata": {},
   "outputs": [],
   "source": [
    "# BLOCK 3 - Simulate the circuit from Block 1 on statevector simulator \n",
    "# and get the histogram of the output counts\n",
    "\n"
   ]
  },
  {
   "cell_type": "code",
   "execution_count": null,
   "id": "beginning-serve",
   "metadata": {
    "id": "beginning-serve",
    "outputId": "3090e86f-bee1-432e-b004-8f2993e5645c",
    "scrolled": true
   },
   "outputs": [],
   "source": [
    "# BLOCK 4 - Simulate the circuit from Block 1 on statevector simulator to get the histogram\n",
    "\n"
   ]
  },
  {
   "cell_type": "code",
   "execution_count": null,
   "id": "2e5aa176",
   "metadata": {},
   "outputs": [],
   "source": [
    "# BLOCK 5 - Create a quantum circuit that gives the output [0, 1]\n",
    "# check to see if you are correct by using the statevector simulator to display the vector form of the output\n"
   ]
  },
  {
   "cell_type": "code",
   "execution_count": null,
   "id": "0ca6f87c",
   "metadata": {},
   "outputs": [],
   "source": [
    "# BLOCK 6 - Create a quantum circuit that gives the output 1/sqrt(2) * [1, 1]\n",
    "# check to see if you are correct by using the statevector simulator to display the vector form of the output\n"
   ]
  },
  {
   "cell_type": "code",
   "execution_count": null,
   "id": "eb051a39",
   "metadata": {},
   "outputs": [],
   "source": [
    "# BLOCK 7 - Create a quantum circuit that gives the output 1/sqrt(2) * [1, -1]\n",
    "# check to see if you are correct by using the statevector simulator to display the vector form of the output\n"
   ]
  },
  {
   "cell_type": "code",
   "execution_count": null,
   "id": "aa831697",
   "metadata": {},
   "outputs": [],
   "source": [
    "# BLOCK 8 - Create a quantum circuit and add the rx gate. Visualize the output on the Bloch Sphere\n",
    "# try out different angles to get different results\n",
    "\n"
   ]
  },
  {
   "cell_type": "code",
   "execution_count": null,
   "id": "ba9fc9da",
   "metadata": {},
   "outputs": [],
   "source": [
    "# BLOCK 9 - Plot the result from the above quantum circuit as a histogram.\n",
    "# try out different angles and see how it changes the probabilities of measuring each state\n",
    "\n"
   ]
  },
  {
   "cell_type": "code",
   "execution_count": null,
   "id": "5bf03837",
   "metadata": {},
   "outputs": [],
   "source": [
    "# BLOCK 10 - Create a quantum circuit that uses the H gate followed by the rz gate.\n",
    "# how does the rz gate change the state? Does it change the probability of measuring |0> or |1>?\n",
    "\n"
   ]
  },
  {
   "cell_type": "markdown",
   "id": "1210fc97",
   "metadata": {},
   "source": [
    "## Using if statements and for loops with circuits"
   ]
  },
  {
   "cell_type": "code",
   "execution_count": null,
   "id": "9316e177",
   "metadata": {
    "id": "9316e177"
   },
   "outputs": [],
   "source": [
    "# BLOCK 11 - Create a variable called ‘ckt_check’ and set its value to be 1. \n",
    "#Using conditional (if) statements, create a circuit with 1 qubit if ckt_check=1 and draw the circuit.\n",
    "#Else, print “Circuit check failed. No circuit was created.”\n",
    "\n",
    "# Change the value of ckt_check to 0 and see if your code works!\n",
    "\n"
   ]
  },
  {
   "cell_type": "code",
   "execution_count": null,
   "id": "6afe3173",
   "metadata": {},
   "outputs": [],
   "source": [
    "#BLOCK 12 - Create a list called ‘qc_values’ equal to [0, 1, 1, 0, 0]. \n",
    "#Using conditional (if) statements and for loops, create a quantum circuit for each element of qc_values which is 1, \n",
    "#and print “Circuit successfully created”. Else, print “Circuit check failed. No circuit was created.”\n",
    "\n",
    "# Change the values of the list qc_values to see if your code still works!\n",
    "\n"
   ]
  },
  {
   "cell_type": "code",
   "execution_count": null,
   "id": "bebfa734",
   "metadata": {},
   "outputs": [],
   "source": [
    "# Block 13 - After your TA has discussed what the code on the slide does, copy it here and run it"
   ]
  },
  {
   "cell_type": "code",
   "execution_count": null,
   "id": "962c2dc9",
   "metadata": {},
   "outputs": [],
   "source": [
    "# Block 14 - Create a 1-qubit quantum circuit called qc4 and add it to the list “my_circuits” from Block 7 using the append() function"
   ]
  },
  {
   "cell_type": "code",
   "execution_count": null,
   "id": "17ac55e2",
   "metadata": {},
   "outputs": [],
   "source": [
    "# BLOCK 15 - Import the function getrandbits and test it out to see how it works\n",
    "\n",
    "from random import getrandbits\n",
    "\n",
    "getrandbits(1)"
   ]
  },
  {
   "cell_type": "code",
   "execution_count": null,
   "id": "81b38579",
   "metadata": {},
   "outputs": [],
   "source": [
    "# BLOCK 16 - Using the function getrandbits, create a list called bits_1\n",
    "# the list should contain 10 random bits\n",
    "\n"
   ]
  },
  {
   "cell_type": "code",
   "execution_count": null,
   "id": "21269760",
   "metadata": {},
   "outputs": [],
   "source": [
    "# BLOCK 17 - Using the function getrandbits, create a list called bits_2\n",
    "# the list should contain 10 random bits\n",
    "\n"
   ]
  },
  {
   "cell_type": "code",
   "execution_count": null,
   "id": "8c6ddc38",
   "metadata": {},
   "outputs": [],
   "source": [
    "# BLOCK 18 - \n",
    "# use a for loop to check the values of bits_1 and bits_2 \n",
    "# and make a quantum circuit for each pair of bits (10 in total)\n",
    "# Store the new quantum circuits in a list and add gates accordingly:\n",
    "# if bits_1 is 0 and bits_2 is 0, the output of the circuit should be [1,0]\n",
    "# if bits_1 is 0 and bits_2 is 1, the output should be [0,1]\n",
    "# if bits_1 is 1 and bits_2 is 0, the output should be 1/sqrt(2)*[1,1]\n",
    "# if bits_1 is 1 and bits_2 is 1, the otuput should be [0,-1]\n",
    "\n"
   ]
  },
  {
   "cell_type": "code",
   "execution_count": null,
   "id": "e4cca0a8",
   "metadata": {},
   "outputs": [],
   "source": []
  }
 ],
 "metadata": {
  "colab": {
   "name": "Week 2 Day 4.ipynb",
   "provenance": []
  },
  "kernelspec": {
   "display_name": "Python 3",
   "language": "python",
   "name": "python3"
  },
  "language_info": {
   "codemirror_mode": {
    "name": "ipython",
    "version": 3
   },
   "file_extension": ".py",
   "mimetype": "text/x-python",
   "name": "python",
   "nbconvert_exporter": "python",
   "pygments_lexer": "ipython3",
   "version": "3.8.10"
  }
 },
 "nbformat": 4,
 "nbformat_minor": 5
}
