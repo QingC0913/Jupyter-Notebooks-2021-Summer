{
 "cells": [
  {
   "cell_type": "markdown",
   "id": "1f69a0bd",
   "metadata": {
    "id": "1f69a0bd"
   },
   "source": [
    "# Ground State of a Molecule"
   ]
  },
  {
   "cell_type": "markdown",
   "id": "9db24c44",
   "metadata": {
    "id": "9db24c44"
   },
   "source": [
    "Here are the necessary imports:"
   ]
  },
  {
   "cell_type": "code",
   "execution_count": null,
   "id": "36f71169",
   "metadata": {
    "id": "36f71169"
   },
   "outputs": [],
   "source": [
    "\n",
    "from qiskit import Aer\n",
    "from qiskit_nature.drivers import PySCFDriver, UnitsType, Molecule\n",
    "from qiskit_nature.problems.second_quantization import ElectronicStructureProblem\n",
    "from qiskit_nature.converters.second_quantization import QubitConverter\n",
    "from qiskit_nature.mappers.second_quantization import JordanWignerMapper\n",
    "from qiskit_nature.algorithms import GroundStateEigensolver\n",
    "from qiskit_nature.algorithms import VQEUCCFactory\n",
    "from qiskit.algorithms import NumPyMinimumEigensolver\n",
    "from qiskit.algorithms import VQE\n",
    "from qiskit.circuit.library import TwoLocal\n",
    "from qiskit.utils import QuantumInstance\n",
    "import numpy as np\n",
    "import matplotlib.pyplot as plt\n",
    "from qiskit.circuit.library import EfficientSU2, QAOAAnsatz\n",
    "\n",
    "print(\"Libraries imported successfully\")"
   ]
  },
  {
   "cell_type": "markdown",
   "id": "5a594cb9",
   "metadata": {
    "id": "5a594cb9"
   },
   "source": [
    "## Defining the system\n",
    "\n",
    "The first step is to define the molecular system. In the following we ask for the electronic part of a hydrogen molecule.\n",
    "\n",
    "Qiskit is interfaced with different classical codes which are able to find the HF solutions. Interfacing between Qiskit and the following codes is already available: Gaussian, Psi4, PyQuante, PySCF.\n",
    "\n",
    "In the following we set up a PySCF driver, for the hydrogen molecule at equilibrium bond length (0.735 angstrom) in the singlet state and with no charge."
   ]
  },
  {
   "cell_type": "code",
   "execution_count": null,
   "id": "9b2436d8",
   "metadata": {
    "id": "9b2436d8"
   },
   "outputs": [],
   "source": [
    "#Block 1 - Specifying the parameters of the molecule\n",
    "molecule = Molecule(geometry=[['H', [0., 0., 0.]],\n",
    "                              ['H', [0., 0., 0.01]]],\n",
    "                     charge=0, multiplicity=1)\n",
    "structure_problem = PySCFDriver(molecule = molecule, unit=UnitsType.ANGSTROM)\n",
    "qubit_converter = QubitConverter(JordanWignerMapper())"
   ]
  },
  {
   "cell_type": "markdown",
   "id": "vL0eVQJbjkXC",
   "metadata": {
    "id": "vL0eVQJbjkXC"
   },
   "source": [
    "## NumPyMinimumEigensolver\n",
    "\n",
    "A solver is the algorithm through which the ground state is computed.\n",
    "\n",
    "Let’s first start with a purely classical example: the NumPy minimum eigensolver. This algorithm exactly diagonalizes the Hamiltonian. Although it scales badly, it can be used on small systems to check the results of the quantum algorithms."
   ]
  },
  {
   "cell_type": "code",
   "execution_count": null,
   "id": "JrjLQN7HjfpV",
   "metadata": {
    "colab": {
     "base_uri": "https://localhost:8080/"
    },
    "id": "JrjLQN7HjfpV",
    "outputId": "643e7d1a-47a5-4f40-e3cd-7dc00e4c9f84"
   },
   "outputs": [],
   "source": [
    "#Block 2 - Solving using classical solver\n",
    "method = NumPyMinimumEigensolver()\n",
    "\n",
    "calc = GroundStateEigensolver(qubit_converter, method)\n",
    "result = calc.solve(ElectronicStructureProblem(structure_problem))\n",
    "print(\"Total energy = \", result.total_energies)\n",
    "print(\"Electronic ground state energy =\", result.computed_energies)\n",
    "print(\"Nuclear repulsion energy =\", result.nuclear_repulsion_energy)"
   ]
  },
  {
   "cell_type": "markdown",
   "id": "BOADDMGHlV2y",
   "metadata": {
    "id": "BOADDMGHlV2y"
   },
   "source": [
    "## VQE Solver"
   ]
  },
  {
   "cell_type": "code",
   "execution_count": null,
   "id": "8fKcMfjQj0uY",
   "metadata": {
    "colab": {
     "base_uri": "https://localhost:8080/"
    },
    "id": "8fKcMfjQj0uY",
    "outputId": "0a173368-e864-49d7-8a7a-df5393b97875"
   },
   "outputs": [],
   "source": [
    "#Block 3 - Setting up VQE\n",
    "qinstance = QuantumInstance(backend=Aer.get_backend('statevector_simulator'))\n",
    "\n",
    "#tl_circuit = TwoLocal(rotation_blocks = ['h', 'rx'], entanglement_blocks = 'cz',\n",
    "                     #entanglement='full', reps=1)\n",
    "tl_circuit = EfficientSU2(reps= 1, entanglement='full')\n",
    "\n",
    "method = VQE(ansatz = tl_circuit, quantum_instance = qinstance)\n"
   ]
  },
  {
   "cell_type": "code",
   "execution_count": null,
   "id": "72132413",
   "metadata": {},
   "outputs": [],
   "source": [
    "#Block 4 - Solving using VQE\n",
    "calc = GroundStateEigensolver(qubit_converter, method)\n",
    "result = calc.solve(ElectronicStructureProblem(structure_problem))\n",
    "\n",
    "print(\"Total energy = \", result.total_energies)\n",
    "print(\"Electronic ground state energy =\", result.computed_energies)\n",
    "print(\"Nuclear repulsion energy =\", result.nuclear_repulsion_energy)"
   ]
  },
  {
   "cell_type": "markdown",
   "id": "5xPJv6b4meNU",
   "metadata": {
    "id": "5xPJv6b4meNU"
   },
   "source": [
    "Let's see the ansatz circuit used in the VQE solver:"
   ]
  },
  {
   "cell_type": "code",
   "execution_count": null,
   "id": "LTdoDL14lnYF",
   "metadata": {
    "colab": {
     "base_uri": "https://localhost:8080/",
     "height": 458
    },
    "id": "LTdoDL14lnYF",
    "outputId": "c730af0f-e629-4f36-d565-203c1c1e646b",
    "scrolled": true
   },
   "outputs": [],
   "source": [
    "#Block 5 - Printing tunable circuit\n",
    "ckt = tl_circuit.decompose()\n",
    "ckt.draw()"
   ]
  },
  {
   "cell_type": "code",
   "execution_count": null,
   "id": "32937654",
   "metadata": {},
   "outputs": [],
   "source": [
    "#Block 6 - Creating energy diagram using classical solver\n",
    "method = NumPyMinimumEigensolver()\n",
    "\n",
    "calc = GroundStateEigensolver(qubit_converter, method)\n",
    "classical_energies = []\n",
    "distances = [0.1,0.3,0.5,0.7,0.9,1.1,1.3,1.5,1.7,1.9,2.1,2.3,2.5]\n",
    "\n",
    "for i in range(13):\n",
    "    # Get the distance\n",
    "    dist = \n",
    "    # Define the molecule\n",
    "    molecule = \n",
    "    \n",
    "    # Define the structure problem \n",
    "    structure_problem = \n",
    "    \n",
    "    result = calc.solve(ElectronicStructureProblem(structure_problem))\n",
    "    classical_energies.append(result.total_energies)"
   ]
  },
  {
   "cell_type": "code",
   "execution_count": null,
   "id": "811cb79c",
   "metadata": {},
   "outputs": [],
   "source": [
    "#Block 7 - Plotting classical energy diagram\n",
    "\n",
    "plt.plot(distances, classical_energies, label=\"Classical Energy of the molecule\")\n",
    "plt.xlabel('Distance between atoms (Angstrom)')\n",
    "plt.ylabel('Energy')\n",
    "plt.legend()\n",
    "plt.show()"
   ]
  },
  {
   "cell_type": "code",
   "execution_count": null,
   "id": "J1xNJtYYnJFj",
   "metadata": {
    "id": "J1xNJtYYnJFj"
   },
   "outputs": [],
   "source": [
    "#Block 8 - Obtaining VQE energy diagram\n",
    "qinstance = QuantumInstance(backend = Aer.get_backend('statevector_simulator'))\n",
    "tl_circuit = TwoLocal(rotation_blocks = ['h', 'rx'], entanglement_blocks = 'cz',\n",
    "                     entanglement='full', reps=3)\n",
    "method = VQE(ansatz = tl_circuit, quantum_instance = qinstance)\n",
    "calc = GroundStateEigensolver(qubit_converter, method)\n",
    "\n",
    "vqe_energies = []\n",
    "distances = [0.1,0.3,0.5,0.7,0.9,1.1,1.3,1.5,1.7,1.9,2.1,2.3,2.5]\n",
    "\n",
    "for i in range(13):\n",
    "    # ADD HERE!\n",
    "    \n",
    "    #es_problem = ElectronicStructureProblem(driver)\n",
    "    result = calc.solve(ElectronicStructureProblem(structure_problem))\n",
    "    vqe_energies.append(result.total_energies)"
   ]
  },
  {
   "cell_type": "code",
   "execution_count": null,
   "id": "BBki2NTsxOOX",
   "metadata": {
    "colab": {
     "base_uri": "https://localhost:8080/",
     "height": 279
    },
    "id": "BBki2NTsxOOX",
    "outputId": "311fb462-b78f-40b8-9373-3c1b8f6fa855"
   },
   "outputs": [],
   "source": [
    "#Block 9 - Plotting VQE energy diagram\n",
    "plt.plot(distances, classical_energies, distances, vqe_energies,marker = \"o\")\n",
    "plt.xlabel('Distance between atoms (Angstrom)')\n",
    "plt.ylabel('Energy')\n",
    "plt.legend(['Classical Energy of the molecule','VQE energy of the molecule'])\n",
    "plt.show()"
   ]
  },
  {
   "cell_type": "markdown",
   "id": "e1WZJrj41_5j",
   "metadata": {
    "id": "e1WZJrj41_5j"
   },
   "source": [
    "## Running VQE on a real quantum computer"
   ]
  },
  {
   "cell_type": "markdown",
   "id": "xLc0LHqO6nEh",
   "metadata": {
    "id": "xLc0LHqO6nEh"
   },
   "source": [
    "We will use real noise data for an IBM Quantum device using the date stored in Qiskit Terra. Specifically, the device is `ibmq_vigo`."
   ]
  },
  {
   "cell_type": "code",
   "execution_count": null,
   "id": "d2332be5",
   "metadata": {},
   "outputs": [],
   "source": [
    "from qiskit import IBMQ\n",
    "from qiskit.providers.ibmq import least_busy"
   ]
  },
  {
   "cell_type": "code",
   "execution_count": null,
   "id": "17d7fb04",
   "metadata": {},
   "outputs": [],
   "source": [
    "IBMQ.load_account()\n",
    "# Get the least busy backend\n",
    "provider = IBMQ.get_provider(hub='ibm-q')\n",
    "backend = least_busy(provider.backends(filters=lambda x: x.configuration().n_qubits >= 2 \n",
    "                                       and not x.configuration().simulator \n",
    "                                       and x.status().operational==True))\n",
    "print(\"least busy backend: \", backend)"
   ]
  },
  {
   "cell_type": "code",
   "execution_count": null,
   "id": "43kYvZAi634p",
   "metadata": {
    "colab": {
     "base_uri": "https://localhost:8080/"
    },
    "id": "43kYvZAi634p",
    "outputId": "ccc3d68c-6280-4a5c-a24f-d9c9f631429e"
   },
   "outputs": [],
   "source": [
    "quantum_instance = QuantumInstance(backend = backend)\n",
    "tl_circuit = TwoLocal(rotation_blocks = ['h', 'rx'], entanglement_blocks = 'cz',\n",
    "                     entanglement='full', reps=3)\n",
    "method = VQE(ansatz = tl_circuit, quantum_instance = quantum_instance)\n",
    "calc = GroundStateEigensolver(qubit_converter, method)\n",
    "\n",
    "res = calc.solve(ElectronicStructureProblem(structure_problem))\n",
    "print(res)"
   ]
  },
  {
   "cell_type": "code",
   "execution_count": null,
   "id": "3zQ34-zS8e16",
   "metadata": {
    "id": "3zQ34-zS8e16"
   },
   "outputs": [],
   "source": []
  }
 ],
 "metadata": {
  "colab": {
   "collapsed_sections": [],
   "name": "Chemistry_Ground_State.ipynb",
   "provenance": []
  },
  "kernelspec": {
   "display_name": "Qiskit v0.29.0",
   "language": "python",
   "name": "python3"
  },
  "language_info": {
   "codemirror_mode": {
    "name": "ipython",
    "version": 3
   },
   "file_extension": ".py",
   "mimetype": "text/x-python",
   "name": "python",
   "nbconvert_exporter": "python",
   "pygments_lexer": "ipython3",
   "version": "3.8.10"
  },
  "widgets": {
   "application/vnd.jupyter.widget-state+json": {
    "state": {},
    "version_major": 2,
    "version_minor": 0
   }
  }
 },
 "nbformat": 4,
 "nbformat_minor": 5
}
