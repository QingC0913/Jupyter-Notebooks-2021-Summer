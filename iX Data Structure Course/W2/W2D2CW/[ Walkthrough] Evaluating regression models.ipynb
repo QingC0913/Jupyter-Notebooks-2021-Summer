{
 "cells": [
  {
   "cell_type": "markdown",
   "metadata": {},
   "source": [
    "## <font color='#eb3483'>Evaluating Regression models</font>\n",
    "\n",
    " Evaluating models is an essential step in doing Machine Learning for two reasons:\n",
    "\n",
    "- So we can evaluate and find the model that performs best.\n",
    "- So we can calculate the expected margin of error in our predictions.\n",
    "\n",
    "We are going to look at various error metrics that judge how well regression models make predictions. \n",
    "\n",
    "Before we begin, let's load the necessary libraries for data manipulation."
   ]
  },
  {
   "cell_type": "code",
   "execution_count": 1,
   "metadata": {},
   "outputs": [],
   "source": [
    "from IPython.display import Image\n",
    "import pandas as pd\n",
    "import numpy as np\n",
    "import seaborn as sns\n",
    "sns.set(rc={'figure.figsize':(6,6)}) \n",
    "\n",
    "import warnings\n",
    "warnings.simplefilter(\"ignore\")"
   ]
  },
  {
   "cell_type": "markdown",
   "metadata": {},
   "source": [
    "We're still using the boston housing dataset from the `sklearn` library."
   ]
  },
  {
   "cell_type": "code",
   "execution_count": 5,
   "metadata": {},
   "outputs": [],
   "source": [
    "from sklearn import datasets"
   ]
  },
  {
   "cell_type": "code",
   "execution_count": 6,
   "metadata": {},
   "outputs": [
    {
     "data": {
      "text/plain": [
       "array(['CRIM', 'ZN', 'INDUS', 'CHAS', 'NOX', 'RM', 'AGE', 'DIS', 'RAD',\n",
       "       'TAX', 'PTRATIO', 'B', 'LSTAT'], dtype='<U7')"
      ]
     },
     "execution_count": 6,
     "metadata": {},
     "output_type": "execute_result"
    }
   ],
   "source": [
    "boston = datasets.load_boston()\n",
    "boston.feature_names"
   ]
  },
  {
   "cell_type": "markdown",
   "metadata": {},
   "source": [
    "We split data into training and testing sets, fit the model on the training set and made predictions on the test set. \n",
    "\n",
    "P.S to learn more about the `random_state` parameter, see [this Stack Overflow answer](https://stackoverflow.com/a/28069274)."
   ]
  },
  {
   "cell_type": "code",
   "execution_count": 7,
   "metadata": {},
   "outputs": [],
   "source": [
    "from sklearn.model_selection import train_test_split"
   ]
  },
  {
   "cell_type": "code",
   "execution_count": 11,
   "metadata": {},
   "outputs": [],
   "source": [
    "independent_variables = boston[\"feature_names\"] # X variable names\n",
    "target = \"target\" # y variable name"
   ]
  },
  {
   "cell_type": "code",
   "execution_count": 9,
   "metadata": {},
   "outputs": [
    {
     "data": {
      "text/html": [
       "<div>\n",
       "<style scoped>\n",
       "    .dataframe tbody tr th:only-of-type {\n",
       "        vertical-align: middle;\n",
       "    }\n",
       "\n",
       "    .dataframe tbody tr th {\n",
       "        vertical-align: top;\n",
       "    }\n",
       "\n",
       "    .dataframe thead th {\n",
       "        text-align: right;\n",
       "    }\n",
       "</style>\n",
       "<table border=\"1\" class=\"dataframe\">\n",
       "  <thead>\n",
       "    <tr style=\"text-align: right;\">\n",
       "      <th></th>\n",
       "      <th>CRIM</th>\n",
       "      <th>ZN</th>\n",
       "      <th>INDUS</th>\n",
       "      <th>CHAS</th>\n",
       "      <th>NOX</th>\n",
       "      <th>RM</th>\n",
       "      <th>AGE</th>\n",
       "      <th>DIS</th>\n",
       "      <th>RAD</th>\n",
       "      <th>TAX</th>\n",
       "      <th>PTRATIO</th>\n",
       "      <th>B</th>\n",
       "      <th>LSTAT</th>\n",
       "      <th>target</th>\n",
       "    </tr>\n",
       "  </thead>\n",
       "  <tbody>\n",
       "    <tr>\n",
       "      <th>0</th>\n",
       "      <td>0.00632</td>\n",
       "      <td>18.0</td>\n",
       "      <td>2.31</td>\n",
       "      <td>0.0</td>\n",
       "      <td>0.538</td>\n",
       "      <td>6.575</td>\n",
       "      <td>65.2</td>\n",
       "      <td>4.0900</td>\n",
       "      <td>1.0</td>\n",
       "      <td>296.0</td>\n",
       "      <td>15.3</td>\n",
       "      <td>396.90</td>\n",
       "      <td>4.98</td>\n",
       "      <td>24.0</td>\n",
       "    </tr>\n",
       "    <tr>\n",
       "      <th>1</th>\n",
       "      <td>0.02731</td>\n",
       "      <td>0.0</td>\n",
       "      <td>7.07</td>\n",
       "      <td>0.0</td>\n",
       "      <td>0.469</td>\n",
       "      <td>6.421</td>\n",
       "      <td>78.9</td>\n",
       "      <td>4.9671</td>\n",
       "      <td>2.0</td>\n",
       "      <td>242.0</td>\n",
       "      <td>17.8</td>\n",
       "      <td>396.90</td>\n",
       "      <td>9.14</td>\n",
       "      <td>21.6</td>\n",
       "    </tr>\n",
       "    <tr>\n",
       "      <th>2</th>\n",
       "      <td>0.02729</td>\n",
       "      <td>0.0</td>\n",
       "      <td>7.07</td>\n",
       "      <td>0.0</td>\n",
       "      <td>0.469</td>\n",
       "      <td>7.185</td>\n",
       "      <td>61.1</td>\n",
       "      <td>4.9671</td>\n",
       "      <td>2.0</td>\n",
       "      <td>242.0</td>\n",
       "      <td>17.8</td>\n",
       "      <td>392.83</td>\n",
       "      <td>4.03</td>\n",
       "      <td>34.7</td>\n",
       "    </tr>\n",
       "    <tr>\n",
       "      <th>3</th>\n",
       "      <td>0.03237</td>\n",
       "      <td>0.0</td>\n",
       "      <td>2.18</td>\n",
       "      <td>0.0</td>\n",
       "      <td>0.458</td>\n",
       "      <td>6.998</td>\n",
       "      <td>45.8</td>\n",
       "      <td>6.0622</td>\n",
       "      <td>3.0</td>\n",
       "      <td>222.0</td>\n",
       "      <td>18.7</td>\n",
       "      <td>394.63</td>\n",
       "      <td>2.94</td>\n",
       "      <td>33.4</td>\n",
       "    </tr>\n",
       "    <tr>\n",
       "      <th>4</th>\n",
       "      <td>0.06905</td>\n",
       "      <td>0.0</td>\n",
       "      <td>2.18</td>\n",
       "      <td>0.0</td>\n",
       "      <td>0.458</td>\n",
       "      <td>7.147</td>\n",
       "      <td>54.2</td>\n",
       "      <td>6.0622</td>\n",
       "      <td>3.0</td>\n",
       "      <td>222.0</td>\n",
       "      <td>18.7</td>\n",
       "      <td>396.90</td>\n",
       "      <td>5.33</td>\n",
       "      <td>36.2</td>\n",
       "    </tr>\n",
       "  </tbody>\n",
       "</table>\n",
       "</div>"
      ],
      "text/plain": [
       "      CRIM    ZN  INDUS  CHAS    NOX     RM   AGE     DIS  RAD    TAX  \\\n",
       "0  0.00632  18.0   2.31   0.0  0.538  6.575  65.2  4.0900  1.0  296.0   \n",
       "1  0.02731   0.0   7.07   0.0  0.469  6.421  78.9  4.9671  2.0  242.0   \n",
       "2  0.02729   0.0   7.07   0.0  0.469  7.185  61.1  4.9671  2.0  242.0   \n",
       "3  0.03237   0.0   2.18   0.0  0.458  6.998  45.8  6.0622  3.0  222.0   \n",
       "4  0.06905   0.0   2.18   0.0  0.458  7.147  54.2  6.0622  3.0  222.0   \n",
       "\n",
       "   PTRATIO       B  LSTAT  target  \n",
       "0     15.3  396.90   4.98    24.0  \n",
       "1     17.8  396.90   9.14    21.6  \n",
       "2     17.8  392.83   4.03    34.7  \n",
       "3     18.7  394.63   2.94    33.4  \n",
       "4     18.7  396.90   5.33    36.2  "
      ]
     },
     "execution_count": 9,
     "metadata": {},
     "output_type": "execute_result"
    }
   ],
   "source": [
    "df = pd.DataFrame(boston[\"data\"], columns=boston[\"feature_names\"])\n",
    "df[\"target\"] = boston.target\n",
    "df.head()"
   ]
  },
  {
   "cell_type": "code",
   "execution_count": 10,
   "metadata": {},
   "outputs": [
    {
     "data": {
      "text/plain": [
       "(506, 14)"
      ]
     },
     "execution_count": 10,
     "metadata": {},
     "output_type": "execute_result"
    }
   ],
   "source": [
    "# How many data points and how many features ?\n",
    "df.shape"
   ]
  },
  {
   "cell_type": "code",
   "execution_count": 15,
   "metadata": {},
   "outputs": [],
   "source": [
    "X = df[independent_variables]    # numpy array\n",
    "X = X.drop('B', axis=1)          # dropping this column - hells no!\n",
    "y = df[target]                   # numpy array\n",
    "X_train, X_test, y_train, y_test = train_test_split(X,y,test_size=0.33, random_state= 13)"
   ]
  },
  {
   "cell_type": "code",
   "execution_count": 16,
   "metadata": {},
   "outputs": [
    {
     "name": "stdout",
     "output_type": "stream",
     "text": [
      "X_train (339, 12)\n",
      "y_train (339,)\n",
      "X_test (167, 12)\n",
      "y_test (167,)\n"
     ]
    }
   ],
   "source": [
    "# Stratied split\n",
    "\n",
    "print('X_train', X_train.shape)\n",
    "print('y_train', y_train.shape)\n",
    "print('X_test',  X_test.shape)\n",
    "print('y_test',  y_test.shape)"
   ]
  },
  {
   "cell_type": "markdown",
   "metadata": {},
   "source": [
    "We instantiate the model using the `LinearRegression` class."
   ]
  },
  {
   "cell_type": "code",
   "execution_count": 17,
   "metadata": {},
   "outputs": [],
   "source": [
    "from sklearn.linear_model import LinearRegression "
   ]
  },
  {
   "cell_type": "code",
   "execution_count": 18,
   "metadata": {},
   "outputs": [],
   "source": [
    "# this is an object called model with the the class of LinearRegression\n",
    "model = LinearRegression() # instantiate the model"
   ]
  },
  {
   "cell_type": "code",
   "execution_count": 19,
   "metadata": {},
   "outputs": [],
   "source": [
    "model.fit(X=X_train, y=y_train) # fit the model\n",
    "predictions = model.predict(X_test) # make predictions"
   ]
  },
  {
   "cell_type": "code",
   "execution_count": 20,
   "metadata": {},
   "outputs": [
    {
     "name": "stdout",
     "output_type": "stream",
     "text": [
      "Real value: 12.000 Estimated value: 10.61002\n",
      "Real value: 15.200 Estimated value: 19.54526\n",
      "Real value: 21.000 Estimated value: 20.59385\n",
      "Real value: 24.000 Estimated value: 30.40627\n",
      "Real value: 19.400 Estimated value: 23.26189\n"
     ]
    }
   ],
   "source": [
    "# see predictions\n",
    "for y, y_pred in list(zip(y_test, predictions))[:5]:\n",
    "    print(\"Real value: {:.3f} Estimated value: {:.5f}\".format(y, y_pred))"
   ]
  },
  {
   "cell_type": "markdown",
   "metadata": {},
   "source": [
    "![title](media/train_test_split.png)\n",
    "![title](media/train_test.png)"
   ]
  },
  {
   "cell_type": "markdown",
   "metadata": {},
   "source": [
    "## We now look at metrics to evaluate our predictions.\n",
    "\n",
    "This allows us to get an indication of how good or how poor our predictions actually were - without just eyeballing some visualisations :)\n",
    "\n",
    "Model evaluation metrics in `scikit-learn` are available under the module `metrics`"
   ]
  },
  {
   "cell_type": "code",
   "execution_count": 21,
   "metadata": {},
   "outputs": [],
   "source": [
    "# import metrics from sklearn\n",
    "from sklearn import metrics"
   ]
  },
  {
   "cell_type": "markdown",
   "metadata": {},
   "source": [
    "### <font color='#eb3483'>Mean Absolute Error (MAE)</font>\n",
    "\n",
    "The Mean Absolute Error (MAE) is defined as:\n",
    "\n",
    "$$\\frac{1}{n}\\sum_{i=1}^{n}|y_i -\\hat{y}_i|$$\n",
    "\n",
    "Basically the differences between the real values of the target variable and the predictions in absolute value (so turning negative differences into positive ones).\n",
    "\n",
    "MAE is a robust metric, that means it doesnt change dramatically when there are outliers. The MAE error can be interpreted in the same units of the target variable (so for example, if the target variable is in dollars, the MAE will also be in dollars)."
   ]
  },
  {
   "cell_type": "code",
   "execution_count": 22,
   "metadata": {},
   "outputs": [],
   "source": [
    "metrics.mean_absolute_error?"
   ]
  },
  {
   "cell_type": "code",
   "execution_count": 24,
   "metadata": {},
   "outputs": [
    {
     "name": "stdout",
     "output_type": "stream",
     "text": [
      "The Mean Absolute Error is 3.670 dollars\n"
     ]
    }
   ],
   "source": [
    "mae = metrics.mean_absolute_error(y_test, predictions)\n",
    "print(\"The Mean Absolute Error is {:.3f} dollars\".format(mae))\n",
    "#since housing prices are high (couple thousand), the error is relatively small "
   ]
  },
  {
   "cell_type": "markdown",
   "metadata": {},
   "source": [
    "### <font color='#eb3483'>Mean Squared Error (MSE)</font>\n",
    "\n",
    "The Mean Squared Error (MSE) is defined as:\n",
    "\n",
    "$$\\frac{1}{n}\\sum_{i=1}^{n}(y_i -\\hat{y}_i)^2$$\n",
    "\n",
    "Similar to the MAE, but using the square of the difference between the true target and the prediction. \n",
    "\n",
    "MSE gives more weight to larger errors than MAE (is not robust to outliers). For example, let's imagine we are predicting housing prices using the Boston dataset and we have the following observations:\n",
    "\n",
    "```\n",
    "observation1: MEDV: 10  MEDV_pred: 15    MSE: (10-15)²=25\n",
    "observation2: MEDV: 1000 MEDV_pred: 1010 MSE: (1000-1010)²=100 \n",
    "```\n",
    "\n",
    "By using MSE we are giving more weight to the error on observation2 than on observation1, even though a 5000`$` error on a 15,000`$` house is a much worse error than a 10,000`$` error on a 1,000,000`$` house.\n",
    "\n",
    "The MSE is measured in squared units (squared dollars?) which is hard to understand, so there is another metric called Root Mean Squared Error (RMSE) that is just the root of the MSE."
   ]
  },
  {
   "cell_type": "code",
   "execution_count": 19,
   "metadata": {},
   "outputs": [
    {
     "name": "stdout",
     "output_type": "stream",
     "text": [
      "The Mean Squared Error is 23.649 dollars²\n"
     ]
    }
   ],
   "source": [
    "mse = metrics.mean_squared_error(y_test, predictions)\n",
    "print(\"The Mean Squared Error is {:.3f} dollars²\".format(mse))"
   ]
  },
  {
   "cell_type": "markdown",
   "metadata": {},
   "source": [
    "### <font color='#eb3483'>Root Mean Squared Error (RMSE)</font>\n",
    "\n",
    "Root Mean Squared Error (RMSE) is just the root of the MSE, and it is measured in the same units as the target variable.\n",
    "\n",
    "$$\\sqrt{\\frac{1}{n}\\sum_{i=1}^{n}(y_i -\\hat{y}_i)^2}$$\n",
    "\n",
    "Similarly to MSE, RMSE is more sensitive than MAE to variations in errors. Here we can see an example of this.\n",
    "\n",
    "![mae_vs_mse](media/mse_vs_mae.png)\n",
    "\n",
    "In this example we can see that on the 3 cases MAE remains the same, while RMSE can be equal to MAE or much larger depending on the error distribution.\n",
    "\n",
    "So in those cases where we care about making big mistakes we can use RMSE. For example, if we are predicting student grades, we might not care that much about individual errors (predicting a 10 when the truth was a 2 is not a big deal), but about the overall performance (and we could use MAE). If we are predicting house values to purchase them, predicting a million dollars when the actual house price is 20,000$ is an error we cant afford!"
   ]
  },
  {
   "cell_type": "code",
   "execution_count": 29,
   "metadata": {},
   "outputs": [
    {
     "name": "stdout",
     "output_type": "stream",
     "text": [
      "The Root Mean Squared Error is 4.86 dollars\n"
     ]
    }
   ],
   "source": [
    "# sklearn doesnt have rmse, but it's easy to create the metric \"manually\"\n",
    "rmse = np.sqrt(metrics.mean_squared_error(y_test, predictions))\n",
    "print(\"The Root Mean Squared Error is {:.2f} dollars\".format(rmse))"
   ]
  },
  {
   "cell_type": "markdown",
   "metadata": {},
   "source": [
    "### <font color='#eb3483'>R2 (Coefficient of Determination)</font>\n",
    "\n",
    "The Coefficient of Determination (R2, pronounced *R-squared*) measures the portion of the variance that can be explained by the model.\n",
    "\n",
    "R2 ranges from (-1 to 1) (a model explaining all the variance would have an $r^2$ of 1).\n",
    "\n",
    "[There are many ways to measure $r^2$](https://en.wikipedia.org/wiki/Coefficient_of_determination) , but one of the simplest ones is simply the squared [Pearson correlation](https://en.wikipedia.org/wiki/Pearson_correlation_coefficient)  between the true target and the prediction, squared.\n",
    "\n",
    "$$r^2=\\frac{\\sum_{i=1}^n(\\hat y_i-\\bar y)^2}{\\sum_{i=1}^n(y_i-\\bar y)^2}.$$\n",
    "\n",
    "#### <font color='#eb3483'>Adjusted R2</font>\n",
    "\n",
    "There is an updated version of R2 called **Adjusted R-squared** that takes into consideration model complexity (so it penalizes a complex model versus a simple one).\n",
    "\n",
    "$$1 - \\frac{(1 - R^2)(n-1)}{(n-k-1)}$$\n",
    "\n",
    "where `n` is the number of observations and `k` is the number of model coefficients.\n",
    "\n",
    "<!--Contrary to `MAE` and `MSE` the higher the R2 the better.-->"
   ]
  },
  {
   "cell_type": "code",
   "execution_count": 27,
   "metadata": {
    "scrolled": true
   },
   "outputs": [
    {
     "data": {
      "text/plain": [
       "0.7035577824232988"
      ]
     },
     "execution_count": 27,
     "metadata": {},
     "output_type": "execute_result"
    }
   ],
   "source": [
    "model_r2 = metrics.r2_score(y_test, predictions)\n",
    "model_r2"
   ]
  },
  {
   "cell_type": "code",
   "execution_count": 28,
   "metadata": {},
   "outputs": [
    {
     "data": {
      "text/plain": [
       "array([[1.        , 0.71381657],\n",
       "       [0.71381657, 1.        ]])"
      ]
     },
     "execution_count": 28,
     "metadata": {},
     "output_type": "execute_result"
    }
   ],
   "source": [
    "pearson_corr = np.corrcoef(y_test, predictions)\n",
    "model_r2_ = pearson_corr**2\n",
    "model_r2_"
   ]
  },
  {
   "cell_type": "markdown",
   "metadata": {},
   "source": [
    "We can calculate easily the adjusted r² value by hand, to account for model complexity. This value depends on the number of coefficients and imposes a penalty for additional coefficients\n",
    "<!--(number of coefficients). \n",
    ", the regularization lesson goes further into the issue of model complexity.-->"
   ]
  },
  {
   "cell_type": "code",
   "execution_count": 23,
   "metadata": {},
   "outputs": [
    {
     "data": {
      "text/plain": [
       "12"
      ]
     },
     "execution_count": 23,
     "metadata": {},
     "output_type": "execute_result"
    }
   ],
   "source": [
    "len(model.coef_)"
   ]
  },
  {
   "cell_type": "code",
   "execution_count": 30,
   "metadata": {},
   "outputs": [
    {
     "data": {
      "text/plain": [
       "0.6804583888458935"
      ]
     },
     "execution_count": 30,
     "metadata": {},
     "output_type": "execute_result"
    }
   ],
   "source": [
    "n = len(X_test)\n",
    "k = len(model.coef_)\n",
    "r2 = model_r2\n",
    "\n",
    "adjusted_r2_model = 1 - ((1-r2)*(n-1)/(n-k-1))\n",
    "adjusted_r2_model"
   ]
  },
  {
   "cell_type": "markdown",
   "metadata": {},
   "source": [
    "We see the adjusted r² of the model is smaller than the original r²."
   ]
  },
  {
   "cell_type": "markdown",
   "metadata": {},
   "source": [
    "### Model Evaluation"
   ]
  },
  {
   "cell_type": "markdown",
   "metadata": {},
   "source": [
    "We can now evaluate our models. First we create a dictionary to store the results, and a function to help us evaluate models. "
   ]
  },
  {
   "cell_type": "code",
   "execution_count": 33,
   "metadata": {},
   "outputs": [],
   "source": [
    "RESULTS = {}\n",
    "\n",
    "def evaluate_model(y_true, y_pred):\n",
    "    \"\"\"Function to evaluate models, you could add more metrics here!\"\"\"\n",
    "    return {\n",
    "        \"mae\": metrics.mean_absolute_error(y_true, y_pred),\n",
    "    }"
   ]
  },
  {
   "cell_type": "code",
   "execution_count": 34,
   "metadata": {},
   "outputs": [],
   "source": [
    "# create the model\n",
    "model_ols = LinearRegression()"
   ]
  },
  {
   "cell_type": "code",
   "execution_count": 35,
   "metadata": {},
   "outputs": [
    {
     "data": {
      "text/plain": [
       "{'ols': {'mae': 3.2708628109003115}}"
      ]
     },
     "execution_count": 35,
     "metadata": {},
     "output_type": "execute_result"
    }
   ],
   "source": [
    "# first train and predict without splitting data\n",
    "model_ols.fit(X=boston['data'], y=boston['target'])\n",
    "model_ols_preds = model_ols.predict(boston['data'])\n",
    "\n",
    "# store results\n",
    "RESULTS[\"ols\"] = evaluate_model(\n",
    "    boston[\"target\"],\n",
    "    model_ols_preds,\n",
    ")\n",
    "\n",
    "RESULTS"
   ]
  },
  {
   "cell_type": "code",
   "execution_count": 28,
   "metadata": {},
   "outputs": [
    {
     "data": {
      "text/plain": [
       "{'ols': {'mae': 3.2708628109003173}, 'ols_train': {'mae': 3.355531297855312}}"
      ]
     },
     "execution_count": 28,
     "metadata": {},
     "output_type": "execute_result"
    }
   ],
   "source": [
    "# train and predict using just training dataset\n",
    "model_ols.fit(X=X_train, y=y_train)\n",
    "model_ols_train_preds = model_ols.predict(X_train)\n",
    "\n",
    "RESULTS[\"ols_train\"] = evaluate_model(\n",
    "    y_train,\n",
    "    model_ols_train_preds\n",
    ")\n",
    "\n",
    "RESULTS"
   ]
  },
  {
   "cell_type": "code",
   "execution_count": 29,
   "metadata": {},
   "outputs": [
    {
     "data": {
      "text/plain": [
       "{'ols': {'mae': 3.2708628109003173},\n",
       " 'ols_train': {'mae': 3.355531297855312},\n",
       " 'ols_test': {'mae': 3.6701893264960854}}"
      ]
     },
     "execution_count": 29,
     "metadata": {},
     "output_type": "execute_result"
    }
   ],
   "source": [
    "# predict using the test dataset\n",
    "model_ols_test_preds = model_ols.predict(X_test)\n",
    "RESULTS[\"ols_test\"] = evaluate_model(\n",
    "    y_test,\n",
    "    model_ols_test_preds\n",
    ")\n",
    "\n",
    "RESULTS"
   ]
  },
  {
   "cell_type": "code",
   "execution_count": 30,
   "metadata": {},
   "outputs": [
    {
     "data": {
      "text/html": [
       "<div>\n",
       "<style scoped>\n",
       "    .dataframe tbody tr th:only-of-type {\n",
       "        vertical-align: middle;\n",
       "    }\n",
       "\n",
       "    .dataframe tbody tr th {\n",
       "        vertical-align: top;\n",
       "    }\n",
       "\n",
       "    .dataframe thead th {\n",
       "        text-align: right;\n",
       "    }\n",
       "</style>\n",
       "<table border=\"1\" class=\"dataframe\">\n",
       "  <thead>\n",
       "    <tr style=\"text-align: right;\">\n",
       "      <th></th>\n",
       "      <th>ols</th>\n",
       "      <th>ols_train</th>\n",
       "      <th>ols_test</th>\n",
       "    </tr>\n",
       "  </thead>\n",
       "  <tbody>\n",
       "    <tr>\n",
       "      <th>mae</th>\n",
       "      <td>3.270863</td>\n",
       "      <td>3.355531</td>\n",
       "      <td>3.670189</td>\n",
       "    </tr>\n",
       "  </tbody>\n",
       "</table>\n",
       "</div>"
      ],
      "text/plain": [
       "          ols  ols_train  ols_test\n",
       "mae  3.270863   3.355531  3.670189"
      ]
     },
     "execution_count": 30,
     "metadata": {},
     "output_type": "execute_result"
    }
   ],
   "source": [
    "pd.DataFrame(RESULTS)"
   ]
  },
  {
   "cell_type": "markdown",
   "metadata": {},
   "source": [
    "We can see that we get we get worse results on the test set than on the training set.\n",
    "\n",
    "We could just stop here and say *\"Our model MAE on the test dataset is 3.67...\"*, and we could think everything is ok with this because that is the error on unseen data.\n",
    "\n",
    "However, this would be a big mistake, why? \n",
    "\n",
    "Remember, we have used a specific random state `random_state=13`, what would happen if we use another seed, for example, `random_state=42`?\n",
    "\n",
    "**Let's run everything again with a diffefent random seed**"
   ]
  },
  {
   "cell_type": "code",
   "execution_count": 36,
   "metadata": {},
   "outputs": [
    {
     "data": {
      "text/html": [
       "<div>\n",
       "<style scoped>\n",
       "    .dataframe tbody tr th:only-of-type {\n",
       "        vertical-align: middle;\n",
       "    }\n",
       "\n",
       "    .dataframe tbody tr th {\n",
       "        vertical-align: top;\n",
       "    }\n",
       "\n",
       "    .dataframe thead th {\n",
       "        text-align: right;\n",
       "    }\n",
       "</style>\n",
       "<table border=\"1\" class=\"dataframe\">\n",
       "  <thead>\n",
       "    <tr style=\"text-align: right;\">\n",
       "      <th></th>\n",
       "      <th>ols_train2</th>\n",
       "      <th>ols_test2</th>\n",
       "    </tr>\n",
       "  </thead>\n",
       "  <tbody>\n",
       "    <tr>\n",
       "      <th>mae</th>\n",
       "      <td>3.376419</td>\n",
       "      <td>3.148256</td>\n",
       "    </tr>\n",
       "  </tbody>\n",
       "</table>\n",
       "</div>"
      ],
      "text/plain": [
       "     ols_train2  ols_test2\n",
       "mae    3.376419   3.148256"
      ]
     },
     "execution_count": 36,
     "metadata": {},
     "output_type": "execute_result"
    }
   ],
   "source": [
    "RESULTS = {}\n",
    "\n",
    "X_train, X_test, y_train, y_test = train_test_split(\n",
    "     boston[\"data\"],   # X\n",
    "     boston[\"target\"], # y\n",
    "     test_size=0.33, \n",
    "     random_state=42\n",
    ")\n",
    "\n",
    "model_ols = LinearRegression()\n",
    "\n",
    "model_ols.fit(X=X_train, y=y_train)\n",
    "model_ols_train_preds = model_ols.predict(X_train)\n",
    "model_ols_test_preds = model_ols.predict(X_test)\n",
    "\n",
    "\n",
    "RESULTS[\"ols_train2\"] = evaluate_model(\n",
    "    y_train,\n",
    "    model_ols_train_preds\n",
    ")\n",
    "\n",
    "RESULTS[\"ols_test2\"] = evaluate_model(\n",
    "    y_test,\n",
    "    model_ols_test_preds\n",
    ")\n",
    "\n",
    "pd.DataFrame(RESULTS)"
   ]
  },
  {
   "cell_type": "markdown",
   "metadata": {},
   "source": [
    "**The test MAE is lower than the train one!!, WHAAAT!!??** How can that even be possible???\n",
    "\n",
    "Very simple, it just turns out the split generated by using the seed number 42 puts on the test dataset observations that are easier to predict."
   ]
  },
  {
   "cell_type": "markdown",
   "metadata": {},
   "source": [
    "## <font color='#eb3483'> Cross-validation </font>\n",
    "\n",
    "One way to avoid evaluating on one single lucky split is by doing **Cross Validation**. When we do cross validation we simply split the data into **N** partitions, for each partion, we train the model with the remaining N-1 partitions and evaluate on that one. That way we get N evaluation errors trained and evaluated on different data so we don't rely on a single split. We finally make predictions on the test set to get an unbiased view of model performance.\n",
    "\n",
    "For example, a 5 fold cross validation would look like this:\n",
    "\n",
    "![title](media/cross_validation.png)\n",
    "\n",
    "<!--![title](media/grid_search_cross_validation.png)-->"
   ]
  },
  {
   "cell_type": "markdown",
   "metadata": {},
   "source": [
    "`scikit-learn` has a function `cross_val_score` that evaluates a model doing cross validation."
   ]
  },
  {
   "cell_type": "code",
   "execution_count": 37,
   "metadata": {},
   "outputs": [],
   "source": [
    "from sklearn.model_selection import cross_val_score"
   ]
  },
  {
   "cell_type": "code",
   "execution_count": 38,
   "metadata": {},
   "outputs": [],
   "source": [
    "cross_val_score?\n",
    "#the estimator hyperparameter is the model, X and y are the datasets "
   ]
  },
  {
   "cell_type": "markdown",
   "metadata": {},
   "source": [
    "To use `cross_val_score`, we need a model, the independent and dependent variables (X and y). We also have to define an evaluation metric (`scoring` argument) and the number of splits (`cv` argument)."
   ]
  },
  {
   "cell_type": "code",
   "execution_count": 39,
   "metadata": {},
   "outputs": [],
   "source": [
    "model = LinearRegression()"
   ]
  },
  {
   "cell_type": "markdown",
   "metadata": {},
   "source": [
    "We can choose any of the scorers defined on `sklearn.metrics.SCORERS` or we can create our own scoring function."
   ]
  },
  {
   "cell_type": "code",
   "execution_count": 40,
   "metadata": {},
   "outputs": [
    {
     "data": {
      "text/plain": [
       "dict_keys(['explained_variance', 'r2', 'max_error', 'neg_median_absolute_error', 'neg_mean_absolute_error', 'neg_mean_absolute_percentage_error', 'neg_mean_squared_error', 'neg_mean_squared_log_error', 'neg_root_mean_squared_error', 'neg_mean_poisson_deviance', 'neg_mean_gamma_deviance', 'accuracy', 'top_k_accuracy', 'roc_auc', 'roc_auc_ovr', 'roc_auc_ovo', 'roc_auc_ovr_weighted', 'roc_auc_ovo_weighted', 'balanced_accuracy', 'average_precision', 'neg_log_loss', 'neg_brier_score', 'adjusted_rand_score', 'rand_score', 'homogeneity_score', 'completeness_score', 'v_measure_score', 'mutual_info_score', 'adjusted_mutual_info_score', 'normalized_mutual_info_score', 'fowlkes_mallows_score', 'precision', 'precision_macro', 'precision_micro', 'precision_samples', 'precision_weighted', 'recall', 'recall_macro', 'recall_micro', 'recall_samples', 'recall_weighted', 'f1', 'f1_macro', 'f1_micro', 'f1_samples', 'f1_weighted', 'jaccard', 'jaccard_macro', 'jaccard_micro', 'jaccard_samples', 'jaccard_weighted'])"
      ]
     },
     "execution_count": 40,
     "metadata": {},
     "output_type": "execute_result"
    }
   ],
   "source": [
    "from sklearn.metrics import SCORERS\n",
    "SCORERS.keys()"
   ]
  },
  {
   "cell_type": "markdown",
   "metadata": {},
   "source": [
    "For example, if we want to perform cross validation using the mean absolute error (MAE), we can use the scoring `neg_mean_squared_error`, that is the name of the mean absolute error on the `SCORERS` dictionary above.\n",
    "\n",
    "**Note**: In scikit-learn, the \"bad\" scores (i.e. errors) are returned as negative numbers"
   ]
  },
  {
   "cell_type": "code",
   "execution_count": 1,
   "metadata": {},
   "outputs": [
    {
     "ename": "NameError",
     "evalue": "name 'cross_val_score' is not defined",
     "output_type": "error",
     "traceback": [
      "\u001b[1;31m---------------------------------------------------------------------------\u001b[0m",
      "\u001b[1;31mNameError\u001b[0m                                 Traceback (most recent call last)",
      "\u001b[1;32m<ipython-input-1-e83e0a960d64>\u001b[0m in \u001b[0;36m<module>\u001b[1;34m\u001b[0m\n\u001b[1;32m----> 1\u001b[1;33m results_cross_validation = cross_val_score(\n\u001b[0m\u001b[0;32m      2\u001b[0m     \u001b[0mestimator\u001b[0m\u001b[1;33m=\u001b[0m\u001b[0mmodel\u001b[0m\u001b[1;33m,\u001b[0m\u001b[1;33m\u001b[0m\u001b[1;33m\u001b[0m\u001b[0m\n\u001b[0;32m      3\u001b[0m     \u001b[0mX\u001b[0m\u001b[1;33m=\u001b[0m\u001b[0mboston\u001b[0m\u001b[1;33m[\u001b[0m\u001b[1;34m\"data\"\u001b[0m\u001b[1;33m]\u001b[0m\u001b[1;33m,\u001b[0m\u001b[1;33m\u001b[0m\u001b[1;33m\u001b[0m\u001b[0m\n\u001b[0;32m      4\u001b[0m     \u001b[0my\u001b[0m\u001b[1;33m=\u001b[0m\u001b[0mboston\u001b[0m\u001b[1;33m[\u001b[0m\u001b[1;34m\"target\"\u001b[0m\u001b[1;33m]\u001b[0m\u001b[1;33m,\u001b[0m\u001b[1;33m\u001b[0m\u001b[1;33m\u001b[0m\u001b[0m\n\u001b[0;32m      5\u001b[0m     \u001b[0mscoring\u001b[0m\u001b[1;33m=\u001b[0m\u001b[1;34m\"mae\"\u001b[0m\u001b[1;33m,\u001b[0m\u001b[1;33m\u001b[0m\u001b[1;33m\u001b[0m\u001b[0m\n",
      "\u001b[1;31mNameError\u001b[0m: name 'cross_val_score' is not defined"
     ]
    }
   ],
   "source": [
    "results_cross_validation = cross_val_score(\n",
    "    estimator=model, \n",
    "    X=boston[\"data\"],\n",
    "    y=boston[\"target\"],\n",
    "    scoring=\"neg_mean_absolute_error\", \n",
    "    cv=5,\n",
    ")\n",
    "#scoring: calculate metrics, chosen from SCORERS list above "
   ]
  },
  {
   "cell_type": "markdown",
   "metadata": {},
   "source": [
    "`cross_val_score` returns the evaluation on the test set for each one of the splits (in this case, 5 splits). Normal number of splits are between 3 and 10"
   ]
  },
  {
   "cell_type": "code",
   "execution_count": 45,
   "metadata": {},
   "outputs": [
    {
     "data": {
      "text/plain": [
       "array([-2.62190565, -3.90725478, -4.386606  , -5.57073637, -4.76333993])"
      ]
     },
     "execution_count": 45,
     "metadata": {},
     "output_type": "execute_result"
    }
   ],
   "source": [
    "results_cross_validation\n",
    "#values for each split"
   ]
  },
  {
   "cell_type": "markdown",
   "metadata": {},
   "source": [
    "We can finally calculate the average partition error to get a better estimation of its performance."
   ]
  },
  {
   "cell_type": "code",
   "execution_count": 46,
   "metadata": {},
   "outputs": [
    {
     "name": "stdout",
     "output_type": "stream",
     "text": [
      "the average MAE for 5 split cross validation is : 4.249968544192538\n"
     ]
    }
   ],
   "source": [
    "# we use abs to get positive MAE values\n",
    "model_mae = abs(results_cross_validation.mean())\n",
    "print(f\"the average MAE for 5 split cross validation is : {model_mae}\")"
   ]
  },
  {
   "cell_type": "markdown",
   "metadata": {},
   "source": [
    "We can also define our own cross validation evaluation metric, which is simply a function that expects to receive as arguments the trained estimator, X and y and return the error.\n",
    "\n",
    "For example, if we want to use rmse as a scoring for cross validation, we can create our own scoring function:"
   ]
  },
  {
   "cell_type": "code",
   "execution_count": 47,
   "metadata": {},
   "outputs": [],
   "source": [
    "def rmse_cross_val(estimator, X, y):\n",
    "    y_pred = estimator.predict(X)\n",
    "    return np.sqrt(metrics.mean_squared_error(y, y_pred))\n"
   ]
  },
  {
   "cell_type": "code",
   "execution_count": 48,
   "metadata": {},
   "outputs": [
    {
     "name": "stdout",
     "output_type": "stream",
     "text": [
      "the average RMSE for 5 split cross validation is : 5.8286589462158345\n"
     ]
    }
   ],
   "source": [
    "results_cross_validation_rmse = cross_val_score(\n",
    "    estimator=model, \n",
    "    X=boston[\"data\"],\n",
    "    y=boston[\"target\"],\n",
    "    scoring=rmse_cross_val, \n",
    "    cv=5, \n",
    ")\n",
    "\n",
    "mean_rmse_cv = results_cross_validation_rmse.mean()\n",
    "print(f\"the average RMSE for 5 split cross validation is : {mean_rmse_cv}\")"
   ]
  },
  {
   "cell_type": "markdown",
   "metadata": {},
   "source": [
    "**A bit on hyperparameters.** The function `cross_val_score` has the argument `cv`. We can adjust its value to improve the model score. "
   ]
  },
  {
   "cell_type": "code",
   "execution_count": 41,
   "metadata": {},
   "outputs": [],
   "source": [
    "cross_val_score?"
   ]
  },
  {
   "cell_type": "markdown",
   "metadata": {},
   "source": [
    "## <font color='#eb3483'>BONUS: The function cross_validate</font>\n",
    "\n",
    "If we want to get more information about each split, we can use the function `cross_validate` that returns more information besides the test error. It also accepts multiple scoring functions instead of just one. Think of `cross_val_score` as the simplified version of `cross_validate`."
   ]
  },
  {
   "cell_type": "code",
   "execution_count": 51,
   "metadata": {},
   "outputs": [],
   "source": [
    "from sklearn.model_selection import cross_validate\n",
    "\n",
    "scoring_functions = {\"mae\": \"neg_mean_absolute_error\", \"rmse\": rmse_cross_val, \"r2\": \"r2\"}\n",
    "\n",
    "scores = cross_validate(\n",
    "    model,                # estimator\n",
    "    boston[\"data\"],            # X\n",
    "    boston[\"target\"],          # y\n",
    "    scoring=scoring_functions, # a single scorer or a dict with multiple scoring functions\n",
    "    cv=10,                      # number of partitions\n",
    "    return_train_score=True    # return the training error, not only the test error\n",
    ")"
   ]
  },
  {
   "cell_type": "code",
   "execution_count": 52,
   "metadata": {},
   "outputs": [],
   "source": [
    "results_df = pd.DataFrame(scores)"
   ]
  },
  {
   "cell_type": "code",
   "execution_count": 53,
   "metadata": {},
   "outputs": [
    {
     "data": {
      "text/html": [
       "<div>\n",
       "<style scoped>\n",
       "    .dataframe tbody tr th:only-of-type {\n",
       "        vertical-align: middle;\n",
       "    }\n",
       "\n",
       "    .dataframe tbody tr th {\n",
       "        vertical-align: top;\n",
       "    }\n",
       "\n",
       "    .dataframe thead th {\n",
       "        text-align: right;\n",
       "    }\n",
       "</style>\n",
       "<table border=\"1\" class=\"dataframe\">\n",
       "  <thead>\n",
       "    <tr style=\"text-align: right;\">\n",
       "      <th></th>\n",
       "      <th>fit_time</th>\n",
       "      <th>score_time</th>\n",
       "      <th>test_mae</th>\n",
       "      <th>train_mae</th>\n",
       "      <th>test_rmse</th>\n",
       "      <th>train_rmse</th>\n",
       "      <th>test_r2</th>\n",
       "      <th>train_r2</th>\n",
       "    </tr>\n",
       "  </thead>\n",
       "  <tbody>\n",
       "    <tr>\n",
       "      <th>0</th>\n",
       "      <td>0.015994</td>\n",
       "      <td>0.002481</td>\n",
       "      <td>-2.206868</td>\n",
       "      <td>-3.413087</td>\n",
       "      <td>3.047449</td>\n",
       "      <td>4.833552</td>\n",
       "      <td>0.733761</td>\n",
       "      <td>0.738813</td>\n",
       "    </tr>\n",
       "    <tr>\n",
       "      <th>1</th>\n",
       "      <td>0.003992</td>\n",
       "      <td>0.002990</td>\n",
       "      <td>-2.896809</td>\n",
       "      <td>-3.385031</td>\n",
       "      <td>3.761819</td>\n",
       "      <td>4.783517</td>\n",
       "      <td>0.473073</td>\n",
       "      <td>0.747091</td>\n",
       "    </tr>\n",
       "    <tr>\n",
       "      <th>2</th>\n",
       "      <td>0.013702</td>\n",
       "      <td>0.001995</td>\n",
       "      <td>-2.786730</td>\n",
       "      <td>-3.429977</td>\n",
       "      <td>3.751481</td>\n",
       "      <td>4.818306</td>\n",
       "      <td>-1.006315</td>\n",
       "      <td>0.743834</td>\n",
       "    </tr>\n",
       "    <tr>\n",
       "      <th>3</th>\n",
       "      <td>0.014513</td>\n",
       "      <td>0.008929</td>\n",
       "      <td>-4.598478</td>\n",
       "      <td>-3.105423</td>\n",
       "      <td>5.933542</td>\n",
       "      <td>4.557598</td>\n",
       "      <td>0.641140</td>\n",
       "      <td>0.717213</td>\n",
       "    </tr>\n",
       "    <tr>\n",
       "      <th>4</th>\n",
       "      <td>0.014771</td>\n",
       "      <td>0.018592</td>\n",
       "      <td>-4.109865</td>\n",
       "      <td>-3.272898</td>\n",
       "      <td>5.646691</td>\n",
       "      <td>4.619029</td>\n",
       "      <td>0.547660</td>\n",
       "      <td>0.741724</td>\n",
       "    </tr>\n",
       "    <tr>\n",
       "      <th>5</th>\n",
       "      <td>0.015638</td>\n",
       "      <td>0.001885</td>\n",
       "      <td>-3.564692</td>\n",
       "      <td>-3.276768</td>\n",
       "      <td>4.453749</td>\n",
       "      <td>4.729027</td>\n",
       "      <td>0.736403</td>\n",
       "      <td>0.704314</td>\n",
       "    </tr>\n",
       "    <tr>\n",
       "      <th>6</th>\n",
       "      <td>0.022238</td>\n",
       "      <td>0.003099</td>\n",
       "      <td>-2.669667</td>\n",
       "      <td>-3.404997</td>\n",
       "      <td>3.153929</td>\n",
       "      <td>4.829826</td>\n",
       "      <td>0.378284</td>\n",
       "      <td>0.746070</td>\n",
       "    </tr>\n",
       "    <tr>\n",
       "      <th>7</th>\n",
       "      <td>0.011809</td>\n",
       "      <td>0.003603</td>\n",
       "      <td>-9.656378</td>\n",
       "      <td>-2.612918</td>\n",
       "      <td>12.975954</td>\n",
       "      <td>3.458207</td>\n",
       "      <td>-0.129227</td>\n",
       "      <td>0.838756</td>\n",
       "    </tr>\n",
       "    <tr>\n",
       "      <th>8</th>\n",
       "      <td>0.004756</td>\n",
       "      <td>0.002000</td>\n",
       "      <td>-5.022725</td>\n",
       "      <td>-3.191380</td>\n",
       "      <td>5.773192</td>\n",
       "      <td>4.646105</td>\n",
       "      <td>-0.768432</td>\n",
       "      <td>0.736517</td>\n",
       "    </tr>\n",
       "    <tr>\n",
       "      <th>9</th>\n",
       "      <td>0.002455</td>\n",
       "      <td>0.003948</td>\n",
       "      <td>-2.537253</td>\n",
       "      <td>-3.383958</td>\n",
       "      <td>3.310651</td>\n",
       "      <td>4.815500</td>\n",
       "      <td>0.418943</td>\n",
       "      <td>0.742119</td>\n",
       "    </tr>\n",
       "  </tbody>\n",
       "</table>\n",
       "</div>"
      ],
      "text/plain": [
       "   fit_time  score_time  test_mae  train_mae  test_rmse  train_rmse   test_r2  \\\n",
       "0  0.015994    0.002481 -2.206868  -3.413087   3.047449    4.833552  0.733761   \n",
       "1  0.003992    0.002990 -2.896809  -3.385031   3.761819    4.783517  0.473073   \n",
       "2  0.013702    0.001995 -2.786730  -3.429977   3.751481    4.818306 -1.006315   \n",
       "3  0.014513    0.008929 -4.598478  -3.105423   5.933542    4.557598  0.641140   \n",
       "4  0.014771    0.018592 -4.109865  -3.272898   5.646691    4.619029  0.547660   \n",
       "5  0.015638    0.001885 -3.564692  -3.276768   4.453749    4.729027  0.736403   \n",
       "6  0.022238    0.003099 -2.669667  -3.404997   3.153929    4.829826  0.378284   \n",
       "7  0.011809    0.003603 -9.656378  -2.612918  12.975954    3.458207 -0.129227   \n",
       "8  0.004756    0.002000 -5.022725  -3.191380   5.773192    4.646105 -0.768432   \n",
       "9  0.002455    0.003948 -2.537253  -3.383958   3.310651    4.815500  0.418943   \n",
       "\n",
       "   train_r2  \n",
       "0  0.738813  \n",
       "1  0.747091  \n",
       "2  0.743834  \n",
       "3  0.717213  \n",
       "4  0.741724  \n",
       "5  0.704314  \n",
       "6  0.746070  \n",
       "7  0.838756  \n",
       "8  0.736517  \n",
       "9  0.742119  "
      ]
     },
     "execution_count": 53,
     "metadata": {},
     "output_type": "execute_result"
    }
   ],
   "source": [
    "results_df"
   ]
  },
  {
   "cell_type": "markdown",
   "metadata": {},
   "source": [
    "We get results for each one of the partitions:\n",
    "- fit time, how long it takes to train the model\n",
    "- score time, how long it takes to predict\n",
    "- test and train scores for each one of the scoring functions"
   ]
  },
  {
   "cell_type": "markdown",
   "metadata": {},
   "source": [
    "Now we can calculate the averages for all the partitions:"
   ]
  },
  {
   "cell_type": "code",
   "execution_count": 54,
   "metadata": {},
   "outputs": [
    {
     "data": {
      "text/plain": [
       "fit_time      0.011987\n",
       "score_time    0.004952\n",
       "test_mae     -4.004947\n",
       "train_mae    -3.247644\n",
       "test_rmse     5.180846\n",
       "train_rmse    4.609067\n",
       "test_r2       0.202529\n",
       "train_r2      0.745645\n",
       "dtype: float64"
      ]
     },
     "execution_count": 54,
     "metadata": {},
     "output_type": "execute_result"
    }
   ],
   "source": [
    "pd.DataFrame(scores).mean()"
   ]
  },
  {
   "cell_type": "code",
   "execution_count": null,
   "metadata": {},
   "outputs": [],
   "source": []
  }
 ],
 "metadata": {
  "kernelspec": {
   "display_name": "Python 3",
   "language": "python",
   "name": "python3"
  },
  "language_info": {
   "codemirror_mode": {
    "name": "ipython",
    "version": 3
   },
   "file_extension": ".py",
   "mimetype": "text/x-python",
   "name": "python",
   "nbconvert_exporter": "python",
   "pygments_lexer": "ipython3",
   "version": "3.8.8"
  },
  "varInspector": {
   "cols": {
    "lenName": 16,
    "lenType": 16,
    "lenVar": 40
   },
   "kernels_config": {
    "python": {
     "delete_cmd_postfix": "",
     "delete_cmd_prefix": "del ",
     "library": "var_list.py",
     "varRefreshCmd": "print(var_dic_list())"
    },
    "r": {
     "delete_cmd_postfix": ") ",
     "delete_cmd_prefix": "rm(",
     "library": "var_list.r",
     "varRefreshCmd": "cat(var_dic_list()) "
    }
   },
   "types_to_exclude": [
    "module",
    "function",
    "builtin_function_or_method",
    "instance",
    "_Feature"
   ],
   "window_display": false
  }
 },
 "nbformat": 4,
 "nbformat_minor": 2
}
