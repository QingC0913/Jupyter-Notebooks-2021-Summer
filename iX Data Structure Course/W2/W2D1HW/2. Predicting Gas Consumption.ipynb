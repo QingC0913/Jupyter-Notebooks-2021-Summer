{
 "cells": [
  {
   "cell_type": "markdown",
   "metadata": {},
   "source": [
    "## <font color='#eb3483'>Predicting Gas Consumption </font>"
   ]
  },
  {
   "cell_type": "markdown",
   "metadata": {},
   "source": [
    "In this exercise we are going to build a regression model. We are going to predict consumption in miles per gallon using the numerical values in the dataset `vehicles.1.initial_process.csv`. "
   ]
  },
  {
   "cell_type": "code",
   "execution_count": 16,
   "metadata": {},
   "outputs": [],
   "source": [
    "from IPython.display import Image\n",
    "import pandas as pd\n",
    "import numpy as np\n",
    "from sklearn.linear_model import LinearRegression\n",
    "\n",
    "import seaborn as sns\n",
    "sns.set(rc={'figure.figsize':(6,5)}) \n",
    "import warnings\n",
    "warnings.simplefilter(\"ignore\")"
   ]
  },
  {
   "cell_type": "markdown",
   "metadata": {},
   "source": [
    "Load the data and select the numerical columns and replace their missing values with 0"
   ]
  },
  {
   "cell_type": "code",
   "execution_count": 11,
   "metadata": {},
   "outputs": [
    {
     "data": {
      "text/html": [
       "<div>\n",
       "<style scoped>\n",
       "    .dataframe tbody tr th:only-of-type {\n",
       "        vertical-align: middle;\n",
       "    }\n",
       "\n",
       "    .dataframe tbody tr th {\n",
       "        vertical-align: top;\n",
       "    }\n",
       "\n",
       "    .dataframe thead th {\n",
       "        text-align: right;\n",
       "    }\n",
       "</style>\n",
       "<table border=\"1\" class=\"dataframe\">\n",
       "  <thead>\n",
       "    <tr style=\"text-align: right;\">\n",
       "      <th></th>\n",
       "      <th>co2</th>\n",
       "      <th>consumption_mpg</th>\n",
       "      <th>cylinders</th>\n",
       "      <th>displacement</th>\n",
       "    </tr>\n",
       "  </thead>\n",
       "  <tbody>\n",
       "    <tr>\n",
       "      <th>0</th>\n",
       "      <td>423.190476</td>\n",
       "      <td>21</td>\n",
       "      <td>4.0</td>\n",
       "      <td>2.0</td>\n",
       "    </tr>\n",
       "    <tr>\n",
       "      <th>1</th>\n",
       "      <td>807.909091</td>\n",
       "      <td>11</td>\n",
       "      <td>12.0</td>\n",
       "      <td>4.9</td>\n",
       "    </tr>\n",
       "    <tr>\n",
       "      <th>2</th>\n",
       "      <td>329.148148</td>\n",
       "      <td>27</td>\n",
       "      <td>4.0</td>\n",
       "      <td>2.2</td>\n",
       "    </tr>\n",
       "    <tr>\n",
       "      <th>3</th>\n",
       "      <td>807.909091</td>\n",
       "      <td>11</td>\n",
       "      <td>8.0</td>\n",
       "      <td>5.2</td>\n",
       "    </tr>\n",
       "    <tr>\n",
       "      <th>4</th>\n",
       "      <td>467.736842</td>\n",
       "      <td>19</td>\n",
       "      <td>4.0</td>\n",
       "      <td>2.2</td>\n",
       "    </tr>\n",
       "    <tr>\n",
       "      <th>...</th>\n",
       "      <td>...</td>\n",
       "      <td>...</td>\n",
       "      <td>...</td>\n",
       "      <td>...</td>\n",
       "    </tr>\n",
       "    <tr>\n",
       "      <th>39860</th>\n",
       "      <td>403.954545</td>\n",
       "      <td>22</td>\n",
       "      <td>4.0</td>\n",
       "      <td>2.2</td>\n",
       "    </tr>\n",
       "    <tr>\n",
       "      <th>39861</th>\n",
       "      <td>386.391304</td>\n",
       "      <td>23</td>\n",
       "      <td>4.0</td>\n",
       "      <td>2.2</td>\n",
       "    </tr>\n",
       "    <tr>\n",
       "      <th>39862</th>\n",
       "      <td>423.190476</td>\n",
       "      <td>21</td>\n",
       "      <td>4.0</td>\n",
       "      <td>2.2</td>\n",
       "    </tr>\n",
       "    <tr>\n",
       "      <th>39863</th>\n",
       "      <td>423.190476</td>\n",
       "      <td>21</td>\n",
       "      <td>4.0</td>\n",
       "      <td>2.2</td>\n",
       "    </tr>\n",
       "    <tr>\n",
       "      <th>39864</th>\n",
       "      <td>493.722222</td>\n",
       "      <td>18</td>\n",
       "      <td>4.0</td>\n",
       "      <td>2.2</td>\n",
       "    </tr>\n",
       "  </tbody>\n",
       "</table>\n",
       "<p>39865 rows × 4 columns</p>\n",
       "</div>"
      ],
      "text/plain": [
       "              co2  consumption_mpg  cylinders  displacement\n",
       "0      423.190476               21        4.0           2.0\n",
       "1      807.909091               11       12.0           4.9\n",
       "2      329.148148               27        4.0           2.2\n",
       "3      807.909091               11        8.0           5.2\n",
       "4      467.736842               19        4.0           2.2\n",
       "...           ...              ...        ...           ...\n",
       "39860  403.954545               22        4.0           2.2\n",
       "39861  386.391304               23        4.0           2.2\n",
       "39862  423.190476               21        4.0           2.2\n",
       "39863  423.190476               21        4.0           2.2\n",
       "39864  493.722222               18        4.0           2.2\n",
       "\n",
       "[39865 rows x 4 columns]"
      ]
     },
     "execution_count": 11,
     "metadata": {},
     "output_type": "execute_result"
    }
   ],
   "source": [
    "vehicles = pd.read_csv(\"data/vehicles.1.initial_process.csv\")\n",
    "vehicles = vehicles.drop(['drive', 'fuel', 'make', 'model', 'transmission', 'vehicle_class', 'year'], axis = \"columns\")\n",
    "vehicles = vehicles.fillna(0)\n",
    "vehicles"
   ]
  },
  {
   "cell_type": "markdown",
   "metadata": {},
   "source": [
    "Build the regression model and print out the test set targets and predictions."
   ]
  },
  {
   "cell_type": "code",
   "execution_count": 14,
   "metadata": {},
   "outputs": [],
   "source": [
    "from sklearn.model_selection import train_test_split\n",
    "X = vehicles[['co2', 'cylinders', 'displacement']]\n",
    "#not dependent on just one thing\n",
    "y = vehicles[\"consumption_mpg\"]                 # numpy array\n",
    "X_train, X_test, y_train, y_test = train_test_split(X, y, test_size = 0.2)"
   ]
  },
  {
   "cell_type": "code",
   "execution_count": 19,
   "metadata": {},
   "outputs": [
    {
     "name": "stdout",
     "output_type": "stream",
     "text": [
      "Real value: 15.000 Estimated value: 14.33653\n",
      "Real value: 14.000 Estimated value: 12.84245\n",
      "Real value: 25.000 Estimated value: 25.95688\n",
      "Real value: 19.000 Estimated value: 20.51410\n",
      "Real value: 20.000 Estimated value: 21.93575\n",
      "Real value: 16.000 Estimated value: 16.40316\n",
      "Real value: 28.000 Estimated value: 27.53677\n",
      "Real value: 19.000 Estimated value: 20.49429\n",
      "Real value: 17.000 Estimated value: 18.24776\n",
      "Real value: 19.000 Estimated value: 20.03410\n"
     ]
    }
   ],
   "source": [
    "model = LinearRegression()\n",
    "model.fit(X = X_train, y = y_train)\n",
    "predictions = model.predict(X_test)\n",
    "for y, y_pred in list(zip(y_test, predictions))[:10]:\n",
    "    print(\"Real value: {:.3f} Estimated value: {:.5f}\".format(y, y_pred))"
   ]
  },
  {
   "cell_type": "code",
   "execution_count": 23,
   "metadata": {},
   "outputs": [
    {
     "data": {
      "text/plain": [
       "<seaborn.axisgrid.FacetGrid at 0x1b70d56d4f0>"
      ]
     },
     "execution_count": 23,
     "metadata": {},
     "output_type": "execute_result"
    },
    {
     "data": {
      "image/png": "[encoded data removed]",
      "text/plain": [
       "<Figure size 360x360 with 1 Axes>"
      ]
     },
     "metadata": {},
     "output_type": "display_data"
    }
   ],
   "source": [
    "X = X_test.reset_index().copy() # make a copy of indices and data\n",
    "X[\"Life expectancy\"] = y_test.tolist()\n",
    "X[\"prediction\"] = predictions\n",
    "sns.relplot(x=\"Life expectancy\", y =\"prediction\", data=X, kind=\"scatter\")"
   ]
  }
 ],
 "metadata": {
  "kernelspec": {
   "display_name": "Python 3",
   "language": "python",
   "name": "python3"
  },
  "language_info": {
   "codemirror_mode": {
    "name": "ipython",
    "version": 3
   },
   "file_extension": ".py",
   "mimetype": "text/x-python",
   "name": "python",
   "nbconvert_exporter": "python",
   "pygments_lexer": "ipython3",
   "version": "3.8.8"
  }
 },
 "nbformat": 4,
 "nbformat_minor": 2
}
