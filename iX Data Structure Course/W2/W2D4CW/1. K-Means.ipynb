{
 "cells": [
  {
   "cell_type": "markdown",
   "metadata": {},
   "source": [
    "# <font color='#eb3483'>K-Means</font>"
   ]
  },
  {
   "cell_type": "markdown",
   "metadata": {},
   "source": [
    "K-Means is an unsupervised learning technique that puts datapoints that are quite similar into one group and those datapoints that are quite different are put in different groups. In this module we're going to learn how K-Means does this."
   ]
  },
  {
   "cell_type": "code",
   "execution_count": 56,
   "metadata": {},
   "outputs": [],
   "source": [
    "from IPython.display import Image\n",
    "import pandas as pd\n",
    "import numpy as np\n",
    "import matplotlib.pyplot as plt\n",
    "import warnings\n",
    "import seaborn as sns\n",
    "sns.set(rc={'figure.figsize':(6,6)}) \n",
    "\n",
    "import warnings\n",
    "warnings.simplefilter(\"ignore\")\n",
    "\n",
    "%matplotlib inline"
   ]
  },
  {
   "cell_type": "markdown",
   "metadata": {},
   "source": [
    "## <font color='#eb3483'>We load the data</font>\n",
    "\n",
    "We will use the EPA vehicles dataset. \n",
    "\n",
    "To simplify things, we will use a smaller dataset, with less columns, and with the null values removed."
   ]
  },
  {
   "cell_type": "code",
   "execution_count": 57,
   "metadata": {},
   "outputs": [],
   "source": [
    "vehicles = pd.read_pickle(\"data/vehicles.3.grouped.pkl\")"
   ]
  },
  {
   "cell_type": "code",
   "execution_count": 58,
   "metadata": {
    "scrolled": true
   },
   "outputs": [
    {
     "data": {
      "text/html": [
       "<div>\n",
       "<style scoped>\n",
       "    .dataframe tbody tr th:only-of-type {\n",
       "        vertical-align: middle;\n",
       "    }\n",
       "\n",
       "    .dataframe tbody tr th {\n",
       "        vertical-align: top;\n",
       "    }\n",
       "\n",
       "    .dataframe thead th {\n",
       "        text-align: right;\n",
       "    }\n",
       "</style>\n",
       "<table border=\"1\" class=\"dataframe\">\n",
       "  <thead>\n",
       "    <tr style=\"text-align: right;\">\n",
       "      <th></th>\n",
       "      <th>co2</th>\n",
       "      <th>cylinders</th>\n",
       "      <th>displacement</th>\n",
       "      <th>year</th>\n",
       "      <th>vehicle_class_type</th>\n",
       "      <th>drive_type</th>\n",
       "      <th>transmission_type</th>\n",
       "      <th>fuel_type</th>\n",
       "      <th>displacement_type</th>\n",
       "      <th>consumption_type</th>\n",
       "      <th>co2_type</th>\n",
       "      <th>consumption_liters_mile</th>\n",
       "    </tr>\n",
       "  </thead>\n",
       "  <tbody>\n",
       "    <tr>\n",
       "      <th>0</th>\n",
       "      <td>423.190476</td>\n",
       "      <td>4.0</td>\n",
       "      <td>2.0</td>\n",
       "      <td>1985</td>\n",
       "      <td>Small Cars</td>\n",
       "      <td>two</td>\n",
       "      <td>Manual</td>\n",
       "      <td>Normal</td>\n",
       "      <td>very small</td>\n",
       "      <td>low</td>\n",
       "      <td>low</td>\n",
       "      <td>0.180258</td>\n",
       "    </tr>\n",
       "    <tr>\n",
       "      <th>1</th>\n",
       "      <td>807.909091</td>\n",
       "      <td>12.0</td>\n",
       "      <td>4.9</td>\n",
       "      <td>1985</td>\n",
       "      <td>Small Cars</td>\n",
       "      <td>two</td>\n",
       "      <td>Manual</td>\n",
       "      <td>Normal</td>\n",
       "      <td>very big</td>\n",
       "      <td>very high</td>\n",
       "      <td>very high</td>\n",
       "      <td>0.344128</td>\n",
       "    </tr>\n",
       "    <tr>\n",
       "      <th>2</th>\n",
       "      <td>329.148148</td>\n",
       "      <td>4.0</td>\n",
       "      <td>2.2</td>\n",
       "      <td>1985</td>\n",
       "      <td>Small Cars</td>\n",
       "      <td>two</td>\n",
       "      <td>Manual</td>\n",
       "      <td>Normal</td>\n",
       "      <td>small</td>\n",
       "      <td>very low</td>\n",
       "      <td>very low</td>\n",
       "      <td>0.140200</td>\n",
       "    </tr>\n",
       "    <tr>\n",
       "      <th>3</th>\n",
       "      <td>807.909091</td>\n",
       "      <td>8.0</td>\n",
       "      <td>5.2</td>\n",
       "      <td>1985</td>\n",
       "      <td>Vans</td>\n",
       "      <td>two</td>\n",
       "      <td>Automatic</td>\n",
       "      <td>Normal</td>\n",
       "      <td>very big</td>\n",
       "      <td>very high</td>\n",
       "      <td>very high</td>\n",
       "      <td>0.344128</td>\n",
       "    </tr>\n",
       "    <tr>\n",
       "      <th>4</th>\n",
       "      <td>467.736842</td>\n",
       "      <td>4.0</td>\n",
       "      <td>2.2</td>\n",
       "      <td>1993</td>\n",
       "      <td>Small Cars</td>\n",
       "      <td>four</td>\n",
       "      <td>Manual</td>\n",
       "      <td>Premium</td>\n",
       "      <td>small</td>\n",
       "      <td>moderate</td>\n",
       "      <td>moderate</td>\n",
       "      <td>0.199232</td>\n",
       "    </tr>\n",
       "  </tbody>\n",
       "</table>\n",
       "</div>"
      ],
      "text/plain": [
       "          co2  cylinders  displacement  year vehicle_class_type drive_type  \\\n",
       "0  423.190476        4.0           2.0  1985         Small Cars        two   \n",
       "1  807.909091       12.0           4.9  1985         Small Cars        two   \n",
       "2  329.148148        4.0           2.2  1985         Small Cars        two   \n",
       "3  807.909091        8.0           5.2  1985               Vans        two   \n",
       "4  467.736842        4.0           2.2  1993         Small Cars       four   \n",
       "\n",
       "  transmission_type fuel_type displacement_type consumption_type   co2_type  \\\n",
       "0            Manual    Normal        very small              low        low   \n",
       "1            Manual    Normal          very big        very high  very high   \n",
       "2            Manual    Normal             small         very low   very low   \n",
       "3         Automatic    Normal          very big        very high  very high   \n",
       "4            Manual   Premium             small         moderate   moderate   \n",
       "\n",
       "   consumption_liters_mile  \n",
       "0                 0.180258  \n",
       "1                 0.344128  \n",
       "2                 0.140200  \n",
       "3                 0.344128  \n",
       "4                 0.199232  "
      ]
     },
     "execution_count": 58,
     "metadata": {},
     "output_type": "execute_result"
    }
   ],
   "source": [
    "vehicles.head()"
   ]
  },
  {
   "cell_type": "code",
   "execution_count": 59,
   "metadata": {},
   "outputs": [
    {
     "data": {
      "text/plain": [
       "(38194, 12)"
      ]
     },
     "execution_count": 59,
     "metadata": {},
     "output_type": "execute_result"
    }
   ],
   "source": [
    "vehicles.shape"
   ]
  },
  {
   "cell_type": "code",
   "execution_count": 60,
   "metadata": {},
   "outputs": [
    {
     "data": {
      "text/plain": [
       "co2                         float64\n",
       "cylinders                   float64\n",
       "displacement                float64\n",
       "year                          int64\n",
       "vehicle_class_type         category\n",
       "drive_type                 category\n",
       "transmission_type          category\n",
       "fuel_type                  category\n",
       "displacement_type          category\n",
       "consumption_type           category\n",
       "co2_type                   category\n",
       "consumption_liters_mile     float64\n",
       "dtype: object"
      ]
     },
     "execution_count": 60,
     "metadata": {},
     "output_type": "execute_result"
    }
   ],
   "source": [
    "vehicles.dtypes"
   ]
  },
  {
   "cell_type": "markdown",
   "metadata": {},
   "source": [
    "## <font color='#eb3483'>Deal with missing values</font>\n"
   ]
  },
  {
   "cell_type": "markdown",
   "metadata": {},
   "source": [
    "Check for missing values. Remove them."
   ]
  },
  {
   "cell_type": "code",
   "execution_count": 61,
   "metadata": {},
   "outputs": [
    {
     "data": {
      "text/plain": [
       "co2                           0\n",
       "cylinders                     3\n",
       "displacement                  2\n",
       "year                          0\n",
       "vehicle_class_type         5655\n",
       "drive_type                    0\n",
       "transmission_type             0\n",
       "fuel_type                     0\n",
       "displacement_type             2\n",
       "consumption_type              0\n",
       "co2_type                      0\n",
       "consumption_liters_mile       0\n",
       "dtype: int64"
      ]
     },
     "execution_count": 61,
     "metadata": {},
     "output_type": "execute_result"
    }
   ],
   "source": [
    "vehicles.isna().sum()"
   ]
  },
  {
   "cell_type": "code",
   "execution_count": 62,
   "metadata": {},
   "outputs": [
    {
     "data": {
      "text/plain": [
       "<AxesSubplot:>"
      ]
     },
     "execution_count": 62,
     "metadata": {},
     "output_type": "execute_result"
    },
    {
     "data": {
      "image/png": "[encoded data removed]",
      "text/plain": [
       "<Figure size 1800x720 with 2 Axes>"
      ]
     },
     "metadata": {
      "needs_background": "light"
     },
     "output_type": "display_data"
    }
   ],
   "source": [
    "# A fun way to visualise missing values is from the missingno library.\n",
    "  \n",
    "# Importing the library (you may need to install it first pip install missingno)\n",
    "import missingno as msno \n",
    "  \n",
    "# Visualize missing values as a matrix \n",
    "msno.matrix(vehicles) "
   ]
  },
  {
   "cell_type": "code",
   "execution_count": 63,
   "metadata": {},
   "outputs": [],
   "source": [
    "# handle missing values\n",
    "vehicles.dropna(inplace=True)"
   ]
  },
  {
   "cell_type": "code",
   "execution_count": 64,
   "metadata": {},
   "outputs": [
    {
     "data": {
      "text/plain": [
       "(32536, 12)"
      ]
     },
     "execution_count": 64,
     "metadata": {},
     "output_type": "execute_result"
    }
   ],
   "source": [
    "vehicles.shape"
   ]
  },
  {
   "cell_type": "code",
   "execution_count": 65,
   "metadata": {},
   "outputs": [
    {
     "data": {
      "text/html": [
       "<div>\n",
       "<style scoped>\n",
       "    .dataframe tbody tr th:only-of-type {\n",
       "        vertical-align: middle;\n",
       "    }\n",
       "\n",
       "    .dataframe tbody tr th {\n",
       "        vertical-align: top;\n",
       "    }\n",
       "\n",
       "    .dataframe thead th {\n",
       "        text-align: right;\n",
       "    }\n",
       "</style>\n",
       "<table border=\"1\" class=\"dataframe\">\n",
       "  <thead>\n",
       "    <tr style=\"text-align: right;\">\n",
       "      <th></th>\n",
       "      <th>co2</th>\n",
       "      <th>cylinders</th>\n",
       "      <th>displacement</th>\n",
       "      <th>year</th>\n",
       "      <th>vehicle_class_type</th>\n",
       "      <th>drive_type</th>\n",
       "      <th>transmission_type</th>\n",
       "      <th>fuel_type</th>\n",
       "      <th>displacement_type</th>\n",
       "      <th>consumption_type</th>\n",
       "      <th>co2_type</th>\n",
       "      <th>consumption_liters_mile</th>\n",
       "    </tr>\n",
       "  </thead>\n",
       "  <tbody>\n",
       "    <tr>\n",
       "      <th>0</th>\n",
       "      <td>423.190476</td>\n",
       "      <td>4.0</td>\n",
       "      <td>2.0</td>\n",
       "      <td>1985</td>\n",
       "      <td>Small Cars</td>\n",
       "      <td>two</td>\n",
       "      <td>Manual</td>\n",
       "      <td>Normal</td>\n",
       "      <td>very small</td>\n",
       "      <td>low</td>\n",
       "      <td>low</td>\n",
       "      <td>0.180258</td>\n",
       "    </tr>\n",
       "    <tr>\n",
       "      <th>1</th>\n",
       "      <td>807.909091</td>\n",
       "      <td>12.0</td>\n",
       "      <td>4.9</td>\n",
       "      <td>1985</td>\n",
       "      <td>Small Cars</td>\n",
       "      <td>two</td>\n",
       "      <td>Manual</td>\n",
       "      <td>Normal</td>\n",
       "      <td>very big</td>\n",
       "      <td>very high</td>\n",
       "      <td>very high</td>\n",
       "      <td>0.344128</td>\n",
       "    </tr>\n",
       "    <tr>\n",
       "      <th>2</th>\n",
       "      <td>329.148148</td>\n",
       "      <td>4.0</td>\n",
       "      <td>2.2</td>\n",
       "      <td>1985</td>\n",
       "      <td>Small Cars</td>\n",
       "      <td>two</td>\n",
       "      <td>Manual</td>\n",
       "      <td>Normal</td>\n",
       "      <td>small</td>\n",
       "      <td>very low</td>\n",
       "      <td>very low</td>\n",
       "      <td>0.140200</td>\n",
       "    </tr>\n",
       "    <tr>\n",
       "      <th>3</th>\n",
       "      <td>807.909091</td>\n",
       "      <td>8.0</td>\n",
       "      <td>5.2</td>\n",
       "      <td>1985</td>\n",
       "      <td>Vans</td>\n",
       "      <td>two</td>\n",
       "      <td>Automatic</td>\n",
       "      <td>Normal</td>\n",
       "      <td>very big</td>\n",
       "      <td>very high</td>\n",
       "      <td>very high</td>\n",
       "      <td>0.344128</td>\n",
       "    </tr>\n",
       "    <tr>\n",
       "      <th>4</th>\n",
       "      <td>467.736842</td>\n",
       "      <td>4.0</td>\n",
       "      <td>2.2</td>\n",
       "      <td>1993</td>\n",
       "      <td>Small Cars</td>\n",
       "      <td>four</td>\n",
       "      <td>Manual</td>\n",
       "      <td>Premium</td>\n",
       "      <td>small</td>\n",
       "      <td>moderate</td>\n",
       "      <td>moderate</td>\n",
       "      <td>0.199232</td>\n",
       "    </tr>\n",
       "  </tbody>\n",
       "</table>\n",
       "</div>"
      ],
      "text/plain": [
       "          co2  cylinders  displacement  year vehicle_class_type drive_type  \\\n",
       "0  423.190476        4.0           2.0  1985         Small Cars        two   \n",
       "1  807.909091       12.0           4.9  1985         Small Cars        two   \n",
       "2  329.148148        4.0           2.2  1985         Small Cars        two   \n",
       "3  807.909091        8.0           5.2  1985               Vans        two   \n",
       "4  467.736842        4.0           2.2  1993         Small Cars       four   \n",
       "\n",
       "  transmission_type fuel_type displacement_type consumption_type   co2_type  \\\n",
       "0            Manual    Normal        very small              low        low   \n",
       "1            Manual    Normal          very big        very high  very high   \n",
       "2            Manual    Normal             small         very low   very low   \n",
       "3         Automatic    Normal          very big        very high  very high   \n",
       "4            Manual   Premium             small         moderate   moderate   \n",
       "\n",
       "   consumption_liters_mile  \n",
       "0                 0.180258  \n",
       "1                 0.344128  \n",
       "2                 0.140200  \n",
       "3                 0.344128  \n",
       "4                 0.199232  "
      ]
     },
     "execution_count": 65,
     "metadata": {},
     "output_type": "execute_result"
    }
   ],
   "source": [
    "vehicles.head()"
   ]
  },
  {
   "cell_type": "markdown",
   "metadata": {},
   "source": [
    "## <font color='#eb3483'>Preprocess the data</font>\n"
   ]
  },
  {
   "cell_type": "markdown",
   "metadata": {},
   "source": [
    "To use the data set we have to take cre of the categorical data. So let's split out the numerical variables, and the categorical variables into two separate data frames."
   ]
  },
  {
   "cell_type": "code",
   "execution_count": 66,
   "metadata": {},
   "outputs": [],
   "source": [
    "#splitting numerical and categorical data into two different data frames to make sure it is in a form we can use it\n",
    "numerical_data = vehicles.select_dtypes(np.number)\n",
    "categorical_data = vehicles.select_dtypes([object, \"category\"])\n"
   ]
  },
  {
   "cell_type": "code",
   "execution_count": 67,
   "metadata": {},
   "outputs": [
    {
     "data": {
      "text/html": [
       "<div>\n",
       "<style scoped>\n",
       "    .dataframe tbody tr th:only-of-type {\n",
       "        vertical-align: middle;\n",
       "    }\n",
       "\n",
       "    .dataframe tbody tr th {\n",
       "        vertical-align: top;\n",
       "    }\n",
       "\n",
       "    .dataframe thead th {\n",
       "        text-align: right;\n",
       "    }\n",
       "</style>\n",
       "<table border=\"1\" class=\"dataframe\">\n",
       "  <thead>\n",
       "    <tr style=\"text-align: right;\">\n",
       "      <th></th>\n",
       "      <th>vehicle_class_type</th>\n",
       "      <th>drive_type</th>\n",
       "      <th>transmission_type</th>\n",
       "      <th>fuel_type</th>\n",
       "      <th>displacement_type</th>\n",
       "      <th>consumption_type</th>\n",
       "      <th>co2_type</th>\n",
       "    </tr>\n",
       "  </thead>\n",
       "  <tbody>\n",
       "    <tr>\n",
       "      <th>0</th>\n",
       "      <td>Small Cars</td>\n",
       "      <td>two</td>\n",
       "      <td>Manual</td>\n",
       "      <td>Normal</td>\n",
       "      <td>very small</td>\n",
       "      <td>low</td>\n",
       "      <td>low</td>\n",
       "    </tr>\n",
       "    <tr>\n",
       "      <th>1</th>\n",
       "      <td>Small Cars</td>\n",
       "      <td>two</td>\n",
       "      <td>Manual</td>\n",
       "      <td>Normal</td>\n",
       "      <td>very big</td>\n",
       "      <td>very high</td>\n",
       "      <td>very high</td>\n",
       "    </tr>\n",
       "    <tr>\n",
       "      <th>2</th>\n",
       "      <td>Small Cars</td>\n",
       "      <td>two</td>\n",
       "      <td>Manual</td>\n",
       "      <td>Normal</td>\n",
       "      <td>small</td>\n",
       "      <td>very low</td>\n",
       "      <td>very low</td>\n",
       "    </tr>\n",
       "    <tr>\n",
       "      <th>3</th>\n",
       "      <td>Vans</td>\n",
       "      <td>two</td>\n",
       "      <td>Automatic</td>\n",
       "      <td>Normal</td>\n",
       "      <td>very big</td>\n",
       "      <td>very high</td>\n",
       "      <td>very high</td>\n",
       "    </tr>\n",
       "    <tr>\n",
       "      <th>4</th>\n",
       "      <td>Small Cars</td>\n",
       "      <td>four</td>\n",
       "      <td>Manual</td>\n",
       "      <td>Premium</td>\n",
       "      <td>small</td>\n",
       "      <td>moderate</td>\n",
       "      <td>moderate</td>\n",
       "    </tr>\n",
       "  </tbody>\n",
       "</table>\n",
       "</div>"
      ],
      "text/plain": [
       "  vehicle_class_type drive_type transmission_type fuel_type displacement_type  \\\n",
       "0         Small Cars        two            Manual    Normal        very small   \n",
       "1         Small Cars        two            Manual    Normal          very big   \n",
       "2         Small Cars        two            Manual    Normal             small   \n",
       "3               Vans        two         Automatic    Normal          very big   \n",
       "4         Small Cars       four            Manual   Premium             small   \n",
       "\n",
       "  consumption_type   co2_type  \n",
       "0              low        low  \n",
       "1        very high  very high  \n",
       "2         very low   very low  \n",
       "3        very high  very high  \n",
       "4         moderate   moderate  "
      ]
     },
     "execution_count": 67,
     "metadata": {},
     "output_type": "execute_result"
    }
   ],
   "source": [
    "categorical_data.head()\n",
    "#its good practice to double check that your code actually did what you intended it to do"
   ]
  },
  {
   "cell_type": "code",
   "execution_count": 68,
   "metadata": {},
   "outputs": [
    {
     "data": {
      "text/html": [
       "<div>\n",
       "<style scoped>\n",
       "    .dataframe tbody tr th:only-of-type {\n",
       "        vertical-align: middle;\n",
       "    }\n",
       "\n",
       "    .dataframe tbody tr th {\n",
       "        vertical-align: top;\n",
       "    }\n",
       "\n",
       "    .dataframe thead th {\n",
       "        text-align: right;\n",
       "    }\n",
       "</style>\n",
       "<table border=\"1\" class=\"dataframe\">\n",
       "  <thead>\n",
       "    <tr style=\"text-align: right;\">\n",
       "      <th></th>\n",
       "      <th>co2</th>\n",
       "      <th>cylinders</th>\n",
       "      <th>displacement</th>\n",
       "      <th>year</th>\n",
       "      <th>consumption_liters_mile</th>\n",
       "    </tr>\n",
       "  </thead>\n",
       "  <tbody>\n",
       "    <tr>\n",
       "      <th>0</th>\n",
       "      <td>423.190476</td>\n",
       "      <td>4.0</td>\n",
       "      <td>2.0</td>\n",
       "      <td>1985</td>\n",
       "      <td>0.180258</td>\n",
       "    </tr>\n",
       "    <tr>\n",
       "      <th>1</th>\n",
       "      <td>807.909091</td>\n",
       "      <td>12.0</td>\n",
       "      <td>4.9</td>\n",
       "      <td>1985</td>\n",
       "      <td>0.344128</td>\n",
       "    </tr>\n",
       "    <tr>\n",
       "      <th>2</th>\n",
       "      <td>329.148148</td>\n",
       "      <td>4.0</td>\n",
       "      <td>2.2</td>\n",
       "      <td>1985</td>\n",
       "      <td>0.140200</td>\n",
       "    </tr>\n",
       "    <tr>\n",
       "      <th>3</th>\n",
       "      <td>807.909091</td>\n",
       "      <td>8.0</td>\n",
       "      <td>5.2</td>\n",
       "      <td>1985</td>\n",
       "      <td>0.344128</td>\n",
       "    </tr>\n",
       "    <tr>\n",
       "      <th>4</th>\n",
       "      <td>467.736842</td>\n",
       "      <td>4.0</td>\n",
       "      <td>2.2</td>\n",
       "      <td>1993</td>\n",
       "      <td>0.199232</td>\n",
       "    </tr>\n",
       "  </tbody>\n",
       "</table>\n",
       "</div>"
      ],
      "text/plain": [
       "          co2  cylinders  displacement  year  consumption_liters_mile\n",
       "0  423.190476        4.0           2.0  1985                 0.180258\n",
       "1  807.909091       12.0           4.9  1985                 0.344128\n",
       "2  329.148148        4.0           2.2  1985                 0.140200\n",
       "3  807.909091        8.0           5.2  1985                 0.344128\n",
       "4  467.736842        4.0           2.2  1993                 0.199232"
      ]
     },
     "execution_count": 68,
     "metadata": {},
     "output_type": "execute_result"
    }
   ],
   "source": [
    "numerical_data.head()\n"
   ]
  },
  {
   "cell_type": "markdown",
   "metadata": {},
   "source": [
    "### <font color='#eb3483'>Normalise (fix scales) numerical data </font>"
   ]
  },
  {
   "cell_type": "markdown",
   "metadata": {},
   "source": [
    "An important aspect when using K-means is that the distances are related to the variable scales. So we have to normalize the data before using this algorithm for clustering. We can use scikit-learn `MinMaxScaler()` for scaling a numerical variable to a range ([0,1] by default)"
   ]
  },
  {
   "cell_type": "code",
   "execution_count": 69,
   "metadata": {},
   "outputs": [
    {
     "data": {
      "text/html": [
       "<div>\n",
       "<style scoped>\n",
       "    .dataframe tbody tr th:only-of-type {\n",
       "        vertical-align: middle;\n",
       "    }\n",
       "\n",
       "    .dataframe tbody tr th {\n",
       "        vertical-align: top;\n",
       "    }\n",
       "\n",
       "    .dataframe thead th {\n",
       "        text-align: right;\n",
       "    }\n",
       "</style>\n",
       "<table border=\"1\" class=\"dataframe\">\n",
       "  <thead>\n",
       "    <tr style=\"text-align: right;\">\n",
       "      <th></th>\n",
       "      <th>co2</th>\n",
       "      <th>cylinders</th>\n",
       "      <th>displacement</th>\n",
       "      <th>year</th>\n",
       "      <th>consumption_liters_mile</th>\n",
       "    </tr>\n",
       "  </thead>\n",
       "  <tbody>\n",
       "    <tr>\n",
       "      <th>0</th>\n",
       "      <td>0.317749</td>\n",
       "      <td>0.142857</td>\n",
       "      <td>0.179487</td>\n",
       "      <td>0.028571</td>\n",
       "      <td>0.241830</td>\n",
       "    </tr>\n",
       "    <tr>\n",
       "      <th>1</th>\n",
       "      <td>0.627863</td>\n",
       "      <td>0.714286</td>\n",
       "      <td>0.551282</td>\n",
       "      <td>0.028571</td>\n",
       "      <td>0.586453</td>\n",
       "    </tr>\n",
       "    <tr>\n",
       "      <th>2</th>\n",
       "      <td>0.241943</td>\n",
       "      <td>0.142857</td>\n",
       "      <td>0.205128</td>\n",
       "      <td>0.028571</td>\n",
       "      <td>0.157589</td>\n",
       "    </tr>\n",
       "    <tr>\n",
       "      <th>3</th>\n",
       "      <td>0.627863</td>\n",
       "      <td>0.428571</td>\n",
       "      <td>0.589744</td>\n",
       "      <td>0.028571</td>\n",
       "      <td>0.586453</td>\n",
       "    </tr>\n",
       "    <tr>\n",
       "      <th>4</th>\n",
       "      <td>0.353657</td>\n",
       "      <td>0.142857</td>\n",
       "      <td>0.205128</td>\n",
       "      <td>0.257143</td>\n",
       "      <td>0.281734</td>\n",
       "    </tr>\n",
       "  </tbody>\n",
       "</table>\n",
       "</div>"
      ],
      "text/plain": [
       "        co2  cylinders  displacement      year  consumption_liters_mile\n",
       "0  0.317749   0.142857      0.179487  0.028571                 0.241830\n",
       "1  0.627863   0.714286      0.551282  0.028571                 0.586453\n",
       "2  0.241943   0.142857      0.205128  0.028571                 0.157589\n",
       "3  0.627863   0.428571      0.589744  0.028571                 0.586453\n",
       "4  0.353657   0.142857      0.205128  0.257143                 0.281734"
      ]
     },
     "execution_count": 69,
     "metadata": {},
     "output_type": "execute_result"
    }
   ],
   "source": [
    "from sklearn.preprocessing import MinMaxScaler\n",
    "\n",
    "numerical_data_normalized = MinMaxScaler().fit_transform(numerical_data) # this line scales our data\n",
    "\n",
    "numerical_data_normalized = pd.DataFrame(              #this pops it back in data frame format \n",
    "                    numerical_data_normalized,\n",
    "                    columns=numerical_data.columns) \n",
    "\n",
    "numerical_data_normalized.head()"
   ]
  },
  {
   "cell_type": "markdown",
   "metadata": {},
   "source": [
    "### <font color='#eb3483'>One Hot encode our categorical data </font>\n"
   ]
  },
  {
   "cell_type": "markdown",
   "metadata": {},
   "source": [
    "For categorical data, we will do simple one hot encoding via pandas `get_dummies()`"
   ]
  },
  {
   "cell_type": "code",
   "execution_count": 70,
   "metadata": {},
   "outputs": [],
   "source": [
    "categorical_data_codified = pd.get_dummies(\n",
    "                                    categorical_data, \n",
    "                                    drop_first=True,\n",
    "                                    dtype=\"int64\"\n",
    ").reset_index() #have to reset the index to be able to concat"
   ]
  },
  {
   "cell_type": "code",
   "execution_count": 71,
   "metadata": {},
   "outputs": [
    {
     "data": {
      "text/html": [
       "<div>\n",
       "<style scoped>\n",
       "    .dataframe tbody tr th:only-of-type {\n",
       "        vertical-align: middle;\n",
       "    }\n",
       "\n",
       "    .dataframe tbody tr th {\n",
       "        vertical-align: top;\n",
       "    }\n",
       "\n",
       "    .dataframe thead th {\n",
       "        text-align: right;\n",
       "    }\n",
       "</style>\n",
       "<table border=\"1\" class=\"dataframe\">\n",
       "  <thead>\n",
       "    <tr style=\"text-align: right;\">\n",
       "      <th></th>\n",
       "      <th>index</th>\n",
       "      <th>vehicle_class_type_Medium Cars</th>\n",
       "      <th>vehicle_class_type_Small Cars</th>\n",
       "      <th>vehicle_class_type_Special Vehicles</th>\n",
       "      <th>vehicle_class_type_Station Wagons</th>\n",
       "      <th>vehicle_class_type_Trucks</th>\n",
       "      <th>vehicle_class_type_Vans</th>\n",
       "      <th>drive_type_two</th>\n",
       "      <th>transmission_type_Manual</th>\n",
       "      <th>fuel_type_Normal</th>\n",
       "      <th>...</th>\n",
       "      <th>displacement_type_big</th>\n",
       "      <th>displacement_type_very big</th>\n",
       "      <th>consumption_type_low</th>\n",
       "      <th>consumption_type_moderate</th>\n",
       "      <th>consumption_type_high</th>\n",
       "      <th>consumption_type_very high</th>\n",
       "      <th>co2_type_low</th>\n",
       "      <th>co2_type_moderate</th>\n",
       "      <th>co2_type_high</th>\n",
       "      <th>co2_type_very high</th>\n",
       "    </tr>\n",
       "  </thead>\n",
       "  <tbody>\n",
       "    <tr>\n",
       "      <th>0</th>\n",
       "      <td>0</td>\n",
       "      <td>0</td>\n",
       "      <td>1</td>\n",
       "      <td>0</td>\n",
       "      <td>0</td>\n",
       "      <td>0</td>\n",
       "      <td>0</td>\n",
       "      <td>1</td>\n",
       "      <td>1</td>\n",
       "      <td>1</td>\n",
       "      <td>...</td>\n",
       "      <td>0</td>\n",
       "      <td>0</td>\n",
       "      <td>1</td>\n",
       "      <td>0</td>\n",
       "      <td>0</td>\n",
       "      <td>0</td>\n",
       "      <td>1</td>\n",
       "      <td>0</td>\n",
       "      <td>0</td>\n",
       "      <td>0</td>\n",
       "    </tr>\n",
       "    <tr>\n",
       "      <th>1</th>\n",
       "      <td>1</td>\n",
       "      <td>0</td>\n",
       "      <td>1</td>\n",
       "      <td>0</td>\n",
       "      <td>0</td>\n",
       "      <td>0</td>\n",
       "      <td>0</td>\n",
       "      <td>1</td>\n",
       "      <td>1</td>\n",
       "      <td>1</td>\n",
       "      <td>...</td>\n",
       "      <td>0</td>\n",
       "      <td>1</td>\n",
       "      <td>0</td>\n",
       "      <td>0</td>\n",
       "      <td>0</td>\n",
       "      <td>1</td>\n",
       "      <td>0</td>\n",
       "      <td>0</td>\n",
       "      <td>0</td>\n",
       "      <td>1</td>\n",
       "    </tr>\n",
       "    <tr>\n",
       "      <th>2</th>\n",
       "      <td>2</td>\n",
       "      <td>0</td>\n",
       "      <td>1</td>\n",
       "      <td>0</td>\n",
       "      <td>0</td>\n",
       "      <td>0</td>\n",
       "      <td>0</td>\n",
       "      <td>1</td>\n",
       "      <td>1</td>\n",
       "      <td>1</td>\n",
       "      <td>...</td>\n",
       "      <td>0</td>\n",
       "      <td>0</td>\n",
       "      <td>0</td>\n",
       "      <td>0</td>\n",
       "      <td>0</td>\n",
       "      <td>0</td>\n",
       "      <td>0</td>\n",
       "      <td>0</td>\n",
       "      <td>0</td>\n",
       "      <td>0</td>\n",
       "    </tr>\n",
       "    <tr>\n",
       "      <th>3</th>\n",
       "      <td>3</td>\n",
       "      <td>0</td>\n",
       "      <td>0</td>\n",
       "      <td>0</td>\n",
       "      <td>0</td>\n",
       "      <td>0</td>\n",
       "      <td>1</td>\n",
       "      <td>1</td>\n",
       "      <td>0</td>\n",
       "      <td>1</td>\n",
       "      <td>...</td>\n",
       "      <td>0</td>\n",
       "      <td>1</td>\n",
       "      <td>0</td>\n",
       "      <td>0</td>\n",
       "      <td>0</td>\n",
       "      <td>1</td>\n",
       "      <td>0</td>\n",
       "      <td>0</td>\n",
       "      <td>0</td>\n",
       "      <td>1</td>\n",
       "    </tr>\n",
       "    <tr>\n",
       "      <th>4</th>\n",
       "      <td>4</td>\n",
       "      <td>0</td>\n",
       "      <td>1</td>\n",
       "      <td>0</td>\n",
       "      <td>0</td>\n",
       "      <td>0</td>\n",
       "      <td>0</td>\n",
       "      <td>0</td>\n",
       "      <td>1</td>\n",
       "      <td>0</td>\n",
       "      <td>...</td>\n",
       "      <td>0</td>\n",
       "      <td>0</td>\n",
       "      <td>0</td>\n",
       "      <td>1</td>\n",
       "      <td>0</td>\n",
       "      <td>0</td>\n",
       "      <td>0</td>\n",
       "      <td>1</td>\n",
       "      <td>0</td>\n",
       "      <td>0</td>\n",
       "    </tr>\n",
       "  </tbody>\n",
       "</table>\n",
       "<p>5 rows × 24 columns</p>\n",
       "</div>"
      ],
      "text/plain": [
       "   index  vehicle_class_type_Medium Cars  vehicle_class_type_Small Cars  \\\n",
       "0      0                               0                              1   \n",
       "1      1                               0                              1   \n",
       "2      2                               0                              1   \n",
       "3      3                               0                              0   \n",
       "4      4                               0                              1   \n",
       "\n",
       "   vehicle_class_type_Special Vehicles  vehicle_class_type_Station Wagons  \\\n",
       "0                                    0                                  0   \n",
       "1                                    0                                  0   \n",
       "2                                    0                                  0   \n",
       "3                                    0                                  0   \n",
       "4                                    0                                  0   \n",
       "\n",
       "   vehicle_class_type_Trucks  vehicle_class_type_Vans  drive_type_two  \\\n",
       "0                          0                        0               1   \n",
       "1                          0                        0               1   \n",
       "2                          0                        0               1   \n",
       "3                          0                        1               1   \n",
       "4                          0                        0               0   \n",
       "\n",
       "   transmission_type_Manual  fuel_type_Normal  ...  displacement_type_big  \\\n",
       "0                         1                 1  ...                      0   \n",
       "1                         1                 1  ...                      0   \n",
       "2                         1                 1  ...                      0   \n",
       "3                         0                 1  ...                      0   \n",
       "4                         1                 0  ...                      0   \n",
       "\n",
       "   displacement_type_very big  consumption_type_low  \\\n",
       "0                           0                     1   \n",
       "1                           1                     0   \n",
       "2                           0                     0   \n",
       "3                           1                     0   \n",
       "4                           0                     0   \n",
       "\n",
       "   consumption_type_moderate  consumption_type_high  \\\n",
       "0                          0                      0   \n",
       "1                          0                      0   \n",
       "2                          0                      0   \n",
       "3                          0                      0   \n",
       "4                          1                      0   \n",
       "\n",
       "   consumption_type_very high  co2_type_low  co2_type_moderate  co2_type_high  \\\n",
       "0                           0             1                  0              0   \n",
       "1                           1             0                  0              0   \n",
       "2                           0             0                  0              0   \n",
       "3                           1             0                  0              0   \n",
       "4                           0             0                  1              0   \n",
       "\n",
       "   co2_type_very high  \n",
       "0                   0  \n",
       "1                   1  \n",
       "2                   0  \n",
       "3                   1  \n",
       "4                   0  \n",
       "\n",
       "[5 rows x 24 columns]"
      ]
     },
     "execution_count": 71,
     "metadata": {},
     "output_type": "execute_result"
    }
   ],
   "source": [
    "categorical_data_codified.head()"
   ]
  },
  {
   "cell_type": "code",
   "execution_count": 72,
   "metadata": {},
   "outputs": [
    {
     "data": {
      "text/plain": [
       "(32536, 24)"
      ]
     },
     "execution_count": 72,
     "metadata": {},
     "output_type": "execute_result"
    }
   ],
   "source": [
    "categorical_data_codified.shape"
   ]
  },
  {
   "cell_type": "code",
   "execution_count": 73,
   "metadata": {},
   "outputs": [
    {
     "data": {
      "text/plain": [
       "index                                  int64\n",
       "vehicle_class_type_Medium Cars         int64\n",
       "vehicle_class_type_Small Cars          int64\n",
       "vehicle_class_type_Special Vehicles    int64\n",
       "vehicle_class_type_Station Wagons      int64\n",
       "vehicle_class_type_Trucks              int64\n",
       "vehicle_class_type_Vans                int64\n",
       "drive_type_two                         int64\n",
       "transmission_type_Manual               int64\n",
       "fuel_type_Normal                       int64\n",
       "fuel_type_Other types of fuel          int64\n",
       "fuel_type_Premium                      int64\n",
       "displacement_type_small                int64\n",
       "displacement_type_medium               int64\n",
       "displacement_type_big                  int64\n",
       "displacement_type_very big             int64\n",
       "consumption_type_low                   int64\n",
       "consumption_type_moderate              int64\n",
       "consumption_type_high                  int64\n",
       "consumption_type_very high             int64\n",
       "co2_type_low                           int64\n",
       "co2_type_moderate                      int64\n",
       "co2_type_high                          int64\n",
       "co2_type_very high                     int64\n",
       "dtype: object"
      ]
     },
     "execution_count": 73,
     "metadata": {},
     "output_type": "execute_result"
    }
   ],
   "source": [
    "categorical_data_codified.dtypes # check that these are now all numerical"
   ]
  },
  {
   "cell_type": "code",
   "execution_count": 74,
   "metadata": {},
   "outputs": [
    {
     "data": {
      "text/plain": [
       "(32536, 5)"
      ]
     },
     "execution_count": 74,
     "metadata": {},
     "output_type": "execute_result"
    }
   ],
   "source": [
    "numerical_data_normalized.shape"
   ]
  },
  {
   "cell_type": "code",
   "execution_count": 75,
   "metadata": {},
   "outputs": [
    {
     "data": {
      "text/plain": [
       "co2                        float64\n",
       "cylinders                  float64\n",
       "displacement               float64\n",
       "year                       float64\n",
       "consumption_liters_mile    float64\n",
       "dtype: object"
      ]
     },
     "execution_count": 75,
     "metadata": {},
     "output_type": "execute_result"
    }
   ],
   "source": [
    "numerical_data_normalized.dtypes"
   ]
  },
  {
   "cell_type": "markdown",
   "metadata": {},
   "source": [
    "Now we join the numerical and categorical data back together to get our final data frame to use\n"
   ]
  },
  {
   "cell_type": "code",
   "execution_count": 76,
   "metadata": {},
   "outputs": [],
   "source": [
    "vehicles_processed = pd.concat([\n",
    "                            numerical_data_normalized,\n",
    "                            categorical_data_codified\n",
    "                        ], axis=1\n",
    ")"
   ]
  },
  {
   "cell_type": "code",
   "execution_count": 77,
   "metadata": {},
   "outputs": [
    {
     "data": {
      "text/plain": [
       "(32536, 29)"
      ]
     },
     "execution_count": 77,
     "metadata": {},
     "output_type": "execute_result"
    }
   ],
   "source": [
    "vehicles_processed.shape"
   ]
  },
  {
   "cell_type": "code",
   "execution_count": 78,
   "metadata": {},
   "outputs": [
    {
     "data": {
      "text/html": [
       "<div>\n",
       "<style scoped>\n",
       "    .dataframe tbody tr th:only-of-type {\n",
       "        vertical-align: middle;\n",
       "    }\n",
       "\n",
       "    .dataframe tbody tr th {\n",
       "        vertical-align: top;\n",
       "    }\n",
       "\n",
       "    .dataframe thead th {\n",
       "        text-align: right;\n",
       "    }\n",
       "</style>\n",
       "<table border=\"1\" class=\"dataframe\">\n",
       "  <thead>\n",
       "    <tr style=\"text-align: right;\">\n",
       "      <th></th>\n",
       "      <th>co2</th>\n",
       "      <th>cylinders</th>\n",
       "      <th>displacement</th>\n",
       "      <th>year</th>\n",
       "      <th>consumption_liters_mile</th>\n",
       "      <th>index</th>\n",
       "      <th>vehicle_class_type_Medium Cars</th>\n",
       "      <th>vehicle_class_type_Small Cars</th>\n",
       "      <th>vehicle_class_type_Special Vehicles</th>\n",
       "      <th>vehicle_class_type_Station Wagons</th>\n",
       "      <th>...</th>\n",
       "      <th>displacement_type_big</th>\n",
       "      <th>displacement_type_very big</th>\n",
       "      <th>consumption_type_low</th>\n",
       "      <th>consumption_type_moderate</th>\n",
       "      <th>consumption_type_high</th>\n",
       "      <th>consumption_type_very high</th>\n",
       "      <th>co2_type_low</th>\n",
       "      <th>co2_type_moderate</th>\n",
       "      <th>co2_type_high</th>\n",
       "      <th>co2_type_very high</th>\n",
       "    </tr>\n",
       "  </thead>\n",
       "  <tbody>\n",
       "    <tr>\n",
       "      <th>0</th>\n",
       "      <td>0.317749</td>\n",
       "      <td>0.142857</td>\n",
       "      <td>0.179487</td>\n",
       "      <td>0.028571</td>\n",
       "      <td>0.241830</td>\n",
       "      <td>0</td>\n",
       "      <td>0</td>\n",
       "      <td>1</td>\n",
       "      <td>0</td>\n",
       "      <td>0</td>\n",
       "      <td>...</td>\n",
       "      <td>0</td>\n",
       "      <td>0</td>\n",
       "      <td>1</td>\n",
       "      <td>0</td>\n",
       "      <td>0</td>\n",
       "      <td>0</td>\n",
       "      <td>1</td>\n",
       "      <td>0</td>\n",
       "      <td>0</td>\n",
       "      <td>0</td>\n",
       "    </tr>\n",
       "    <tr>\n",
       "      <th>1</th>\n",
       "      <td>0.627863</td>\n",
       "      <td>0.714286</td>\n",
       "      <td>0.551282</td>\n",
       "      <td>0.028571</td>\n",
       "      <td>0.586453</td>\n",
       "      <td>1</td>\n",
       "      <td>0</td>\n",
       "      <td>1</td>\n",
       "      <td>0</td>\n",
       "      <td>0</td>\n",
       "      <td>...</td>\n",
       "      <td>0</td>\n",
       "      <td>1</td>\n",
       "      <td>0</td>\n",
       "      <td>0</td>\n",
       "      <td>0</td>\n",
       "      <td>1</td>\n",
       "      <td>0</td>\n",
       "      <td>0</td>\n",
       "      <td>0</td>\n",
       "      <td>1</td>\n",
       "    </tr>\n",
       "    <tr>\n",
       "      <th>2</th>\n",
       "      <td>0.241943</td>\n",
       "      <td>0.142857</td>\n",
       "      <td>0.205128</td>\n",
       "      <td>0.028571</td>\n",
       "      <td>0.157589</td>\n",
       "      <td>2</td>\n",
       "      <td>0</td>\n",
       "      <td>1</td>\n",
       "      <td>0</td>\n",
       "      <td>0</td>\n",
       "      <td>...</td>\n",
       "      <td>0</td>\n",
       "      <td>0</td>\n",
       "      <td>0</td>\n",
       "      <td>0</td>\n",
       "      <td>0</td>\n",
       "      <td>0</td>\n",
       "      <td>0</td>\n",
       "      <td>0</td>\n",
       "      <td>0</td>\n",
       "      <td>0</td>\n",
       "    </tr>\n",
       "    <tr>\n",
       "      <th>3</th>\n",
       "      <td>0.627863</td>\n",
       "      <td>0.428571</td>\n",
       "      <td>0.589744</td>\n",
       "      <td>0.028571</td>\n",
       "      <td>0.586453</td>\n",
       "      <td>3</td>\n",
       "      <td>0</td>\n",
       "      <td>0</td>\n",
       "      <td>0</td>\n",
       "      <td>0</td>\n",
       "      <td>...</td>\n",
       "      <td>0</td>\n",
       "      <td>1</td>\n",
       "      <td>0</td>\n",
       "      <td>0</td>\n",
       "      <td>0</td>\n",
       "      <td>1</td>\n",
       "      <td>0</td>\n",
       "      <td>0</td>\n",
       "      <td>0</td>\n",
       "      <td>1</td>\n",
       "    </tr>\n",
       "    <tr>\n",
       "      <th>4</th>\n",
       "      <td>0.353657</td>\n",
       "      <td>0.142857</td>\n",
       "      <td>0.205128</td>\n",
       "      <td>0.257143</td>\n",
       "      <td>0.281734</td>\n",
       "      <td>4</td>\n",
       "      <td>0</td>\n",
       "      <td>1</td>\n",
       "      <td>0</td>\n",
       "      <td>0</td>\n",
       "      <td>...</td>\n",
       "      <td>0</td>\n",
       "      <td>0</td>\n",
       "      <td>0</td>\n",
       "      <td>1</td>\n",
       "      <td>0</td>\n",
       "      <td>0</td>\n",
       "      <td>0</td>\n",
       "      <td>1</td>\n",
       "      <td>0</td>\n",
       "      <td>0</td>\n",
       "    </tr>\n",
       "  </tbody>\n",
       "</table>\n",
       "<p>5 rows × 29 columns</p>\n",
       "</div>"
      ],
      "text/plain": [
       "        co2  cylinders  displacement      year  consumption_liters_mile  \\\n",
       "0  0.317749   0.142857      0.179487  0.028571                 0.241830   \n",
       "1  0.627863   0.714286      0.551282  0.028571                 0.586453   \n",
       "2  0.241943   0.142857      0.205128  0.028571                 0.157589   \n",
       "3  0.627863   0.428571      0.589744  0.028571                 0.586453   \n",
       "4  0.353657   0.142857      0.205128  0.257143                 0.281734   \n",
       "\n",
       "   index  vehicle_class_type_Medium Cars  vehicle_class_type_Small Cars  \\\n",
       "0      0                               0                              1   \n",
       "1      1                               0                              1   \n",
       "2      2                               0                              1   \n",
       "3      3                               0                              0   \n",
       "4      4                               0                              1   \n",
       "\n",
       "   vehicle_class_type_Special Vehicles  vehicle_class_type_Station Wagons  \\\n",
       "0                                    0                                  0   \n",
       "1                                    0                                  0   \n",
       "2                                    0                                  0   \n",
       "3                                    0                                  0   \n",
       "4                                    0                                  0   \n",
       "\n",
       "   ...  displacement_type_big  displacement_type_very big  \\\n",
       "0  ...                      0                           0   \n",
       "1  ...                      0                           1   \n",
       "2  ...                      0                           0   \n",
       "3  ...                      0                           1   \n",
       "4  ...                      0                           0   \n",
       "\n",
       "   consumption_type_low  consumption_type_moderate  consumption_type_high  \\\n",
       "0                     1                          0                      0   \n",
       "1                     0                          0                      0   \n",
       "2                     0                          0                      0   \n",
       "3                     0                          0                      0   \n",
       "4                     0                          1                      0   \n",
       "\n",
       "   consumption_type_very high  co2_type_low  co2_type_moderate  co2_type_high  \\\n",
       "0                           0             1                  0              0   \n",
       "1                           1             0                  0              0   \n",
       "2                           0             0                  0              0   \n",
       "3                           1             0                  0              0   \n",
       "4                           0             0                  1              0   \n",
       "\n",
       "   co2_type_very high  \n",
       "0                   0  \n",
       "1                   1  \n",
       "2                   0  \n",
       "3                   1  \n",
       "4                   0  \n",
       "\n",
       "[5 rows x 29 columns]"
      ]
     },
     "execution_count": 78,
     "metadata": {},
     "output_type": "execute_result"
    }
   ],
   "source": [
    "vehicles_processed.head()"
   ]
  },
  {
   "cell_type": "code",
   "execution_count": 79,
   "metadata": {},
   "outputs": [],
   "source": [
    "vehicles_processed = vehicles_processed.drop(columns = \"index\")"
   ]
  },
  {
   "cell_type": "markdown",
   "metadata": {},
   "source": [
    "# <font color='#eb3483'>K-Means</font>\n",
    "\n",
    "Scikit-learn implements KMeans in the module [sklearn.cluster.KMeans](http://scikit-learn.org/stable/modules/generated/sklearn.cluster.KMeans.html)"
   ]
  },
  {
   "cell_type": "code",
   "execution_count": 80,
   "metadata": {},
   "outputs": [],
   "source": [
    "from sklearn.cluster import KMeans"
   ]
  },
  {
   "cell_type": "markdown",
   "metadata": {},
   "source": [
    "The most important hyperparameters for Kmeans are:\n",
    "\n",
    "- **n_clusters**: The number of clusters (K), default is 8.\n",
    "- **init**: Initialization method. A problem that K-Means has is that the solution it reachs depends on the random initialization of the cluster centers. `sklearn` uses a method `kmeans++` that is a more estable initialization method than random initialization.\n",
    "- **n_init**: Number of initializations. `KMEans` runs the algorithm `n_init` times and selects the clusters with the minimum inertia.\n",
    "- **max_iter**: Maximum number of iterations to stop.\n",
    "- **tol**: Tolerance to stop (the bigger the tolerance, the sooner the algorithm will stop but might not find the best solution)."
   ]
  },
  {
   "cell_type": "code",
   "execution_count": 81,
   "metadata": {},
   "outputs": [
    {
     "data": {
      "text/plain": [
       "KMeans(random_state=42)"
      ]
     },
     "execution_count": 81,
     "metadata": {},
     "output_type": "execute_result"
    }
   ],
   "source": [
    "estimator_kmeans = KMeans(random_state=42, n_clusters=8) # instantiate our Kmeans model\n",
    "\n",
    "estimator_kmeans.fit(vehicles_processed) # fit the model to our vehicles data"
   ]
  },
  {
   "cell_type": "markdown",
   "metadata": {},
   "source": [
    "Since KMeans is unsupervised training we cant test against Known labels. Instead Kmeans split the data points into one of 8 clusters (we specified 8 clusters above) and outputs what the predicted cluster would be. "
   ]
  },
  {
   "cell_type": "markdown",
   "metadata": {},
   "source": [
    "Kmeans has the method `predict` like any other sklearn estimator that allows us to assign new observations to clusters."
   ]
  },
  {
   "cell_type": "code",
   "execution_count": 82,
   "metadata": {},
   "outputs": [
    {
     "data": {
      "text/plain": [
       "array([1, 3, 5, ..., 1, 1, 4])"
      ]
     },
     "execution_count": 82,
     "metadata": {},
     "output_type": "execute_result"
    }
   ],
   "source": [
    "estimator_kmeans.predict(vehicles_processed)"
   ]
  },
  {
   "cell_type": "markdown",
   "metadata": {},
   "source": [
    "We can get the coordinates of the cluster centroids with `cluster_centers_`\n",
    "\n",
    "Don't worry too much about this. But incase you want to know. Each cluster has a centroid right. If we only had two feature variables (it would be easy to imagine this as the X & Y) and plot it out this way using a scatter plot in sns and coloring the scatter by the cluster it was assigned to.\n",
    "\n",
    "In this isntance we had 29 input features - so it is giving us the X & Y & Z & .... which is impossible for us to even imagine plotting. But there are ways we could compare all the values per cluster to see which groups are most similar to each other without having to actually visualise this.\n"
   ]
  },
  {
   "cell_type": "code",
   "execution_count": 83,
   "metadata": {
    "scrolled": true
   },
   "outputs": [
    {
     "data": {
      "text/plain": [
       "array([[ 3.96095991e-01,  2.94274108e-01,  4.09862912e-01,\n",
       "         3.31714866e-01,  3.27733941e-01,  6.16113744e-02,\n",
       "         1.03588355e-01,  1.76935229e-01,  4.19769804e-02,\n",
       "         4.30828255e-01,  1.24802528e-01,  6.91943128e-01,\n",
       "         3.18438276e-01,  9.38388626e-01,  5.95802302e-02,\n",
       "         2.03114421e-03,  1.00654480e-01,  2.99706613e-01,\n",
       "         4.07582938e-01,  1.77612277e-01, -1.22124533e-15,\n",
       "         4.16158881e-01,  5.82938389e-01,  9.02730761e-04,\n",
       "        -2.77555756e-17, -4.66293670e-15,  9.97066125e-01,\n",
       "         2.93387497e-03],\n",
       "       [ 3.04096806e-01,  1.79143665e-01,  2.36490732e-01,\n",
       "         3.85458462e-01,  2.25705702e-01,  1.88972667e-01,\n",
       "         4.23892554e-01,  7.49293120e-02,  1.27474081e-01,\n",
       "         1.11687088e-01,  1.41376060e-02,  8.62393968e-01,\n",
       "         3.72761546e-01,  9.59472196e-01,  4.05278040e-02,\n",
       "        -4.10782519e-15,  4.48162111e-01,  1.58576814e-01,\n",
       "         7.39868049e-02,  4.47690858e-03,  9.76201697e-01,\n",
       "        -1.11022302e-15,  1.69309011e-15, -2.58126853e-15,\n",
       "         9.89161169e-01,  1.01319510e-02,  2.19269047e-15,\n",
       "         4.19109192e-15],\n",
       "       [ 3.43686821e-01,  2.37372172e-01,  3.03687636e-01,\n",
       "         3.44291469e-01,  2.70221846e-01,  1.87480632e-01,\n",
       "         2.46048962e-01,  8.11899597e-02,  1.13108150e-01,\n",
       "         1.96157422e-01,  6.91044314e-02,  8.53734118e-01,\n",
       "         2.77967152e-01,  9.78927797e-01,  2.10722033e-02,\n",
       "         5.55111512e-17,  2.75797955e-01,  4.54291912e-01,\n",
       "         1.66098544e-01,  3.00588782e-02,  2.35512860e-02,\n",
       "         9.72730090e-01,  1.42941214e-15, -1.97064587e-15,\n",
       "         0.00000000e+00,  1.00000000e+00,  2.52575738e-15,\n",
       "         1.97064587e-15],\n",
       "       [ 5.12219100e-01,  4.24719405e-01,  5.84223524e-01,\n",
       "         3.53628040e-01,  4.55082931e-01,  4.65196416e-02,\n",
       "         1.34045486e-01,  1.31977946e-01,  4.47966919e-03,\n",
       "         4.11095796e-01,  2.27946244e-01,  6.24224673e-01,\n",
       "         2.58442453e-01,  6.82977257e-01,  1.20951068e-01,\n",
       "         1.96071675e-01,  7.92556857e-03,  6.15093039e-02,\n",
       "         1.63680221e-01,  7.66195727e-01,  3.44589938e-04,\n",
       "         1.10268780e-02,  3.99724328e-02,  9.48656099e-01,\n",
       "         0.00000000e+00,  3.44589938e-04,  1.20606478e-03,\n",
       "         9.98449345e-01],\n",
       "       [ 3.42020532e-01,  2.89898148e-01,  3.47951368e-01,\n",
       "         6.45799099e-01,  2.68853913e-01,  1.65120594e-01,\n",
       "         6.83010867e-01,  8.48131460e-03,  5.45984628e-02,\n",
       "         2.91545190e-03,  6.36098595e-03,  7.68619136e-01,\n",
       "         3.15398887e-01, -1.35447209e-14,  4.77073946e-03,\n",
       "         9.94169096e-01,  3.84309568e-02,  1.99310893e-01,\n",
       "         2.55764644e-01,  1.76517360e-01, -5.82867088e-16,\n",
       "         3.11423271e-01,  2.53379274e-01,  5.32732574e-02,\n",
       "         0.00000000e+00, -2.44249065e-15,  5.51815531e-01,\n",
       "         6.57301882e-02],\n",
       "       [ 2.37742176e-01,  1.43369350e-01,  1.63582476e-01,\n",
       "         4.84967926e-01,  1.52798440e-01,  1.64589380e-01,\n",
       "         6.52381765e-01,  1.00734164e-02,  1.39832679e-01,\n",
       "         1.00734164e-02,  2.04883046e-03,  9.60560014e-01,\n",
       "         5.28256787e-01,  9.21461499e-01,  6.57333106e-02,\n",
       "        -8.04911693e-15,  2.17517500e-01,  8.87826532e-03,\n",
       "         1.53662284e-03, -3.71924713e-15,  6.82943486e-04,\n",
       "         4.78060440e-03,  1.70735872e-04,  1.19515110e-03,\n",
       "         3.92692505e-03,  1.87809459e-03,  4.78060440e-03,\n",
       "         1.36588697e-03],\n",
       "       [ 3.45192608e-01,  2.92910165e-01,  3.58090654e-01,\n",
       "         6.02908650e-01,  2.71037212e-01,  2.00777660e-01,\n",
       "         5.58854719e-01,  2.12089077e-03,  9.96818664e-02,\n",
       "         2.54506893e-02,  1.02509721e-02,  6.91410392e-01,\n",
       "         2.69706610e-01, -9.65894031e-15,  8.87239307e-02,\n",
       "         9.10569106e-01,  1.82396607e-01,  3.57016614e-01,\n",
       "         2.91975963e-01,  1.09932838e-01,  5.76175327e-02,\n",
       "         9.32131495e-01,  1.76740898e-03,  7.06963591e-04,\n",
       "         7.06963591e-04,  9.99293036e-01,  2.38697950e-15,\n",
       "         1.52655666e-15],\n",
       "       [ 3.03928361e-01,  2.36518648e-01,  2.79071905e-01,\n",
       "         6.86280653e-01,  2.26900959e-01,  1.58161113e-01,\n",
       "         7.06452973e-01,  3.79586672e-03,  7.16997048e-02,\n",
       "         4.21762969e-03,  6.38378239e-16,  7.31336989e-01,\n",
       "         3.96035428e-01, -7.77156117e-15,  6.11556305e-02,\n",
       "         9.35892029e-01,  1.91902151e-01,  4.86714466e-01,\n",
       "         9.65837199e-02,  3.79586672e-03,  9.43061999e-01,\n",
       "        -1.05471187e-15,  1.26528891e-03, -1.13797860e-15,\n",
       "         9.85660059e-01,  1.13876002e-02,  2.27595720e-15,\n",
       "         9.99200722e-16]])"
      ]
     },
     "execution_count": 83,
     "metadata": {},
     "output_type": "execute_result"
    }
   ],
   "source": [
    "centroids = estimator_kmeans.cluster_centers_\n",
    "centroids"
   ]
  },
  {
   "cell_type": "code",
   "execution_count": 84,
   "metadata": {},
   "outputs": [
    {
     "data": {
      "text/plain": [
       "(8, 28)"
      ]
     },
     "execution_count": 84,
     "metadata": {},
     "output_type": "execute_result"
    }
   ],
   "source": [
    "centroids.shape"
   ]
  },
  {
   "cell_type": "markdown",
   "metadata": {},
   "source": [
    "We can see the final inertia for the clusters.\n",
    "\n",
    "Inertia is the sum of squared error for each cluster.   \n",
    "Therefore the smaller the inertia the denser the cluster(closer together all the points are)   \n",
    "\n",
    "So we could try different Ks and see if we can get this inertia to decrease (without overfitting of course and while still gaining info) ... but wait for this a bit later on in the note book :)"
   ]
  },
  {
   "cell_type": "code",
   "execution_count": 85,
   "metadata": {},
   "outputs": [
    {
     "data": {
      "text/plain": [
       "62431.81176956934"
      ]
     },
     "execution_count": 85,
     "metadata": {},
     "output_type": "execute_result"
    }
   ],
   "source": [
    "estimator_kmeans.inertia_"
   ]
  },
  {
   "cell_type": "markdown",
   "metadata": {},
   "source": [
    "### <font color='#eb3483'>Describing the clusters</font>"
   ]
  },
  {
   "cell_type": "markdown",
   "metadata": {},
   "source": [
    "We now make a  function to help describe the clusters. This is useful if we want to present some summary to our client to describe the clusters"
   ]
  },
  {
   "cell_type": "markdown",
   "metadata": {},
   "source": [
    "We assign the cluster label to a new column"
   ]
  },
  {
   "cell_type": "code",
   "execution_count": 86,
   "metadata": {},
   "outputs": [
    {
     "data": {
      "text/plain": [
       "(32536,)"
      ]
     },
     "execution_count": 86,
     "metadata": {},
     "output_type": "execute_result"
    }
   ],
   "source": [
    "#one cluster: high bias\n",
    "#k clusters = k num of points: low bias\n",
    "estimator_kmeans.labels_.shape # these are the predicted cluster labels"
   ]
  },
  {
   "cell_type": "code",
   "execution_count": 87,
   "metadata": {},
   "outputs": [
    {
     "data": {
      "text/plain": [
       "(32536, 12)"
      ]
     },
     "execution_count": 87,
     "metadata": {},
     "output_type": "execute_result"
    }
   ],
   "source": [
    "vehicles.shape # this is our original data frame"
   ]
  },
  {
   "cell_type": "code",
   "execution_count": 88,
   "metadata": {},
   "outputs": [],
   "source": [
    "# we can just add the newly predicted cluster column onto our original dataframe.\n",
    "vehicles[\"cluster_id\"] = estimator_kmeans.labels_ "
   ]
  },
  {
   "cell_type": "code",
   "execution_count": 89,
   "metadata": {},
   "outputs": [
    {
     "data": {
      "text/html": [
       "<div>\n",
       "<style scoped>\n",
       "    .dataframe tbody tr th:only-of-type {\n",
       "        vertical-align: middle;\n",
       "    }\n",
       "\n",
       "    .dataframe tbody tr th {\n",
       "        vertical-align: top;\n",
       "    }\n",
       "\n",
       "    .dataframe thead th {\n",
       "        text-align: right;\n",
       "    }\n",
       "</style>\n",
       "<table border=\"1\" class=\"dataframe\">\n",
       "  <thead>\n",
       "    <tr style=\"text-align: right;\">\n",
       "      <th></th>\n",
       "      <th>co2</th>\n",
       "      <th>cylinders</th>\n",
       "      <th>displacement</th>\n",
       "      <th>year</th>\n",
       "      <th>vehicle_class_type</th>\n",
       "      <th>drive_type</th>\n",
       "      <th>transmission_type</th>\n",
       "      <th>fuel_type</th>\n",
       "      <th>displacement_type</th>\n",
       "      <th>consumption_type</th>\n",
       "      <th>co2_type</th>\n",
       "      <th>consumption_liters_mile</th>\n",
       "      <th>cluster_id</th>\n",
       "    </tr>\n",
       "  </thead>\n",
       "  <tbody>\n",
       "    <tr>\n",
       "      <th>0</th>\n",
       "      <td>423.190476</td>\n",
       "      <td>4.0</td>\n",
       "      <td>2.0</td>\n",
       "      <td>1985</td>\n",
       "      <td>Small Cars</td>\n",
       "      <td>two</td>\n",
       "      <td>Manual</td>\n",
       "      <td>Normal</td>\n",
       "      <td>very small</td>\n",
       "      <td>low</td>\n",
       "      <td>low</td>\n",
       "      <td>0.180258</td>\n",
       "      <td>1</td>\n",
       "    </tr>\n",
       "    <tr>\n",
       "      <th>1</th>\n",
       "      <td>807.909091</td>\n",
       "      <td>12.0</td>\n",
       "      <td>4.9</td>\n",
       "      <td>1985</td>\n",
       "      <td>Small Cars</td>\n",
       "      <td>two</td>\n",
       "      <td>Manual</td>\n",
       "      <td>Normal</td>\n",
       "      <td>very big</td>\n",
       "      <td>very high</td>\n",
       "      <td>very high</td>\n",
       "      <td>0.344128</td>\n",
       "      <td>3</td>\n",
       "    </tr>\n",
       "    <tr>\n",
       "      <th>2</th>\n",
       "      <td>329.148148</td>\n",
       "      <td>4.0</td>\n",
       "      <td>2.2</td>\n",
       "      <td>1985</td>\n",
       "      <td>Small Cars</td>\n",
       "      <td>two</td>\n",
       "      <td>Manual</td>\n",
       "      <td>Normal</td>\n",
       "      <td>small</td>\n",
       "      <td>very low</td>\n",
       "      <td>very low</td>\n",
       "      <td>0.140200</td>\n",
       "      <td>5</td>\n",
       "    </tr>\n",
       "    <tr>\n",
       "      <th>3</th>\n",
       "      <td>807.909091</td>\n",
       "      <td>8.0</td>\n",
       "      <td>5.2</td>\n",
       "      <td>1985</td>\n",
       "      <td>Vans</td>\n",
       "      <td>two</td>\n",
       "      <td>Automatic</td>\n",
       "      <td>Normal</td>\n",
       "      <td>very big</td>\n",
       "      <td>very high</td>\n",
       "      <td>very high</td>\n",
       "      <td>0.344128</td>\n",
       "      <td>3</td>\n",
       "    </tr>\n",
       "    <tr>\n",
       "      <th>4</th>\n",
       "      <td>467.736842</td>\n",
       "      <td>4.0</td>\n",
       "      <td>2.2</td>\n",
       "      <td>1993</td>\n",
       "      <td>Small Cars</td>\n",
       "      <td>four</td>\n",
       "      <td>Manual</td>\n",
       "      <td>Premium</td>\n",
       "      <td>small</td>\n",
       "      <td>moderate</td>\n",
       "      <td>moderate</td>\n",
       "      <td>0.199232</td>\n",
       "      <td>6</td>\n",
       "    </tr>\n",
       "  </tbody>\n",
       "</table>\n",
       "</div>"
      ],
      "text/plain": [
       "          co2  cylinders  displacement  year vehicle_class_type drive_type  \\\n",
       "0  423.190476        4.0           2.0  1985         Small Cars        two   \n",
       "1  807.909091       12.0           4.9  1985         Small Cars        two   \n",
       "2  329.148148        4.0           2.2  1985         Small Cars        two   \n",
       "3  807.909091        8.0           5.2  1985               Vans        two   \n",
       "4  467.736842        4.0           2.2  1993         Small Cars       four   \n",
       "\n",
       "  transmission_type fuel_type displacement_type consumption_type   co2_type  \\\n",
       "0            Manual    Normal        very small              low        low   \n",
       "1            Manual    Normal          very big        very high  very high   \n",
       "2            Manual    Normal             small         very low   very low   \n",
       "3         Automatic    Normal          very big        very high  very high   \n",
       "4            Manual   Premium             small         moderate   moderate   \n",
       "\n",
       "   consumption_liters_mile  cluster_id  \n",
       "0                 0.180258           1  \n",
       "1                 0.344128           3  \n",
       "2                 0.140200           5  \n",
       "3                 0.344128           3  \n",
       "4                 0.199232           6  "
      ]
     },
     "execution_count": 89,
     "metadata": {},
     "output_type": "execute_result"
    }
   ],
   "source": [
    "vehicles.head()"
   ]
  },
  {
   "cell_type": "code",
   "execution_count": 90,
   "metadata": {},
   "outputs": [
    {
     "data": {
      "text/plain": [
       "5    5857\n",
       "3    5804\n",
       "0    4431\n",
       "1    4244\n",
       "4    3773\n",
       "2    3227\n",
       "6    2829\n",
       "7    2371\n",
       "Name: cluster_id, dtype: int64"
      ]
     },
     "execution_count": 90,
     "metadata": {},
     "output_type": "execute_result"
    }
   ],
   "source": [
    "# we can see how many of each cluster we had in our original data frame\n",
    "vehicles.cluster_id.value_counts()"
   ]
  },
  {
   "cell_type": "markdown",
   "metadata": {},
   "source": [
    "We can create a function to try and summarize the clusters  \n",
    "For the numerical values this is easy we can just ge the average value for that cluster.   \n",
    "For the categorical values - this is where mode comes in really handy "
   ]
  },
  {
   "cell_type": "code",
   "execution_count": 91,
   "metadata": {},
   "outputs": [],
   "source": [
    "def cluster_summary(cluster_id):  # define a function and call it cluster_summary, that takes the input of a cluster id/label\n",
    "    cluster = vehicles[vehicles.cluster_id==cluster_id] # pull out all the rows with that ID\n",
    "    cluster_summary = cluster[categorical_data.columns].mode().to_dict(orient=\"records\")[0] # get mode for categoricals\n",
    "    cluster_summary.update(cluster.mean().to_dict()) # get means for numerical (only does for numerical if we didnt specify)\n",
    "    return cluster_summary # display the summary "
   ]
  },
  {
   "cell_type": "code",
   "execution_count": 92,
   "metadata": {},
   "outputs": [
    {
     "data": {
      "text/plain": [
       "{'vehicle_class_type': 'Small Cars',\n",
       " 'drive_type': 'two',\n",
       " 'transmission_type': 'Manual',\n",
       " 'fuel_type': 'Normal',\n",
       " 'displacement_type': 'very small',\n",
       " 'consumption_type': 'very low',\n",
       " 'co2_type': 'very low',\n",
       " 'co2': 323.93615128424,\n",
       " 'cylinders': 4.007170906607478,\n",
       " 'displacement': 1.8759433156906278,\n",
       " 'year': 2000.9738774116443,\n",
       " 'consumption_liters_mile': 0.13792244296248407,\n",
       " 'cluster_id': 5.0}"
      ]
     },
     "execution_count": 92,
     "metadata": {},
     "output_type": "execute_result"
    }
   ],
   "source": [
    "# use our new function to get the summary of group 5\n",
    "cluster_summary(5)"
   ]
  },
  {
   "cell_type": "code",
   "execution_count": 93,
   "metadata": {},
   "outputs": [
    {
     "data": {
      "text/plain": [
       "{'vehicle_class_type': 'Small Cars',\n",
       " 'drive_type': 'two',\n",
       " 'transmission_type': 'Automatic',\n",
       " 'fuel_type': 'Normal',\n",
       " 'displacement_type': 'small',\n",
       " 'consumption_type': 'low',\n",
       " 'co2_type': 'low',\n",
       " 'co2': 406.25380880049875,\n",
       " 'cylinders': 4.508011310084826,\n",
       " 'displacement': 2.4446277097078086,\n",
       " 'year': 1997.4910461828463,\n",
       " 'consumption_liters_mile': 0.17259036888009835,\n",
       " 'cluster_id': 1.0}"
      ]
     },
     "execution_count": 93,
     "metadata": {},
     "output_type": "execute_result"
    }
   ],
   "source": [
    "cluster_summary(1)"
   ]
  },
  {
   "cell_type": "code",
   "execution_count": 94,
   "metadata": {},
   "outputs": [],
   "source": [
    "# we can make a function that puts comparisons side by side so its easier for us to see in a data frame \n",
    "\n",
    "def cluster_comparison(*cluster_ids):\n",
    "    summaries = []\n",
    "    for cluster_id in cluster_ids:\n",
    "        summaries.append(cluster_summary(cluster_id))\n",
    "    return pd.DataFrame(summaries).set_index(\"cluster_id\").T"
   ]
  },
  {
   "cell_type": "markdown",
   "metadata": {},
   "source": [
    "We now can compare clusters"
   ]
  },
  {
   "cell_type": "code",
   "execution_count": 95,
   "metadata": {},
   "outputs": [
    {
     "data": {
      "text/html": [
       "<div>\n",
       "<style scoped>\n",
       "    .dataframe tbody tr th:only-of-type {\n",
       "        vertical-align: middle;\n",
       "    }\n",
       "\n",
       "    .dataframe tbody tr th {\n",
       "        vertical-align: top;\n",
       "    }\n",
       "\n",
       "    .dataframe thead th {\n",
       "        text-align: right;\n",
       "    }\n",
       "</style>\n",
       "<table border=\"1\" class=\"dataframe\">\n",
       "  <thead>\n",
       "    <tr style=\"text-align: right;\">\n",
       "      <th>cluster_id</th>\n",
       "      <th>0.0</th>\n",
       "      <th>1.0</th>\n",
       "      <th>2.0</th>\n",
       "      <th>3.0</th>\n",
       "    </tr>\n",
       "  </thead>\n",
       "  <tbody>\n",
       "    <tr>\n",
       "      <th>vehicle_class_type</th>\n",
       "      <td>Trucks</td>\n",
       "      <td>Small Cars</td>\n",
       "      <td>Small Cars</td>\n",
       "      <td>Trucks</td>\n",
       "    </tr>\n",
       "    <tr>\n",
       "      <th>drive_type</th>\n",
       "      <td>two</td>\n",
       "      <td>two</td>\n",
       "      <td>two</td>\n",
       "      <td>two</td>\n",
       "    </tr>\n",
       "    <tr>\n",
       "      <th>transmission_type</th>\n",
       "      <td>Automatic</td>\n",
       "      <td>Automatic</td>\n",
       "      <td>Automatic</td>\n",
       "      <td>Automatic</td>\n",
       "    </tr>\n",
       "    <tr>\n",
       "      <th>fuel_type</th>\n",
       "      <td>Normal</td>\n",
       "      <td>Normal</td>\n",
       "      <td>Normal</td>\n",
       "      <td>Normal</td>\n",
       "    </tr>\n",
       "    <tr>\n",
       "      <th>displacement_type</th>\n",
       "      <td>big</td>\n",
       "      <td>small</td>\n",
       "      <td>medium</td>\n",
       "      <td>very big</td>\n",
       "    </tr>\n",
       "    <tr>\n",
       "      <th>consumption_type</th>\n",
       "      <td>high</td>\n",
       "      <td>low</td>\n",
       "      <td>moderate</td>\n",
       "      <td>very high</td>\n",
       "    </tr>\n",
       "    <tr>\n",
       "      <th>co2_type</th>\n",
       "      <td>high</td>\n",
       "      <td>low</td>\n",
       "      <td>moderate</td>\n",
       "      <td>very high</td>\n",
       "    </tr>\n",
       "    <tr>\n",
       "      <th>co2</th>\n",
       "      <td>520.38537</td>\n",
       "      <td>406.253809</td>\n",
       "      <td>455.368051</td>\n",
       "      <td>664.44438</td>\n",
       "    </tr>\n",
       "    <tr>\n",
       "      <th>cylinders</th>\n",
       "      <td>6.119838</td>\n",
       "      <td>4.508011</td>\n",
       "      <td>5.32321</td>\n",
       "      <td>7.946072</td>\n",
       "    </tr>\n",
       "    <tr>\n",
       "      <th>displacement</th>\n",
       "      <td>3.796931</td>\n",
       "      <td>2.444628</td>\n",
       "      <td>2.968764</td>\n",
       "      <td>5.156943</td>\n",
       "    </tr>\n",
       "    <tr>\n",
       "      <th>year</th>\n",
       "      <td>1995.61002</td>\n",
       "      <td>1997.491046</td>\n",
       "      <td>1996.050201</td>\n",
       "      <td>1996.376981</td>\n",
       "    </tr>\n",
       "    <tr>\n",
       "      <th>consumption_liters_mile</th>\n",
       "      <td>0.221106</td>\n",
       "      <td>0.17259</td>\n",
       "      <td>0.193758</td>\n",
       "      <td>0.281661</td>\n",
       "    </tr>\n",
       "  </tbody>\n",
       "</table>\n",
       "</div>"
      ],
      "text/plain": [
       "cluster_id                      0.0          1.0          2.0          3.0\n",
       "vehicle_class_type           Trucks   Small Cars   Small Cars       Trucks\n",
       "drive_type                      two          two          two          two\n",
       "transmission_type         Automatic    Automatic    Automatic    Automatic\n",
       "fuel_type                    Normal       Normal       Normal       Normal\n",
       "displacement_type               big        small       medium     very big\n",
       "consumption_type               high          low     moderate    very high\n",
       "co2_type                       high          low     moderate    very high\n",
       "co2                       520.38537   406.253809   455.368051    664.44438\n",
       "cylinders                  6.119838     4.508011      5.32321     7.946072\n",
       "displacement               3.796931     2.444628     2.968764     5.156943\n",
       "year                     1995.61002  1997.491046  1996.050201  1996.376981\n",
       "consumption_liters_mile    0.221106      0.17259     0.193758     0.281661"
      ]
     },
     "execution_count": 95,
     "metadata": {},
     "output_type": "execute_result"
    }
   ],
   "source": [
    "cluster_comparison(0,1,2,3)"
   ]
  },
  {
   "cell_type": "code",
   "execution_count": 96,
   "metadata": {},
   "outputs": [
    {
     "data": {
      "text/html": [
       "<div>\n",
       "<style scoped>\n",
       "    .dataframe tbody tr th:only-of-type {\n",
       "        vertical-align: middle;\n",
       "    }\n",
       "\n",
       "    .dataframe tbody tr th {\n",
       "        vertical-align: top;\n",
       "    }\n",
       "\n",
       "    .dataframe thead th {\n",
       "        text-align: right;\n",
       "    }\n",
       "</style>\n",
       "<table border=\"1\" class=\"dataframe\">\n",
       "  <thead>\n",
       "    <tr style=\"text-align: right;\">\n",
       "      <th>cluster_id</th>\n",
       "      <th>0.0</th>\n",
       "      <th>1.0</th>\n",
       "      <th>2.0</th>\n",
       "      <th>3.0</th>\n",
       "      <th>4.0</th>\n",
       "      <th>5.0</th>\n",
       "      <th>6.0</th>\n",
       "      <th>7.0</th>\n",
       "    </tr>\n",
       "  </thead>\n",
       "  <tbody>\n",
       "    <tr>\n",
       "      <th>vehicle_class_type</th>\n",
       "      <td>Trucks</td>\n",
       "      <td>Small Cars</td>\n",
       "      <td>Small Cars</td>\n",
       "      <td>Trucks</td>\n",
       "      <td>Small Cars</td>\n",
       "      <td>Small Cars</td>\n",
       "      <td>Small Cars</td>\n",
       "      <td>Small Cars</td>\n",
       "    </tr>\n",
       "    <tr>\n",
       "      <th>drive_type</th>\n",
       "      <td>two</td>\n",
       "      <td>two</td>\n",
       "      <td>two</td>\n",
       "      <td>two</td>\n",
       "      <td>two</td>\n",
       "      <td>two</td>\n",
       "      <td>two</td>\n",
       "      <td>two</td>\n",
       "    </tr>\n",
       "    <tr>\n",
       "      <th>transmission_type</th>\n",
       "      <td>Automatic</td>\n",
       "      <td>Automatic</td>\n",
       "      <td>Automatic</td>\n",
       "      <td>Automatic</td>\n",
       "      <td>Automatic</td>\n",
       "      <td>Manual</td>\n",
       "      <td>Automatic</td>\n",
       "      <td>Automatic</td>\n",
       "    </tr>\n",
       "    <tr>\n",
       "      <th>fuel_type</th>\n",
       "      <td>Normal</td>\n",
       "      <td>Normal</td>\n",
       "      <td>Normal</td>\n",
       "      <td>Normal</td>\n",
       "      <td>Premium</td>\n",
       "      <td>Normal</td>\n",
       "      <td>Premium</td>\n",
       "      <td>Premium</td>\n",
       "    </tr>\n",
       "    <tr>\n",
       "      <th>displacement_type</th>\n",
       "      <td>big</td>\n",
       "      <td>small</td>\n",
       "      <td>medium</td>\n",
       "      <td>very big</td>\n",
       "      <td>very small</td>\n",
       "      <td>very small</td>\n",
       "      <td>medium</td>\n",
       "      <td>medium</td>\n",
       "    </tr>\n",
       "    <tr>\n",
       "      <th>consumption_type</th>\n",
       "      <td>high</td>\n",
       "      <td>low</td>\n",
       "      <td>moderate</td>\n",
       "      <td>very high</td>\n",
       "      <td>very low</td>\n",
       "      <td>very low</td>\n",
       "      <td>moderate</td>\n",
       "      <td>low</td>\n",
       "    </tr>\n",
       "    <tr>\n",
       "      <th>co2_type</th>\n",
       "      <td>high</td>\n",
       "      <td>low</td>\n",
       "      <td>moderate</td>\n",
       "      <td>very high</td>\n",
       "      <td>high</td>\n",
       "      <td>very low</td>\n",
       "      <td>moderate</td>\n",
       "      <td>low</td>\n",
       "    </tr>\n",
       "    <tr>\n",
       "      <th>co2</th>\n",
       "      <td>520.38537</td>\n",
       "      <td>406.253809</td>\n",
       "      <td>455.368051</td>\n",
       "      <td>664.44438</td>\n",
       "      <td>453.300901</td>\n",
       "      <td>323.936151</td>\n",
       "      <td>457.236086</td>\n",
       "      <td>406.044841</td>\n",
       "    </tr>\n",
       "    <tr>\n",
       "      <th>cylinders</th>\n",
       "      <td>6.119838</td>\n",
       "      <td>4.508011</td>\n",
       "      <td>5.32321</td>\n",
       "      <td>7.946072</td>\n",
       "      <td>6.058574</td>\n",
       "      <td>4.007171</td>\n",
       "      <td>6.100742</td>\n",
       "      <td>5.311261</td>\n",
       "    </tr>\n",
       "    <tr>\n",
       "      <th>displacement</th>\n",
       "      <td>3.796931</td>\n",
       "      <td>2.444628</td>\n",
       "      <td>2.968764</td>\n",
       "      <td>5.156943</td>\n",
       "      <td>3.314021</td>\n",
       "      <td>1.875943</td>\n",
       "      <td>3.393107</td>\n",
       "      <td>2.776761</td>\n",
       "    </tr>\n",
       "    <tr>\n",
       "      <th>year</th>\n",
       "      <td>1995.61002</td>\n",
       "      <td>1997.491046</td>\n",
       "      <td>1996.050201</td>\n",
       "      <td>1996.376981</td>\n",
       "      <td>2006.602968</td>\n",
       "      <td>2000.973877</td>\n",
       "      <td>2005.101803</td>\n",
       "      <td>2008.019823</td>\n",
       "    </tr>\n",
       "    <tr>\n",
       "      <th>consumption_liters_mile</th>\n",
       "      <td>0.221106</td>\n",
       "      <td>0.17259</td>\n",
       "      <td>0.193758</td>\n",
       "      <td>0.281661</td>\n",
       "      <td>0.193108</td>\n",
       "      <td>0.137922</td>\n",
       "      <td>0.194146</td>\n",
       "      <td>0.173159</td>\n",
       "    </tr>\n",
       "  </tbody>\n",
       "</table>\n",
       "</div>"
      ],
      "text/plain": [
       "cluster_id                      0.0          1.0          2.0          3.0  \\\n",
       "vehicle_class_type           Trucks   Small Cars   Small Cars       Trucks   \n",
       "drive_type                      two          two          two          two   \n",
       "transmission_type         Automatic    Automatic    Automatic    Automatic   \n",
       "fuel_type                    Normal       Normal       Normal       Normal   \n",
       "displacement_type               big        small       medium     very big   \n",
       "consumption_type               high          low     moderate    very high   \n",
       "co2_type                       high          low     moderate    very high   \n",
       "co2                       520.38537   406.253809   455.368051    664.44438   \n",
       "cylinders                  6.119838     4.508011      5.32321     7.946072   \n",
       "displacement               3.796931     2.444628     2.968764     5.156943   \n",
       "year                     1995.61002  1997.491046  1996.050201  1996.376981   \n",
       "consumption_liters_mile    0.221106      0.17259     0.193758     0.281661   \n",
       "\n",
       "cluster_id                       4.0          5.0          6.0          7.0  \n",
       "vehicle_class_type        Small Cars   Small Cars   Small Cars   Small Cars  \n",
       "drive_type                       two          two          two          two  \n",
       "transmission_type          Automatic       Manual    Automatic    Automatic  \n",
       "fuel_type                    Premium       Normal      Premium      Premium  \n",
       "displacement_type         very small   very small       medium       medium  \n",
       "consumption_type            very low     very low     moderate          low  \n",
       "co2_type                        high     very low     moderate          low  \n",
       "co2                       453.300901   323.936151   457.236086   406.044841  \n",
       "cylinders                   6.058574     4.007171     6.100742     5.311261  \n",
       "displacement                3.314021     1.875943     3.393107     2.776761  \n",
       "year                     2006.602968  2000.973877  2005.101803  2008.019823  \n",
       "consumption_liters_mile     0.193108     0.137922     0.194146     0.173159  "
      ]
     },
     "execution_count": 96,
     "metadata": {},
     "output_type": "execute_result"
    }
   ],
   "source": [
    "cluster_comparison(0,1,2,3,4,5,6,7)"
   ]
  },
  {
   "cell_type": "markdown",
   "metadata": {},
   "source": [
    "### <font color='#eb3483'>Clustering in Exploratory Data Analysis</font>\n",
    "\n",
    "We include cluster EDA to find natural groups in the dataset. \n",
    "\n",
    "Just like we can do `fit` and `transform` together with `fit_transform`, we can do `fit` and `predict` together with `fit_predict`.\n",
    "\n",
    "<!--A part of Exploratory Data Analysis that we did not mention during the EDA class is to include a cluster analysis to find natural groups in the dataset (its part of the [original framework](https://www.districtdatalabs.com/data-exploration-with-python-2/) I based the one I use from)-->"
   ]
  },
  {
   "cell_type": "code",
   "execution_count": 97,
   "metadata": {},
   "outputs": [],
   "source": [
    "def kmeans_cluster(df, n_clusters=2):\n",
    "    \"\"\"This function assigns clusters to every row in the dataframe via kmeans\"\"\"\n",
    "    model = KMeans(n_clusters=n_clusters, random_state=42)\n",
    "    clusters = model.fit_predict(df)\n",
    "    cluster_results = df.copy()\n",
    "    cluster_results['Cluster'] = clusters\n",
    "    return cluster_results\n",
    "\n",
    "def graph_summary_clustering(results):\n",
    "    \"\"\"this function produces a summary of the clusters\"\"\"\n",
    "    cluster_size = results.groupby(['Cluster']).size().reset_index()\n",
    "    cluster_size.columns = ['Cluster', 'Count']\n",
    "    cluster_means = results.groupby(['Cluster'], as_index=False).mean()\n",
    "    cluster_summary = pd.merge(cluster_size, cluster_means, on='Cluster')\n",
    "    cluster_summary = cluster_summary.drop([\"Count\", \"index\"], axis=1).set_index(\"Cluster\")\n",
    "    return cluster_summary[sorted(cluster_summary.columns)]"
   ]
  },
  {
   "cell_type": "code",
   "execution_count": 98,
   "metadata": {},
   "outputs": [
    {
     "ename": "KeyError",
     "evalue": "\"['index'] not found in axis\"",
     "output_type": "error",
     "traceback": [
      "\u001b[1;31m---------------------------------------------------------------------------\u001b[0m",
      "\u001b[1;31mKeyError\u001b[0m                                  Traceback (most recent call last)",
      "\u001b[1;32m<ipython-input-98-0d00b620daee>\u001b[0m in \u001b[0;36m<module>\u001b[1;34m\u001b[0m\n\u001b[0;32m      3\u001b[0m \u001b[1;33m\u001b[0m\u001b[0m\n\u001b[0;32m      4\u001b[0m \u001b[0mcluster_results\u001b[0m \u001b[1;33m=\u001b[0m \u001b[0mkmeans_cluster\u001b[0m\u001b[1;33m(\u001b[0m\u001b[0mvehicles_processed\u001b[0m\u001b[1;33m,\u001b[0m \u001b[1;36m8\u001b[0m\u001b[1;33m)\u001b[0m\u001b[1;33m\u001b[0m\u001b[1;33m\u001b[0m\u001b[0m\n\u001b[1;32m----> 5\u001b[1;33m \u001b[0mcluster_summary\u001b[0m \u001b[1;33m=\u001b[0m \u001b[0mgraph_summary_clustering\u001b[0m\u001b[1;33m(\u001b[0m\u001b[0mcluster_results\u001b[0m\u001b[1;33m)\u001b[0m\u001b[1;33m;\u001b[0m\u001b[1;33m\u001b[0m\u001b[1;33m\u001b[0m\u001b[0m\n\u001b[0m",
      "\u001b[1;32m<ipython-input-97-aaad64683114>\u001b[0m in \u001b[0;36mgraph_summary_clustering\u001b[1;34m(results)\u001b[0m\n\u001b[0;32m     13\u001b[0m     \u001b[0mcluster_means\u001b[0m \u001b[1;33m=\u001b[0m \u001b[0mresults\u001b[0m\u001b[1;33m.\u001b[0m\u001b[0mgroupby\u001b[0m\u001b[1;33m(\u001b[0m\u001b[1;33m[\u001b[0m\u001b[1;34m'Cluster'\u001b[0m\u001b[1;33m]\u001b[0m\u001b[1;33m,\u001b[0m \u001b[0mas_index\u001b[0m\u001b[1;33m=\u001b[0m\u001b[1;32mFalse\u001b[0m\u001b[1;33m)\u001b[0m\u001b[1;33m.\u001b[0m\u001b[0mmean\u001b[0m\u001b[1;33m(\u001b[0m\u001b[1;33m)\u001b[0m\u001b[1;33m\u001b[0m\u001b[1;33m\u001b[0m\u001b[0m\n\u001b[0;32m     14\u001b[0m     \u001b[0mcluster_summary\u001b[0m \u001b[1;33m=\u001b[0m \u001b[0mpd\u001b[0m\u001b[1;33m.\u001b[0m\u001b[0mmerge\u001b[0m\u001b[1;33m(\u001b[0m\u001b[0mcluster_size\u001b[0m\u001b[1;33m,\u001b[0m \u001b[0mcluster_means\u001b[0m\u001b[1;33m,\u001b[0m \u001b[0mon\u001b[0m\u001b[1;33m=\u001b[0m\u001b[1;34m'Cluster'\u001b[0m\u001b[1;33m)\u001b[0m\u001b[1;33m\u001b[0m\u001b[1;33m\u001b[0m\u001b[0m\n\u001b[1;32m---> 15\u001b[1;33m     \u001b[0mcluster_summary\u001b[0m \u001b[1;33m=\u001b[0m \u001b[0mcluster_summary\u001b[0m\u001b[1;33m.\u001b[0m\u001b[0mdrop\u001b[0m\u001b[1;33m(\u001b[0m\u001b[1;33m[\u001b[0m\u001b[1;34m\"Count\"\u001b[0m\u001b[1;33m,\u001b[0m \u001b[1;34m\"index\"\u001b[0m\u001b[1;33m]\u001b[0m\u001b[1;33m,\u001b[0m \u001b[0maxis\u001b[0m\u001b[1;33m=\u001b[0m\u001b[1;36m1\u001b[0m\u001b[1;33m)\u001b[0m\u001b[1;33m.\u001b[0m\u001b[0mset_index\u001b[0m\u001b[1;33m(\u001b[0m\u001b[1;34m\"Cluster\"\u001b[0m\u001b[1;33m)\u001b[0m\u001b[1;33m\u001b[0m\u001b[1;33m\u001b[0m\u001b[0m\n\u001b[0m\u001b[0;32m     16\u001b[0m     \u001b[1;32mreturn\u001b[0m \u001b[0mcluster_summary\u001b[0m\u001b[1;33m[\u001b[0m\u001b[0msorted\u001b[0m\u001b[1;33m(\u001b[0m\u001b[0mcluster_summary\u001b[0m\u001b[1;33m.\u001b[0m\u001b[0mcolumns\u001b[0m\u001b[1;33m)\u001b[0m\u001b[1;33m]\u001b[0m\u001b[1;33m\u001b[0m\u001b[1;33m\u001b[0m\u001b[0m\n",
      "\u001b[1;32m~\\anaconda3\\lib\\site-packages\\pandas\\core\\frame.py\u001b[0m in \u001b[0;36mdrop\u001b[1;34m(self, labels, axis, index, columns, level, inplace, errors)\u001b[0m\n\u001b[0;32m   4306\u001b[0m                 \u001b[0mweight\u001b[0m  \u001b[1;36m1.0\u001b[0m     \u001b[1;36m0.8\u001b[0m\u001b[1;33m\u001b[0m\u001b[1;33m\u001b[0m\u001b[0m\n\u001b[0;32m   4307\u001b[0m         \"\"\"\n\u001b[1;32m-> 4308\u001b[1;33m         return super().drop(\n\u001b[0m\u001b[0;32m   4309\u001b[0m             \u001b[0mlabels\u001b[0m\u001b[1;33m=\u001b[0m\u001b[0mlabels\u001b[0m\u001b[1;33m,\u001b[0m\u001b[1;33m\u001b[0m\u001b[1;33m\u001b[0m\u001b[0m\n\u001b[0;32m   4310\u001b[0m             \u001b[0maxis\u001b[0m\u001b[1;33m=\u001b[0m\u001b[0maxis\u001b[0m\u001b[1;33m,\u001b[0m\u001b[1;33m\u001b[0m\u001b[1;33m\u001b[0m\u001b[0m\n",
      "\u001b[1;32m~\\anaconda3\\lib\\site-packages\\pandas\\core\\generic.py\u001b[0m in \u001b[0;36mdrop\u001b[1;34m(self, labels, axis, index, columns, level, inplace, errors)\u001b[0m\n\u001b[0;32m   4151\u001b[0m         \u001b[1;32mfor\u001b[0m \u001b[0maxis\u001b[0m\u001b[1;33m,\u001b[0m \u001b[0mlabels\u001b[0m \u001b[1;32min\u001b[0m \u001b[0maxes\u001b[0m\u001b[1;33m.\u001b[0m\u001b[0mitems\u001b[0m\u001b[1;33m(\u001b[0m\u001b[1;33m)\u001b[0m\u001b[1;33m:\u001b[0m\u001b[1;33m\u001b[0m\u001b[1;33m\u001b[0m\u001b[0m\n\u001b[0;32m   4152\u001b[0m             \u001b[1;32mif\u001b[0m \u001b[0mlabels\u001b[0m \u001b[1;32mis\u001b[0m \u001b[1;32mnot\u001b[0m \u001b[1;32mNone\u001b[0m\u001b[1;33m:\u001b[0m\u001b[1;33m\u001b[0m\u001b[1;33m\u001b[0m\u001b[0m\n\u001b[1;32m-> 4153\u001b[1;33m                 \u001b[0mobj\u001b[0m \u001b[1;33m=\u001b[0m \u001b[0mobj\u001b[0m\u001b[1;33m.\u001b[0m\u001b[0m_drop_axis\u001b[0m\u001b[1;33m(\u001b[0m\u001b[0mlabels\u001b[0m\u001b[1;33m,\u001b[0m \u001b[0maxis\u001b[0m\u001b[1;33m,\u001b[0m \u001b[0mlevel\u001b[0m\u001b[1;33m=\u001b[0m\u001b[0mlevel\u001b[0m\u001b[1;33m,\u001b[0m \u001b[0merrors\u001b[0m\u001b[1;33m=\u001b[0m\u001b[0merrors\u001b[0m\u001b[1;33m)\u001b[0m\u001b[1;33m\u001b[0m\u001b[1;33m\u001b[0m\u001b[0m\n\u001b[0m\u001b[0;32m   4154\u001b[0m \u001b[1;33m\u001b[0m\u001b[0m\n\u001b[0;32m   4155\u001b[0m         \u001b[1;32mif\u001b[0m \u001b[0minplace\u001b[0m\u001b[1;33m:\u001b[0m\u001b[1;33m\u001b[0m\u001b[1;33m\u001b[0m\u001b[0m\n",
      "\u001b[1;32m~\\anaconda3\\lib\\site-packages\\pandas\\core\\generic.py\u001b[0m in \u001b[0;36m_drop_axis\u001b[1;34m(self, labels, axis, level, errors)\u001b[0m\n\u001b[0;32m   4186\u001b[0m                 \u001b[0mnew_axis\u001b[0m \u001b[1;33m=\u001b[0m \u001b[0maxis\u001b[0m\u001b[1;33m.\u001b[0m\u001b[0mdrop\u001b[0m\u001b[1;33m(\u001b[0m\u001b[0mlabels\u001b[0m\u001b[1;33m,\u001b[0m \u001b[0mlevel\u001b[0m\u001b[1;33m=\u001b[0m\u001b[0mlevel\u001b[0m\u001b[1;33m,\u001b[0m \u001b[0merrors\u001b[0m\u001b[1;33m=\u001b[0m\u001b[0merrors\u001b[0m\u001b[1;33m)\u001b[0m\u001b[1;33m\u001b[0m\u001b[1;33m\u001b[0m\u001b[0m\n\u001b[0;32m   4187\u001b[0m             \u001b[1;32melse\u001b[0m\u001b[1;33m:\u001b[0m\u001b[1;33m\u001b[0m\u001b[1;33m\u001b[0m\u001b[0m\n\u001b[1;32m-> 4188\u001b[1;33m                 \u001b[0mnew_axis\u001b[0m \u001b[1;33m=\u001b[0m \u001b[0maxis\u001b[0m\u001b[1;33m.\u001b[0m\u001b[0mdrop\u001b[0m\u001b[1;33m(\u001b[0m\u001b[0mlabels\u001b[0m\u001b[1;33m,\u001b[0m \u001b[0merrors\u001b[0m\u001b[1;33m=\u001b[0m\u001b[0merrors\u001b[0m\u001b[1;33m)\u001b[0m\u001b[1;33m\u001b[0m\u001b[1;33m\u001b[0m\u001b[0m\n\u001b[0m\u001b[0;32m   4189\u001b[0m             \u001b[0mresult\u001b[0m \u001b[1;33m=\u001b[0m \u001b[0mself\u001b[0m\u001b[1;33m.\u001b[0m\u001b[0mreindex\u001b[0m\u001b[1;33m(\u001b[0m\u001b[1;33m**\u001b[0m\u001b[1;33m{\u001b[0m\u001b[0maxis_name\u001b[0m\u001b[1;33m:\u001b[0m \u001b[0mnew_axis\u001b[0m\u001b[1;33m}\u001b[0m\u001b[1;33m)\u001b[0m\u001b[1;33m\u001b[0m\u001b[1;33m\u001b[0m\u001b[0m\n\u001b[0;32m   4190\u001b[0m \u001b[1;33m\u001b[0m\u001b[0m\n",
      "\u001b[1;32m~\\anaconda3\\lib\\site-packages\\pandas\\core\\indexes\\base.py\u001b[0m in \u001b[0;36mdrop\u001b[1;34m(self, labels, errors)\u001b[0m\n\u001b[0;32m   5589\u001b[0m         \u001b[1;32mif\u001b[0m \u001b[0mmask\u001b[0m\u001b[1;33m.\u001b[0m\u001b[0many\u001b[0m\u001b[1;33m(\u001b[0m\u001b[1;33m)\u001b[0m\u001b[1;33m:\u001b[0m\u001b[1;33m\u001b[0m\u001b[1;33m\u001b[0m\u001b[0m\n\u001b[0;32m   5590\u001b[0m             \u001b[1;32mif\u001b[0m \u001b[0merrors\u001b[0m \u001b[1;33m!=\u001b[0m \u001b[1;34m\"ignore\"\u001b[0m\u001b[1;33m:\u001b[0m\u001b[1;33m\u001b[0m\u001b[1;33m\u001b[0m\u001b[0m\n\u001b[1;32m-> 5591\u001b[1;33m                 \u001b[1;32mraise\u001b[0m \u001b[0mKeyError\u001b[0m\u001b[1;33m(\u001b[0m\u001b[1;34mf\"{labels[mask]} not found in axis\"\u001b[0m\u001b[1;33m)\u001b[0m\u001b[1;33m\u001b[0m\u001b[1;33m\u001b[0m\u001b[0m\n\u001b[0m\u001b[0;32m   5592\u001b[0m             \u001b[0mindexer\u001b[0m \u001b[1;33m=\u001b[0m \u001b[0mindexer\u001b[0m\u001b[1;33m[\u001b[0m\u001b[1;33m~\u001b[0m\u001b[0mmask\u001b[0m\u001b[1;33m]\u001b[0m\u001b[1;33m\u001b[0m\u001b[1;33m\u001b[0m\u001b[0m\n\u001b[0;32m   5593\u001b[0m         \u001b[1;32mreturn\u001b[0m \u001b[0mself\u001b[0m\u001b[1;33m.\u001b[0m\u001b[0mdelete\u001b[0m\u001b[1;33m(\u001b[0m\u001b[0mindexer\u001b[0m\u001b[1;33m)\u001b[0m\u001b[1;33m\u001b[0m\u001b[1;33m\u001b[0m\u001b[0m\n",
      "\u001b[1;31mKeyError\u001b[0m: \"['index'] not found in axis\""
     ]
    }
   ],
   "source": [
    "# this means if I want to try out 4 clusters instead of 8 its really easy for me to do\n",
    "#Im going to choose 4 here instead of 8 \n",
    "\n",
    "cluster_results = kmeans_cluster(vehicles_processed, 8)\n",
    "cluster_summary = graph_summary_clustering(cluster_results);"
   ]
  },
  {
   "cell_type": "markdown",
   "metadata": {},
   "source": [
    "We get a summary, in which for numerical variables we get an idea of which clusters have higher values (remember, the variables are min max scaled), and for categorical variables, since they are one hot encoded, we get the percentage of each cluster that belongs to each one of the different values per categorical column (for example, if the column \"consumption_type_high\" for Cluster 1 is 0.2, that means that 20% of the cars in that cluster have consumption type=High)."
   ]
  },
  {
   "cell_type": "code",
   "execution_count": 99,
   "metadata": {},
   "outputs": [
    {
     "data": {
      "text/plain": [
       "<function __main__.cluster_summary(cluster_id)>"
      ]
     },
     "execution_count": 99,
     "metadata": {},
     "output_type": "execute_result"
    }
   ],
   "source": [
    "cluster_summary"
   ]
  },
  {
   "cell_type": "markdown",
   "metadata": {},
   "source": [
    "We can put the summary in a heatmap"
   ]
  },
  {
   "cell_type": "code",
   "execution_count": 44,
   "metadata": {},
   "outputs": [
    {
     "data": {
      "image/png": "[encoded data removed]",
      "text/plain": [
       "<Figure size 720x720 with 2 Axes>"
      ]
     },
     "metadata": {
      "needs_background": "light"
     },
     "output_type": "display_data"
    }
   ],
   "source": [
    "fig, ax = plt.subplots(figsize=(10,10))\n",
    "sns.heatmap(cluster_summary.transpose(), annot=True);\n",
    "#look at features with high variance, like fuel_type_normal, year"
   ]
  },
  {
   "cell_type": "markdown",
   "metadata": {},
   "source": [
    "# <font color='#eb3483'> How do we choose K (number of clusters)?</font>\n",
    "\n",
    "There are different options to choose K.\n",
    "\n",
    "**1. Domain Knowledge**\n",
    "Sometimes we already have knowledge of what the number of clusters should be. For example, lets say we want to cluster movies, a reasonable number of clusters would be the number of movie categories on IMDB.\n",
    "\n",
    "**2. Business Requirements**\n",
    "Sometimes the number of clusters is not a decision we need to take, because is a business constraint. For example, if the marketing team wants to do 3 different marketing campaigns, we need to cluster our clients in 3 different clusters. If we are grouping the guests in a wedding and we have 10 tables, then K has to be 10.\n",
    "\n",
    "**3. [Elbow method](https://en.wikipedia.org/wiki/Elbow_method_(clustering))**\n",
    "The Elbow Method uses as a metric the variance explained as a factor of the number of clusters. We try to find the number of clusters where adding a new cluster doesnt increase the explained variance enough. Basically we want to find the point where adding a new cluster (and more complexity) doesnt benefit the model anymore.\n",
    "\n",
    "We can use the inertia as a proxy for the percentage variance explained. Check the bonus below if you want the \"robust and fancy way\" of doing the elbow method"
   ]
  },
  {
   "attachments": {
    "image.png": {
     "image/png": "[encoded data removed]"
    }
   },
   "cell_type": "markdown",
   "metadata": {},
   "source": [
    "![image.png](attachment:image.png)\n"
   ]
  },
  {
   "cell_type": "code",
   "execution_count": 100,
   "metadata": {},
   "outputs": [],
   "source": [
    "#Creating a function that takes in a range of values for K (or how many clusters)\n",
    "# runs the model and then outputs the inertia value so we can see how well the clusters are grouped \n",
    "\n",
    "\n",
    "def evaluate_k_kmeans_inertia(k):\n",
    "    print(f\"running Kmeans with k={k}\")\n",
    "    estimator_kmeans = KMeans(random_state=42, n_clusters=k)\n",
    "    estimator_kmeans.fit(vehicles_processed)\n",
    "    return estimator_kmeans.inertia_"
   ]
  },
  {
   "cell_type": "code",
   "execution_count": 101,
   "metadata": {},
   "outputs": [],
   "source": [
    "# %%time is a nifty \"magic\"in jupyter notebooks that times how long the code takes to run\n"
   ]
  },
  {
   "cell_type": "code",
   "execution_count": 106,
   "metadata": {},
   "outputs": [
    {
     "name": "stdout",
     "output_type": "stream",
     "text": [
      "running Kmeans with k=2\n",
      "running Kmeans with k=3\n",
      "running Kmeans with k=4\n",
      "running Kmeans with k=5\n",
      "running Kmeans with k=8\n",
      "running Kmeans with k=10\n",
      "running Kmeans with k=15\n",
      "running Kmeans with k=20\n",
      "running Kmeans with k=25\n",
      "running Kmeans with k=30\n",
      "Wall time: 55 s\n"
     ]
    }
   ],
   "source": [
    "%%time \n",
    "range_k = [2, 3, 4, 5, 8, 10, 15, 20, 25, 30]\n",
    "results_k = {}\n",
    "for k in range_k:\n",
    "    results_k[k] = evaluate_k_kmeans_inertia(k)"
   ]
  },
  {
   "cell_type": "code",
   "execution_count": 107,
   "metadata": {},
   "outputs": [
    {
     "data": {
      "text/plain": [
       "{2: 101368.01881608326,\n",
       " 3: 89080.3974258723,\n",
       " 4: 80250.50863159394,\n",
       " 5: 73078.97665083384,\n",
       " 8: 62431.81176956934,\n",
       " 10: 57853.40949769056,\n",
       " 15: 50468.52078300319,\n",
       " 20: 44687.90488210425,\n",
       " 25: 41442.278932384375,\n",
       " 30: 37590.669747062806}"
      ]
     },
     "execution_count": 107,
     "metadata": {},
     "output_type": "execute_result"
    }
   ],
   "source": [
    "results_k # so we get a 2d array back with the k + the intertia value"
   ]
  },
  {
   "cell_type": "code",
   "execution_count": 108,
   "metadata": {},
   "outputs": [
    {
     "data": {
      "text/plain": [
       "<matplotlib.legend.Legend at 0x2b328490940>"
      ]
     },
     "execution_count": 108,
     "metadata": {},
     "output_type": "execute_result"
    },
    {
     "data": {
      "image/png": "[encoded data removed]",
      "text/plain": [
       "<Figure size 576x432 with 1 Axes>"
      ]
     },
     "metadata": {
      "needs_background": "light"
     },
     "output_type": "display_data"
    }
   ],
   "source": [
    "# we can now plot this to see where the inflection point is or where adding more clusters doesnt really add to gaining\n",
    "# more information from extra clusters\n",
    "\n",
    "fig, ax = plt.subplots(figsize=(8,6))\n",
    "ax = sns.lineplot(\n",
    "    [c[0] for c in results_k.items()],\n",
    "    [c[1] for c in results_k.items()], label=\"inertia\", color=\"red\")\n",
    "ax.set_xlabel(\"K\")\n",
    "ax.set_ylabel(\"inertia\")\n",
    "ax.set_title(\"Inertia by K\")\n",
    "ax.legend()\n"
   ]
  },
  {
   "cell_type": "markdown",
   "metadata": {},
   "source": [
    "For this dataset, we see K=15 is probably a good choice with the inertia criterion.  \n",
    "\n",
    "But again - this has to be linked back to the problem. Is it logical for me to say have regulations for 15 different groups of cars - or would say 8 be good enough and much easier to work with for regulations."
   ]
  },
  {
   "cell_type": "markdown",
   "metadata": {},
   "source": [
    "### <font color='#eb3483'>Bonus: More Accurate way of using Elbow method with Within Cluster Sum of Squares</font>\n",
    "The elbow method in reality works by calculating how much variance of the original data is explained relative to the number of clusters. It is much more time consuming to compute"
   ]
  },
  {
   "cell_type": "code",
   "execution_count": 50,
   "metadata": {},
   "outputs": [],
   "source": [
    "from scipy.spatial.distance import cdist"
   ]
  },
  {
   "cell_type": "code",
   "execution_count": 51,
   "metadata": {},
   "outputs": [
    {
     "name": "stdout",
     "output_type": "stream",
     "text": [
      "\n",
      "    Compute distance between each pair of the two collections of inputs.\n",
      "\n",
      "    See Notes for common calling conventions.\n",
      "\n",
      "    Parameters\n",
      "    ----------\n",
      "    XA : ndarray\n",
      "        An :math:`m_A` by :math:`n` array of :math:`m_A`\n",
      "        original observations in an :math:`n`-dimensional space.\n",
      "        Inputs are converted to float type.\n",
      "    XB : ndarray\n",
      "        An :math:`m_B` by :math:`n` array of :math:`m_B`\n",
      "        original observations in an :math:`n`-dimensional space.\n",
      "        Inputs are converted to float type.\n",
      "    metric : str or callable, optional\n",
      "        The distance metric to use.  If a string, the distance function can be\n",
      "        'braycurtis', 'canberra', 'chebyshev', 'cityblock', 'correlation',\n",
      "        'cosine', 'dice', 'euclidean', 'hamming', 'jaccard', 'jensenshannon',\n",
      "        'kulsinski', 'mahalanobis', 'matching', 'minkowski', 'rogerstanimoto',\n",
      "        'russellrao', 'seuclidean', 'sokalmichener', 'sokalsneath', 'sqeuclidean',\n",
      "        'wminkowski', 'yule'.\n",
      "    *args : tuple. Deprecated.\n",
      "        Additional arguments should be passed as keyword arguments\n",
      "    **kwargs : dict, optional\n",
      "        Extra arguments to `metric`: refer to each metric documentation for a\n",
      "        list of all possible arguments.\n",
      "\n",
      "        Some possible arguments:\n",
      "\n",
      "        p : scalar\n",
      "        The p-norm to apply for Minkowski, weighted and unweighted.\n",
      "        Default: 2.\n",
      "\n",
      "        w : ndarray\n",
      "        The weight vector for metrics that support weights (e.g., Minkowski).\n",
      "\n",
      "        V : ndarray\n",
      "        The variance vector for standardized Euclidean.\n",
      "        Default: var(vstack([XA, XB]), axis=0, ddof=1)\n",
      "\n",
      "        VI : ndarray\n",
      "        The inverse of the covariance matrix for Mahalanobis.\n",
      "        Default: inv(cov(vstack([XA, XB].T))).T\n",
      "\n",
      "        out : ndarray\n",
      "        The output array\n",
      "        If not None, the distance matrix Y is stored in this array.\n",
      "        Note: metric independent, it will become a regular keyword arg in a\n",
      "        future scipy version\n",
      "\n",
      "    Returns\n",
      "    -------\n",
      "    Y : ndarray\n",
      "        A :math:`m_A` by :math:`m_B` distance matrix is returned.\n",
      "        For each :math:`i` and :math:`j`, the metric\n",
      "        ``dist(u=XA[i], v=XB[j])`` is computed and stored in the\n",
      "        :math:`ij` th entry.\n",
      "\n",
      "    Raises\n",
      "    ------\n",
      "    ValueError\n",
      "        An exception is thrown if `XA` and `XB` do not have\n",
      "        the same number of columns.\n",
      "\n",
      "    Notes\n",
      "    -----\n",
      "    The following are common calling conventions:\n",
      "\n",
      "    1. ``Y = cdist(XA, XB, 'euclidean')``\n",
      "\n",
      "       Computes the distance between :math:`m` points using\n",
      "       Euclidean distance (2-norm) as the distance metric between the\n",
      "       points. The points are arranged as :math:`m`\n",
      "       :math:`n`-dimensional row vectors in the matrix X.\n",
      "\n",
      "    2. ``Y = cdist(XA, XB, 'minkowski', p=2.)``\n",
      "\n",
      "       Computes the distances using the Minkowski distance\n",
      "       :math:`||u-v||_p` (:math:`p`-norm) where :math:`p \\geq 1`.\n",
      "\n",
      "    3. ``Y = cdist(XA, XB, 'cityblock')``\n",
      "\n",
      "       Computes the city block or Manhattan distance between the\n",
      "       points.\n",
      "\n",
      "    4. ``Y = cdist(XA, XB, 'seuclidean', V=None)``\n",
      "\n",
      "       Computes the standardized Euclidean distance. The standardized\n",
      "       Euclidean distance between two n-vectors ``u`` and ``v`` is\n",
      "\n",
      "       .. math::\n",
      "\n",
      "          \\sqrt{\\sum {(u_i-v_i)^2 / V[x_i]}}.\n",
      "\n",
      "       V is the variance vector; V[i] is the variance computed over all\n",
      "       the i'th components of the points. If not passed, it is\n",
      "       automatically computed.\n",
      "\n",
      "    5. ``Y = cdist(XA, XB, 'sqeuclidean')``\n",
      "\n",
      "       Computes the squared Euclidean distance :math:`||u-v||_2^2` between\n",
      "       the vectors.\n",
      "\n",
      "    6. ``Y = cdist(XA, XB, 'cosine')``\n",
      "\n",
      "       Computes the cosine distance between vectors u and v,\n",
      "\n",
      "       .. math::\n",
      "\n",
      "          1 - \\frac{u \\cdot v}\n",
      "                   {{||u||}_2 {||v||}_2}\n",
      "\n",
      "       where :math:`||*||_2` is the 2-norm of its argument ``*``, and\n",
      "       :math:`u \\cdot v` is the dot product of :math:`u` and :math:`v`.\n",
      "\n",
      "    7. ``Y = cdist(XA, XB, 'correlation')``\n",
      "\n",
      "       Computes the correlation distance between vectors u and v. This is\n",
      "\n",
      "       .. math::\n",
      "\n",
      "          1 - \\frac{(u - \\bar{u}) \\cdot (v - \\bar{v})}\n",
      "                   {{||(u - \\bar{u})||}_2 {||(v - \\bar{v})||}_2}\n",
      "\n",
      "       where :math:`\\bar{v}` is the mean of the elements of vector v,\n",
      "       and :math:`x \\cdot y` is the dot product of :math:`x` and :math:`y`.\n",
      "\n",
      "\n",
      "    8. ``Y = cdist(XA, XB, 'hamming')``\n",
      "\n",
      "       Computes the normalized Hamming distance, or the proportion of\n",
      "       those vector elements between two n-vectors ``u`` and ``v``\n",
      "       which disagree. To save memory, the matrix ``X`` can be of type\n",
      "       boolean.\n",
      "\n",
      "    9. ``Y = cdist(XA, XB, 'jaccard')``\n",
      "\n",
      "       Computes the Jaccard distance between the points. Given two\n",
      "       vectors, ``u`` and ``v``, the Jaccard distance is the\n",
      "       proportion of those elements ``u[i]`` and ``v[i]`` that\n",
      "       disagree where at least one of them is non-zero.\n",
      "\n",
      "    10. ``Y = cdist(XA, XB, 'chebyshev')``\n",
      "\n",
      "       Computes the Chebyshev distance between the points. The\n",
      "       Chebyshev distance between two n-vectors ``u`` and ``v`` is the\n",
      "       maximum norm-1 distance between their respective elements. More\n",
      "       precisely, the distance is given by\n",
      "\n",
      "       .. math::\n",
      "\n",
      "          d(u,v) = \\max_i {|u_i-v_i|}.\n",
      "\n",
      "    11. ``Y = cdist(XA, XB, 'canberra')``\n",
      "\n",
      "       Computes the Canberra distance between the points. The\n",
      "       Canberra distance between two points ``u`` and ``v`` is\n",
      "\n",
      "       .. math::\n",
      "\n",
      "         d(u,v) = \\sum_i \\frac{|u_i-v_i|}\n",
      "                              {|u_i|+|v_i|}.\n",
      "\n",
      "    12. ``Y = cdist(XA, XB, 'braycurtis')``\n",
      "\n",
      "       Computes the Bray-Curtis distance between the points. The\n",
      "       Bray-Curtis distance between two points ``u`` and ``v`` is\n",
      "\n",
      "\n",
      "       .. math::\n",
      "\n",
      "            d(u,v) = \\frac{\\sum_i (|u_i-v_i|)}\n",
      "                          {\\sum_i (|u_i+v_i|)}\n",
      "\n",
      "    13. ``Y = cdist(XA, XB, 'mahalanobis', VI=None)``\n",
      "\n",
      "       Computes the Mahalanobis distance between the points. The\n",
      "       Mahalanobis distance between two points ``u`` and ``v`` is\n",
      "       :math:`\\sqrt{(u-v)(1/V)(u-v)^T}` where :math:`(1/V)` (the ``VI``\n",
      "       variable) is the inverse covariance. If ``VI`` is not None,\n",
      "       ``VI`` will be used as the inverse covariance matrix.\n",
      "\n",
      "    14. ``Y = cdist(XA, XB, 'yule')``\n",
      "\n",
      "       Computes the Yule distance between the boolean\n",
      "       vectors. (see `yule` function documentation)\n",
      "\n",
      "    15. ``Y = cdist(XA, XB, 'matching')``\n",
      "\n",
      "       Synonym for 'hamming'.\n",
      "\n",
      "    16. ``Y = cdist(XA, XB, 'dice')``\n",
      "\n",
      "       Computes the Dice distance between the boolean vectors. (see\n",
      "       `dice` function documentation)\n",
      "\n",
      "    17. ``Y = cdist(XA, XB, 'kulsinski')``\n",
      "\n",
      "       Computes the Kulsinski distance between the boolean\n",
      "       vectors. (see `kulsinski` function documentation)\n",
      "\n",
      "    18. ``Y = cdist(XA, XB, 'rogerstanimoto')``\n",
      "\n",
      "       Computes the Rogers-Tanimoto distance between the boolean\n",
      "       vectors. (see `rogerstanimoto` function documentation)\n",
      "\n",
      "    19. ``Y = cdist(XA, XB, 'russellrao')``\n",
      "\n",
      "       Computes the Russell-Rao distance between the boolean\n",
      "       vectors. (see `russellrao` function documentation)\n",
      "\n",
      "    20. ``Y = cdist(XA, XB, 'sokalmichener')``\n",
      "\n",
      "       Computes the Sokal-Michener distance between the boolean\n",
      "       vectors. (see `sokalmichener` function documentation)\n",
      "\n",
      "    21. ``Y = cdist(XA, XB, 'sokalsneath')``\n",
      "\n",
      "       Computes the Sokal-Sneath distance between the vectors. (see\n",
      "       `sokalsneath` function documentation)\n",
      "\n",
      "\n",
      "    22. ``Y = cdist(XA, XB, 'wminkowski', p=2., w=w)``\n",
      "\n",
      "       Computes the weighted Minkowski distance between the\n",
      "       vectors. (see `wminkowski` function documentation)\n",
      "\n",
      "    23. ``Y = cdist(XA, XB, f)``\n",
      "\n",
      "       Computes the distance between all pairs of vectors in X\n",
      "       using the user supplied 2-arity function f. For example,\n",
      "       Euclidean distance between the vectors could be computed\n",
      "       as follows::\n",
      "\n",
      "         dm = cdist(XA, XB, lambda u, v: np.sqrt(((u-v)**2).sum()))\n",
      "\n",
      "       Note that you should avoid passing a reference to one of\n",
      "       the distance functions defined in this library. For example,::\n",
      "\n",
      "         dm = cdist(XA, XB, sokalsneath)\n",
      "\n",
      "       would calculate the pair-wise distances between the vectors in\n",
      "       X using the Python function `sokalsneath`. This would result in\n",
      "       sokalsneath being called :math:`{n \\choose 2}` times, which\n",
      "       is inefficient. Instead, the optimized C version is more\n",
      "       efficient, and we call it using the following syntax::\n",
      "\n",
      "         dm = cdist(XA, XB, 'sokalsneath')\n",
      "\n",
      "    Examples\n",
      "    --------\n",
      "    Find the Euclidean distances between four 2-D coordinates:\n",
      "\n",
      "    >>> from scipy.spatial import distance\n",
      "    >>> coords = [(35.0456, -85.2672),\n",
      "    ...           (35.1174, -89.9711),\n",
      "    ...           (35.9728, -83.9422),\n",
      "    ...           (36.1667, -86.7833)]\n",
      "    >>> distance.cdist(coords, coords, 'euclidean')\n",
      "    array([[ 0.    ,  4.7044,  1.6172,  1.8856],\n",
      "           [ 4.7044,  0.    ,  6.0893,  3.3561],\n",
      "           [ 1.6172,  6.0893,  0.    ,  2.8477],\n",
      "           [ 1.8856,  3.3561,  2.8477,  0.    ]])\n",
      "\n",
      "\n",
      "    Find the Manhattan distance from a 3-D point to the corners of the unit\n",
      "    cube:\n",
      "\n",
      "    >>> a = np.array([[0, 0, 0],\n",
      "    ...               [0, 0, 1],\n",
      "    ...               [0, 1, 0],\n",
      "    ...               [0, 1, 1],\n",
      "    ...               [1, 0, 0],\n",
      "    ...               [1, 0, 1],\n",
      "    ...               [1, 1, 0],\n",
      "    ...               [1, 1, 1]])\n",
      "    >>> b = np.array([[ 0.1,  0.2,  0.4]])\n",
      "    >>> distance.cdist(a, b, 'cityblock')\n",
      "    array([[ 0.7],\n",
      "           [ 0.9],\n",
      "           [ 1.3],\n",
      "           [ 1.5],\n",
      "           [ 1.5],\n",
      "           [ 1.7],\n",
      "           [ 2.1],\n",
      "           [ 2.3]])\n",
      "\n",
      "    \n"
     ]
    }
   ],
   "source": [
    "print(cdist.__doc__)"
   ]
  },
  {
   "cell_type": "markdown",
   "metadata": {},
   "source": [
    "We calculate the total variance by measuring the distances between each point and the average for each variable."
   ]
  },
  {
   "cell_type": "code",
   "execution_count": 52,
   "metadata": {},
   "outputs": [],
   "source": [
    "total_variance = cdist(\n",
    "    XA=vehicles_processed, \n",
    "    XB=np.array([vehicles_processed.mean()])\n",
    ")"
   ]
  },
  {
   "cell_type": "code",
   "execution_count": 53,
   "metadata": {},
   "outputs": [],
   "source": [
    "total_variance_sum = total_variance.sum()"
   ]
  },
  {
   "cell_type": "code",
   "execution_count": 54,
   "metadata": {},
   "outputs": [
    {
     "data": {
      "text/plain": [
       "326053677.7827675"
      ]
     },
     "execution_count": 54,
     "metadata": {},
     "output_type": "execute_result"
    }
   ],
   "source": [
    "total_variance_sum"
   ]
  },
  {
   "cell_type": "markdown",
   "metadata": {},
   "source": [
    "Now we create functions to calculate the **Within-Cluster sum of squares (WSS)** and the explained variance (defined as the reduction of variance compared to the total variance, which would be the variance where k=1).\n",
    "\n",
    "The *WSS* (also called **Cohesion**) is defined as :\n",
    "\n",
    "$$\\sum\\limits_{k=1}^K\\sum\\limits_{x\\in C_k}\\sum\\limits_{j}^d {(x_{ij}-\\mu_j)^2}$$\n",
    "\n",
    "So basically:\n",
    "```\n",
    "    for each cluster k:\n",
    "        for each point i in the cluster k:\n",
    "            for each variable j:\n",
    "                calculate the squared difference of the variable j for point i and the mean for variable j in cluster k\n",
    "```"
   ]
  },
  {
   "cell_type": "code",
   "execution_count": 55,
   "metadata": {},
   "outputs": [],
   "source": [
    "def cluster_variance(cluster_id, cluster_centroid, cluster_labels):\n",
    "    cluster_elements = vehicles_processed[cluster_labels==cluster_id]\n",
    "    return cdist(XA=cluster_elements, XB=np.array([cluster_centroid])).sum()\n",
    "\n",
    "def variance_measure(estimator_kmeans, total_variance):\n",
    "    clusters_labels = estimator_kmeans.labels_\n",
    "    wss = 0\n",
    "    for i, cluster_id in enumerate(np.unique(clusters_labels)):\n",
    "        cluster_centroid = estimator_kmeans.cluster_centers_[i]\n",
    "        wss += cluster_variance(cluster_id, cluster_centroid, clusters_labels)\n",
    "    return (total_variance-wss) / total_variance"
   ]
  },
  {
   "cell_type": "markdown",
   "metadata": {},
   "source": [
    "We create another evaluation function that returns the inertia."
   ]
  },
  {
   "cell_type": "code",
   "execution_count": 56,
   "metadata": {},
   "outputs": [],
   "source": [
    "def inertia_measure(estimator_kmeans):\n",
    "    return estimator_kmeans.inertia_"
   ]
  },
  {
   "cell_type": "markdown",
   "metadata": {},
   "source": [
    "Now we create a function that evaluates the intertia and percentage variance explained for a value of K."
   ]
  },
  {
   "cell_type": "code",
   "execution_count": 57,
   "metadata": {},
   "outputs": [],
   "source": [
    "def evaluate_k_kmeans(k, scoring, **kwargs):\n",
    "    scoring_measure = None\n",
    "    if scoring==\"inertia\":\n",
    "        scoring_measure = inertia_measure\n",
    "    elif scoring==\"variance\":\n",
    "        scoring_measure = variance_measure\n",
    "        \n",
    "    estimator_kmeans = KMeans(random_state=42, n_clusters=k)\n",
    "    estimator_kmeans.fit(vehicles_processed)\n",
    "    return scoring_measure(estimator_kmeans, **kwargs)"
   ]
  },
  {
   "cell_type": "markdown",
   "metadata": {},
   "source": [
    "Now we evaluate the results for a range of K.\n",
    "\n",
    "**Note: This step takes a long time!**"
   ]
  },
  {
   "cell_type": "code",
   "execution_count": 58,
   "metadata": {},
   "outputs": [],
   "source": [
    "results_k = {}\n",
    "range_k = [5, 10, 20, 30, 50, 100, 200]\n",
    "for k in range_k:\n",
    "    results_k[k] = (\n",
    "        evaluate_k_kmeans(k, \"inertia\"), \n",
    "        evaluate_k_kmeans(k, \"variance\", total_variance=total_variance_sum), \n",
    "    )"
   ]
  },
  {
   "cell_type": "code",
   "execution_count": 59,
   "metadata": {},
   "outputs": [
    {
     "data": {
      "text/plain": [
       "{5: (152213782746.2596, 0.8142405477683634),\n",
       " 10: (39211641253.27941, 0.9053072447947551),\n",
       " 20: (9563671168.866833, 0.9529730164028811),\n",
       " 30: (4118622523.1020737, 0.9694582191443332),\n",
       " 50: (1483405124.4462395, 0.981724662257861),\n",
       " 100: (355392915.0831337, 0.9910884055253363),\n",
       " 200: (89446783.1709672, 0.9955333812567814)}"
      ]
     },
     "execution_count": 59,
     "metadata": {},
     "output_type": "execute_result"
    }
   ],
   "source": [
    "results_k"
   ]
  },
  {
   "cell_type": "markdown",
   "metadata": {},
   "source": [
    "Now we plot the results to see where the \"elbow\" is."
   ]
  },
  {
   "cell_type": "code",
   "execution_count": 60,
   "metadata": {
    "scrolled": true
   },
   "outputs": [
    {
     "data": {
      "image/png": "[encoded data removed]",
      "text/plain": [
       "<Figure size 432x288 with 2 Axes>"
      ]
     },
     "metadata": {
      "needs_background": "light"
     },
     "output_type": "display_data"
    }
   ],
   "source": [
    "ax1 = sns.lineplot(\n",
    "    [c[0] for c in results_k.items()],\n",
    "    [c[1][0] for c in results_k.items()], label=\"inertia\", color=\"red\"\n",
    ")\n",
    "with sns.axes_style(\"dark\"):\n",
    "    ax2 = ax1.twinx()\n",
    "    \n",
    "ax2 = sns.lineplot(\n",
    "    [c[0] for c in results_k.items()],\n",
    "    [c[1][1] for c in results_k.items()], label=\"percentage variance explained\", color=\"blue\",\n",
    "    ax=ax2)\n",
    "\n"
   ]
  },
  {
   "cell_type": "markdown",
   "metadata": {},
   "source": [
    "<!--fig, ax1 = plt.subplots()\n",
    "\n",
    "ax1.plot(\n",
    "    [c[0] for c in results_k.items()],\n",
    "    [c[1][0] for c in results_k.items()], label=\"inertia\", color=\"red\")\n",
    "ax1.set_ylabel('inertia', color=\"red\")\n",
    "\n",
    "\n",
    "ax2 = ax1.twinx()\n",
    "ax2.plot(\n",
    "    [c[0] for c in results_k.items()],\n",
    "    [c[1][1] for c in results_k.items()], label=\"percentage variance explained\", color=\"blue\")\n",
    "ax2.set_ylabel('percentage variance', color='blue')\n",
    "\n",
    "plt.xlabel(\"K\")\n",
    "plt.legend()\n",
    "plt.title(\"Percentage variance / Inertia by. K\");-->"
   ]
  },
  {
   "cell_type": "markdown",
   "metadata": {},
   "source": [
    "For this dataset, we see K= 50 - 70ish is probably a sound choice - but would in reality might not be practical."
   ]
  },
  {
   "cell_type": "markdown",
   "metadata": {},
   "source": [
    "### <font color='#eb3483'>BONUS-MiniBatchKMeans</font>\n",
    "\n",
    "`scikit-learn` has a different implementation named `MiniBatchKMeans`. This implementation process the dataset in batches instead of loading it all in memory. It works faster than `KMeans` at the cost of producing clusters with a higher inertia.\n",
    "\n",
    "MiniBatchKMeans works the same way as KMeans, it just takes an additional hyperparameter `batch_size` that defines the number of elements to train on each batch."
   ]
  },
  {
   "cell_type": "code",
   "execution_count": 61,
   "metadata": {},
   "outputs": [],
   "source": [
    "from sklearn.cluster import MiniBatchKMeans"
   ]
  },
  {
   "cell_type": "code",
   "execution_count": 62,
   "metadata": {},
   "outputs": [
    {
     "name": "stdout",
     "output_type": "stream",
     "text": [
      "CPU times: user 4.1 s, sys: 72 ms, total: 4.17 s\n",
      "Wall time: 1.07 s\n"
     ]
    }
   ],
   "source": [
    "%%time\n",
    "estimator_kmeans = KMeans(n_clusters=8).fit(vehicles_processed)"
   ]
  },
  {
   "cell_type": "code",
   "execution_count": 64,
   "metadata": {},
   "outputs": [
    {
     "data": {
      "text/plain": [
       "62075787867.25824"
      ]
     },
     "execution_count": 64,
     "metadata": {},
     "output_type": "execute_result"
    }
   ],
   "source": [
    "estimator_kmeans.inertia_"
   ]
  },
  {
   "cell_type": "code",
   "execution_count": 65,
   "metadata": {},
   "outputs": [
    {
     "name": "stdout",
     "output_type": "stream",
     "text": [
      "CPU times: user 721 ms, sys: 3.65 ms, total: 724 ms\n",
      "Wall time: 182 ms\n"
     ]
    }
   ],
   "source": [
    "%%time\n",
    "estimator_kmeans_minibatch = MiniBatchKMeans(n_clusters=8).fit(vehicles_processed)"
   ]
  },
  {
   "cell_type": "code",
   "execution_count": 66,
   "metadata": {},
   "outputs": [
    {
     "data": {
      "text/plain": [
       "66241745990.30588"
      ]
     },
     "execution_count": 66,
     "metadata": {},
     "output_type": "execute_result"
    }
   ],
   "source": [
    "estimator_kmeans_minibatch.inertia_"
   ]
  },
  {
   "cell_type": "markdown",
   "metadata": {},
   "source": [
    "We see that MiniBatchKMeans is faster but it's final inertia is higher."
   ]
  }
 ],
 "metadata": {
  "kernelspec": {
   "display_name": "Python 3",
   "language": "python",
   "name": "python3"
  },
  "language_info": {
   "codemirror_mode": {
    "name": "ipython",
    "version": 3
   },
   "file_extension": ".py",
   "mimetype": "text/x-python",
   "name": "python",
   "nbconvert_exporter": "python",
   "pygments_lexer": "ipython3",
   "version": "3.8.8"
  }
 },
 "nbformat": 4,
 "nbformat_minor": 2
}
