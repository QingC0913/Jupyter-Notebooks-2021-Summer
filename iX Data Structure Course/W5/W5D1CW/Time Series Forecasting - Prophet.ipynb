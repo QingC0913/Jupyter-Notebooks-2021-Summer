{
 "cells": [
  {
   "cell_type": "markdown",
   "metadata": {},
   "source": [
    "# <font color='#eb3483'> Introduction to Prophet </font>\n",
    "\n",
    "In this notebook, we are going to learn about [Prophet](https://research.fb.com/prophet-forecasting-at-scale/), a python library released by facebook to perform **automated time series modelling** that is, to automatically forecast future values from a time series. Pretty cool! You can install the package using `conda install -c conda-forge fbprophet`. Note that Prophet is a massive package with a lot of dependencies, in future I'd recommend making a new [conda environment](https://uoa-eresearch.github.io/eresearch-cookbook/recipe/2014/11/20/conda/)  for working with it.\n"
   ]
  },
  {
   "attachments": {
    "image.png": {
     "image/png": "[encoded data removed]"
    }
   },
   "cell_type": "markdown",
   "metadata": {},
   "source": [
    "![image.png](attachment:image.png)"
   ]
  },
  {
   "cell_type": "code",
   "execution_count": 1,
   "metadata": {},
   "outputs": [],
   "source": [
    "import pandas as pd\n",
    "import numpy as np\n",
    "import seaborn as sns\n",
    "sns.set(rc={'figure.figsize':(16,5)})\n",
    "\n",
    "import matplotlib.pyplot as plt"
   ]
  },
  {
   "cell_type": "code",
   "execution_count": 3,
   "metadata": {},
   "outputs": [],
   "source": [
    "#conda install -c conda-forge fbprophet"
   ]
  },
  {
   "cell_type": "markdown",
   "metadata": {},
   "source": [
    "### <font color='#eb3483'> Bitcoin Data </font>\n",
    "\n",
    "We are going to use a dataset that includes the bitcoin price for the period 2017-2018."
   ]
  },
  {
   "cell_type": "code",
   "execution_count": 2,
   "metadata": {},
   "outputs": [
    {
     "data": {
      "text/html": [
       "<div>\n",
       "<style scoped>\n",
       "    .dataframe tbody tr th:only-of-type {\n",
       "        vertical-align: middle;\n",
       "    }\n",
       "\n",
       "    .dataframe tbody tr th {\n",
       "        vertical-align: top;\n",
       "    }\n",
       "\n",
       "    .dataframe thead th {\n",
       "        text-align: right;\n",
       "    }\n",
       "</style>\n",
       "<table border=\"1\" class=\"dataframe\">\n",
       "  <thead>\n",
       "    <tr style=\"text-align: right;\">\n",
       "      <th></th>\n",
       "      <th>Timestamp</th>\n",
       "      <th>Open</th>\n",
       "      <th>High</th>\n",
       "      <th>Low</th>\n",
       "      <th>Close</th>\n",
       "      <th>Volume_(BTC)</th>\n",
       "      <th>Volume_(Currency)</th>\n",
       "      <th>Weighted_Price</th>\n",
       "    </tr>\n",
       "  </thead>\n",
       "  <tbody>\n",
       "    <tr>\n",
       "      <th>0</th>\n",
       "      <td>2017-01-01 00:00:00</td>\n",
       "      <td>973.37</td>\n",
       "      <td>973.37</td>\n",
       "      <td>973.35</td>\n",
       "      <td>973.35</td>\n",
       "      <td>2.122048</td>\n",
       "      <td>2065.524303</td>\n",
       "      <td>973.363509</td>\n",
       "    </tr>\n",
       "    <tr>\n",
       "      <th>1</th>\n",
       "      <td>2017-01-01 00:01:00</td>\n",
       "      <td>973.37</td>\n",
       "      <td>973.37</td>\n",
       "      <td>973.35</td>\n",
       "      <td>973.35</td>\n",
       "      <td>2.122048</td>\n",
       "      <td>2065.524303</td>\n",
       "      <td>973.363509</td>\n",
       "    </tr>\n",
       "    <tr>\n",
       "      <th>2</th>\n",
       "      <td>2017-01-01 00:02:00</td>\n",
       "      <td>973.37</td>\n",
       "      <td>973.37</td>\n",
       "      <td>973.35</td>\n",
       "      <td>973.35</td>\n",
       "      <td>2.122048</td>\n",
       "      <td>2065.524303</td>\n",
       "      <td>973.363509</td>\n",
       "    </tr>\n",
       "    <tr>\n",
       "      <th>3</th>\n",
       "      <td>2017-01-01 00:03:00</td>\n",
       "      <td>973.36</td>\n",
       "      <td>973.36</td>\n",
       "      <td>973.36</td>\n",
       "      <td>973.36</td>\n",
       "      <td>0.040000</td>\n",
       "      <td>38.934400</td>\n",
       "      <td>973.360000</td>\n",
       "    </tr>\n",
       "    <tr>\n",
       "      <th>4</th>\n",
       "      <td>2017-01-01 00:04:00</td>\n",
       "      <td>973.36</td>\n",
       "      <td>973.40</td>\n",
       "      <td>973.36</td>\n",
       "      <td>973.39</td>\n",
       "      <td>5.458800</td>\n",
       "      <td>5313.529708</td>\n",
       "      <td>973.387871</td>\n",
       "    </tr>\n",
       "  </tbody>\n",
       "</table>\n",
       "</div>"
      ],
      "text/plain": [
       "             Timestamp    Open    High     Low   Close  Volume_(BTC)  \\\n",
       "0  2017-01-01 00:00:00  973.37  973.37  973.35  973.35      2.122048   \n",
       "1  2017-01-01 00:01:00  973.37  973.37  973.35  973.35      2.122048   \n",
       "2  2017-01-01 00:02:00  973.37  973.37  973.35  973.35      2.122048   \n",
       "3  2017-01-01 00:03:00  973.36  973.36  973.36  973.36      0.040000   \n",
       "4  2017-01-01 00:04:00  973.36  973.40  973.36  973.39      5.458800   \n",
       "\n",
       "   Volume_(Currency)  Weighted_Price  \n",
       "0        2065.524303      973.363509  \n",
       "1        2065.524303      973.363509  \n",
       "2        2065.524303      973.363509  \n",
       "3          38.934400      973.360000  \n",
       "4        5313.529708      973.387871  "
      ]
     },
     "execution_count": 2,
     "metadata": {},
     "output_type": "execute_result"
    }
   ],
   "source": [
    "data = pd.read_csv('./data/bitcoin.csv') \n",
    "data.head()"
   ]
  },
  {
   "cell_type": "code",
   "execution_count": 17,
   "metadata": {},
   "outputs": [
    {
     "data": {
      "text/plain": [
       "(648001, 8)"
      ]
     },
     "execution_count": 17,
     "metadata": {},
     "output_type": "execute_result"
    }
   ],
   "source": [
    "data.shape"
   ]
  },
  {
   "cell_type": "markdown",
   "metadata": {},
   "source": [
    "Prophet requires the data to have 2 columns, `ds` with the timestamp and `y` with the target variable"
   ]
  },
  {
   "cell_type": "code",
   "execution_count": 3,
   "metadata": {},
   "outputs": [
    {
     "data": {
      "text/html": [
       "<div>\n",
       "<style scoped>\n",
       "    .dataframe tbody tr th:only-of-type {\n",
       "        vertical-align: middle;\n",
       "    }\n",
       "\n",
       "    .dataframe tbody tr th {\n",
       "        vertical-align: top;\n",
       "    }\n",
       "\n",
       "    .dataframe thead th {\n",
       "        text-align: right;\n",
       "    }\n",
       "</style>\n",
       "<table border=\"1\" class=\"dataframe\">\n",
       "  <thead>\n",
       "    <tr style=\"text-align: right;\">\n",
       "      <th></th>\n",
       "      <th>ds</th>\n",
       "      <th>y</th>\n",
       "    </tr>\n",
       "  </thead>\n",
       "  <tbody>\n",
       "    <tr>\n",
       "      <th>0</th>\n",
       "      <td>2017-01-01 00:00:00</td>\n",
       "      <td>973.363509</td>\n",
       "    </tr>\n",
       "    <tr>\n",
       "      <th>1</th>\n",
       "      <td>2017-01-01 00:01:00</td>\n",
       "      <td>973.363509</td>\n",
       "    </tr>\n",
       "    <tr>\n",
       "      <th>2</th>\n",
       "      <td>2017-01-01 00:02:00</td>\n",
       "      <td>973.363509</td>\n",
       "    </tr>\n",
       "    <tr>\n",
       "      <th>3</th>\n",
       "      <td>2017-01-01 00:03:00</td>\n",
       "      <td>973.360000</td>\n",
       "    </tr>\n",
       "    <tr>\n",
       "      <th>4</th>\n",
       "      <td>2017-01-01 00:04:00</td>\n",
       "      <td>973.387871</td>\n",
       "    </tr>\n",
       "  </tbody>\n",
       "</table>\n",
       "</div>"
      ],
      "text/plain": [
       "                   ds           y\n",
       "0 2017-01-01 00:00:00  973.363509\n",
       "1 2017-01-01 00:01:00  973.363509\n",
       "2 2017-01-01 00:02:00  973.363509\n",
       "3 2017-01-01 00:03:00  973.360000\n",
       "4 2017-01-01 00:04:00  973.387871"
      ]
     },
     "execution_count": 3,
     "metadata": {},
     "output_type": "execute_result"
    }
   ],
   "source": [
    "data[\"ds\"] = pd.to_datetime(data.Timestamp)\n",
    "data[\"y\"] = data.Weighted_Price\n",
    "data = data[[\"ds\", \"y\"]]\n",
    "data.head()"
   ]
  },
  {
   "cell_type": "markdown",
   "metadata": {},
   "source": [
    "The bitcoin data is in minutes, prophet works best with hourly/daily/weekly data, so we will resample it to hourly"
   ]
  },
  {
   "cell_type": "code",
   "execution_count": 21,
   "metadata": {},
   "outputs": [],
   "source": [
    "#Can you resample the data to be hourly?\n",
    "# HINT: You first need to set a datetime index (i.e. set ds as index)\n",
    "# Then use the resample function (google) from pandas and set the frequency to be H\n",
    "# To aggregate across hours take the average (i.e. after resample take mean)\n",
    "# Reset the index :) - Simple right?\n",
    "data = data.set_index(\"ds\").resample(\"H\").mean()"
   ]
  },
  {
   "cell_type": "code",
   "execution_count": 22,
   "metadata": {},
   "outputs": [
    {
     "data": {
      "text/plain": [
       "(10801, 1)"
      ]
     },
     "execution_count": 22,
     "metadata": {},
     "output_type": "execute_result"
    }
   ],
   "source": [
    "data.shape"
   ]
  },
  {
   "cell_type": "code",
   "execution_count": 23,
   "metadata": {},
   "outputs": [
    {
     "data": {
      "text/plain": [
       "[<matplotlib.lines.Line2D at 0x2269018e910>]"
      ]
     },
     "execution_count": 23,
     "metadata": {},
     "output_type": "execute_result"
    },
    {
     "data": {
      "image/png": "[encoded data removed]",
      "text/plain": [
       "<Figure size 1152x360 with 1 Axes>"
      ]
     },
     "metadata": {},
     "output_type": "display_data"
    }
   ],
   "source": [
    "plt.plot(data.index, data.y)"
   ]
  },
  {
   "cell_type": "code",
   "execution_count": 27,
   "metadata": {},
   "outputs": [
    {
     "data": {
      "text/html": [
       "<div>\n",
       "<style scoped>\n",
       "    .dataframe tbody tr th:only-of-type {\n",
       "        vertical-align: middle;\n",
       "    }\n",
       "\n",
       "    .dataframe tbody tr th {\n",
       "        vertical-align: top;\n",
       "    }\n",
       "\n",
       "    .dataframe thead th {\n",
       "        text-align: right;\n",
       "    }\n",
       "</style>\n",
       "<table border=\"1\" class=\"dataframe\">\n",
       "  <thead>\n",
       "    <tr style=\"text-align: right;\">\n",
       "      <th></th>\n",
       "      <th>y</th>\n",
       "    </tr>\n",
       "  </thead>\n",
       "  <tbody>\n",
       "    <tr>\n",
       "      <th>count</th>\n",
       "      <td>10801.000000</td>\n",
       "    </tr>\n",
       "    <tr>\n",
       "      <th>mean</th>\n",
       "      <td>5238.594230</td>\n",
       "    </tr>\n",
       "    <tr>\n",
       "      <th>std</th>\n",
       "      <td>4555.987030</td>\n",
       "    </tr>\n",
       "    <tr>\n",
       "      <th>min</th>\n",
       "      <td>760.070260</td>\n",
       "    </tr>\n",
       "    <tr>\n",
       "      <th>25%</th>\n",
       "      <td>1279.714256</td>\n",
       "    </tr>\n",
       "    <tr>\n",
       "      <th>50%</th>\n",
       "      <td>3614.537270</td>\n",
       "    </tr>\n",
       "    <tr>\n",
       "      <th>75%</th>\n",
       "      <td>8277.949565</td>\n",
       "    </tr>\n",
       "    <tr>\n",
       "      <th>max</th>\n",
       "      <td>19849.091661</td>\n",
       "    </tr>\n",
       "  </tbody>\n",
       "</table>\n",
       "</div>"
      ],
      "text/plain": [
       "                  y\n",
       "count  10801.000000\n",
       "mean    5238.594230\n",
       "std     4555.987030\n",
       "min      760.070260\n",
       "25%     1279.714256\n",
       "50%     3614.537270\n",
       "75%     8277.949565\n",
       "max    19849.091661"
      ]
     },
     "execution_count": 27,
     "metadata": {},
     "output_type": "execute_result"
    }
   ],
   "source": [
    "data.describe()"
   ]
  },
  {
   "cell_type": "markdown",
   "metadata": {},
   "source": [
    "### <font color='#eb3483'> Prophet </font>"
   ]
  },
  {
   "cell_type": "markdown",
   "metadata": {},
   "source": [
    "Now we import prophet"
   ]
  },
  {
   "cell_type": "code",
   "execution_count": 4,
   "metadata": {},
   "outputs": [
    {
     "name": "stderr",
     "output_type": "stream",
     "text": [
      "Importing plotly failed. Interactive plots will not work.\n"
     ]
    }
   ],
   "source": [
    "from fbprophet import Prophet"
   ]
  },
  {
   "cell_type": "markdown",
   "metadata": {},
   "source": [
    "### <font color='#eb3483'> Fit the model </font>"
   ]
  },
  {
   "cell_type": "markdown",
   "metadata": {},
   "source": [
    "We create a `Prophet` model object to train and make predictions."
   ]
  },
  {
   "cell_type": "code",
   "execution_count": 32,
   "metadata": {},
   "outputs": [],
   "source": [
    "#Check out all the nobs we can play with\n",
    "Prophet?"
   ]
  },
  {
   "cell_type": "code",
   "execution_count": 5,
   "metadata": {},
   "outputs": [],
   "source": [
    "#What ones do you think make sense for our bitcoin data?\n",
    "# m = Prophet(\n",
    "#     growth='linear',\n",
    "#     changepoints=None,\n",
    "#     n_changepoints=25,\n",
    "#     changepoint_range=0.8,\n",
    "#     yearly_seasonality='auto',\n",
    "#     weekly_seasonality='auto',\n",
    "#     daily_seasonality='auto',\n",
    "#     holidays=None,\n",
    "#     seasonality_mode='additive',\n",
    "#     seasonality_prior_scale=10.0,\n",
    "#     holidays_prior_scale=10.0,\n",
    "#     changepoint_prior_scale=0.05,\n",
    "#     mcmc_samples=0,\n",
    "#     interval_width=0.8,\n",
    "#     uncertainty_samples=1000,\n",
    "#     stan_backend=None)\n",
    "m = Prophet(yearly_seasonality=True)"
   ]
  },
  {
   "cell_type": "markdown",
   "metadata": {},
   "source": [
    "Now we fit the model to the data"
   ]
  },
  {
   "cell_type": "code",
   "execution_count": null,
   "metadata": {},
   "outputs": [
    {
     "name": "stderr",
     "output_type": "stream",
     "text": [
      "INFO:numexpr.utils:NumExpr defaulting to 4 threads.\n"
     ]
    },
    {
     "ename": "KeyError",
     "evalue": "'metric_file'",
     "output_type": "error",
     "traceback": [
      "\u001b[1;31m---------------------------------------------------------------------------\u001b[0m",
      "\u001b[1;31mKeyError\u001b[0m                                  Traceback (most recent call last)",
      "\u001b[1;31mKeyError\u001b[0m: 'metric_file'"
     ]
    }
   ],
   "source": [
    "%time m.fit(data.reset_index()) # takes a non-trivial amount of time"
   ]
  },
  {
   "cell_type": "markdown",
   "metadata": {},
   "source": [
    "### <font color='#eb3483'> Validate our model </font>"
   ]
  },
  {
   "cell_type": "markdown",
   "metadata": {},
   "source": [
    "Prophet has [some functions](https://facebook.github.io/prophet/docs/diagnostics.html) to evaluate Time series models. For example, we can do model crossvalidation, using the `diagnostics.cross_validation function`\n",
    "\n",
    "![](https://facebook.github.io/prophet/static/diagnostics_files/diagnostics_3_0.png)\n",
    "\n",
    "Basically it trains multiple prophet models, given an `initial` number of periods to use as training data,  and evaluate the models on the predictions on a given `horizon` period. If we dont want to run as many predictions as periods on the training dataset we can pass the parameter `period` (to run the predictions every period time)"
   ]
  },
  {
   "cell_type": "code",
   "execution_count": null,
   "metadata": {},
   "outputs": [],
   "source": [
    "from fbprophet.diagnostics import cross_validation"
   ]
  },
  {
   "cell_type": "code",
   "execution_count": null,
   "metadata": {},
   "outputs": [],
   "source": [
    "#This takes forever - run the code while we talk about what it's doing!\n",
    "cv_results = cross_validation(m,  initial=\"60 days\", horizon=\"7 days\", period=\"15 days\")\n",
    "\n",
    "#Why do we need to do different cv than our usual machine learning?"
   ]
  },
  {
   "cell_type": "code",
   "execution_count": null,
   "metadata": {},
   "outputs": [],
   "source": [
    "cv_results.shape"
   ]
  },
  {
   "cell_type": "code",
   "execution_count": null,
   "metadata": {},
   "outputs": [],
   "source": [
    "cv_results.head(10)"
   ]
  },
  {
   "cell_type": "markdown",
   "metadata": {},
   "source": [
    "We can compute metrics by horizon with the function `performance_metrics`, it will print out common metrics for each horizon we have taken. Usually the farther the horizon, the bigger the error."
   ]
  },
  {
   "cell_type": "code",
   "execution_count": null,
   "metadata": {},
   "outputs": [],
   "source": [
    "from fbprophet.diagnostics import performance_metrics\n",
    "df_p = performance_metrics(cv_results)\n",
    "df_p.head(20)\n",
    "\n",
    "# this gives us the metrics for each period forward we are trying to predict. Generally the further out we are trying to predict the less accurate our forecasts are going to be.\n",
    "#this is much easier to visualise in a plot"
   ]
  },
  {
   "cell_type": "markdown",
   "metadata": {},
   "source": [
    "We can use the function `plot_cross_validation_metric` to assess how prophet model performs.\n",
    "\n",
    "Dots show the absolute percent error for each prediction in df_cv. The blue line shows the MAPE, where the mean is taken over a rolling window of the dots. We see for this forecast that errors around 5% are typical for predictions one month into the future, and that errors increase up to around 11% for predictions that are a year out."
   ]
  },
  {
   "cell_type": "code",
   "execution_count": null,
   "metadata": {},
   "outputs": [],
   "source": [
    "from fbprophet.plot import plot_cross_validation_metric\n",
    "fig = plot_cross_validation_metric(cv_results, metric='mape')"
   ]
  },
  {
   "cell_type": "markdown",
   "metadata": {},
   "source": [
    "### <font color='#eb3483'> Make future predictions </font>"
   ]
  },
  {
   "cell_type": "markdown",
   "metadata": {},
   "source": [
    "Now we are ready to make predictions. To do so we just need to fill the `ds` column with future timestamps. Prophet has the utility function `make_future_dataframe()` that creates a dataframe with future timestamps.\n",
    "\n",
    "By default, this method creates a dataframe with the same timestamps as the training dataset **plus** as many periods as we want in the future. If we only care about creating a dataset with future dates we can use the argument `include_history=False` (it is true by default)."
   ]
  },
  {
   "cell_type": "code",
   "execution_count": null,
   "metadata": {},
   "outputs": [],
   "source": [
    "# this makes an empty data frame for which we are going to predict the values\n",
    "future = m.make_future_dataframe(periods=30, include_history=True) \n",
    "future.head()"
   ]
  },
  {
   "cell_type": "markdown",
   "metadata": {},
   "source": [
    "Now we can forecast using the method `predict`."
   ]
  },
  {
   "cell_type": "code",
   "execution_count": null,
   "metadata": {},
   "outputs": [],
   "source": [
    "forecast = m.predict(future)"
   ]
  },
  {
   "cell_type": "code",
   "execution_count": null,
   "metadata": {},
   "outputs": [],
   "source": [
    "forecast.head()"
   ]
  },
  {
   "cell_type": "markdown",
   "metadata": {},
   "source": [
    "We can plot the forecast and see the confidence levels the model has. As time passes it becomes less and less sure about its predictions, which makes sense since this series is pretty volatile."
   ]
  },
  {
   "cell_type": "code",
   "execution_count": null,
   "metadata": {},
   "outputs": [],
   "source": [
    "m.plot(forecast);"
   ]
  },
  {
   "cell_type": "markdown",
   "metadata": {},
   "source": [
    "We can get the time series decomposition with `plot_components`"
   ]
  },
  {
   "cell_type": "code",
   "execution_count": null,
   "metadata": {},
   "outputs": [],
   "source": [
    " m.plot_components(forecast);"
   ]
  },
  {
   "cell_type": "markdown",
   "metadata": {},
   "source": [
    "This is just the basics of prophet, you can check [this article](https://towardsdatascience.com/implementing-facebook-prophet-efficiently-c241305405a3) for more in depth techniques"
   ]
  }
 ],
 "metadata": {
  "kernelspec": {
   "display_name": "Python 3",
   "language": "python",
   "name": "python3"
  },
  "language_info": {
   "codemirror_mode": {
    "name": "ipython",
    "version": 3
   },
   "file_extension": ".py",
   "mimetype": "text/x-python",
   "name": "python",
   "nbconvert_exporter": "python",
   "pygments_lexer": "ipython3",
   "version": "3.8.8"
  }
 },
 "nbformat": 4,
 "nbformat_minor": 2
}
