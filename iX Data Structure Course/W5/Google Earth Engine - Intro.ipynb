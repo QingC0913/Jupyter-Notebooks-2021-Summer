{
 "cells": [
  {
   "cell_type": "markdown",
   "metadata": {},
   "source": [
    "# Google Earth Engine"
   ]
  },
  {
   "cell_type": "markdown",
   "metadata": {},
   "source": [
    "The data collected by Earth observing satellites has revolutionised the way we monitor the planet.\n",
    "\n",
    "Every day new images are acquired that help document changes in ocean currents, global atmospheric circulation and the productivity of plants.\n",
    "\n",
    "Google invented a tool called Google Earth Engine that combines satellite imagery with planetary-scale analysis capabilities, making it possible for scientists, researchers and developers to detect changes, map trends and quantify differences on the Earth's surface. Google Earth Engine [https://earthengine.google.com] is a free Google product supported by the Google Earth Outreach programme.\n",
    "\n",
    "When using Google Earth Engine, researchers perform all their analysis on data hosted on Google's servers, and only view or download the results they need. The raw data never has to be housed on their own computers, nor do their local machines need to do any of the processing.\n",
    "\n",
    "Explore GEE data catalog: https://developers.google.com/earth-engine/datasets\n",
    "\n",
    "Timelapse feature: https://earthengine.google.com/timelapse/\n",
    "\n",
    "Need more help: https://developers.google.com/earth-engine/tutorials/tutorials\n",
    "\n",
    "End-to-End Google Earth Engine (Full Course): https://courses.spatialthoughts.com/end-to-end-gee.html"
   ]
  },
  {
   "cell_type": "markdown",
   "metadata": {},
   "source": [
    "## Contents\n",
    "* Visualizing feature collections\n",
    "* Time Series Analysis"
   ]
  },
  {
   "cell_type": "code",
   "execution_count": 1,
   "metadata": {},
   "outputs": [],
   "source": [
    "%matplotlib inline"
   ]
  },
  {
   "cell_type": "markdown",
   "metadata": {},
   "source": [
    "### Installation Google Earth Engine API and geemap"
   ]
  },
  {
   "cell_type": "markdown",
   "metadata": {},
   "source": [
    "Install the Earth Engine Python API and geemap. The geemap Python package is built upon the ipyleaflet and folium packages and implements several methods for interacting with Earth Engine data layers, such as Map.addLayer(), Map.setCenter(), and Map.centerObject(). The following script checks if the geemap package has been installed. If not, it will install geemap, which automatically installs its dependencies, including earthengine-api, folium, and ipyleaflet."
   ]
  },
  {
   "cell_type": "code",
   "execution_count": null,
   "metadata": {},
   "outputs": [],
   "source": [
    "!conda install -c conda-forge geemap"
   ]
  },
  {
   "cell_type": "code",
   "execution_count": null,
   "metadata": {},
   "outputs": [],
   "source": [
    "!conda install -c conda-forge earthengine-api"
   ]
  },
  {
   "cell_type": "markdown",
   "metadata": {},
   "source": [
    "You will be asked to confirm the installation of the API and its dependencies. After confirming, conda will download and install the dependencies. If all goes well, you will now have a conda environment called 'ee' with all the requirements for accessing the API, as well as the earthengine command line tool."
   ]
  },
  {
   "cell_type": "code",
   "execution_count": null,
   "metadata": {},
   "outputs": [],
   "source": [
    "#earthengine authenticate"
   ]
  },
  {
   "cell_type": "code",
   "execution_count": null,
   "metadata": {},
   "outputs": [],
   "source": [
    "import ee\n",
    "import geopandas as gpd\n",
    "import subprocess\n",
    "from IPython.display import Image\n",
    "import ee, datetime\n",
    "import pandas as pd\n",
    "from pylab import *\n",
    "import seaborn as sns\n",
    "from matplotlib.pylab import rcParams\n",
    "from statsmodels.tsa.seasonal import seasonal_decompose\n",
    "import geemap\n",
    "\n",
    "# Initialize the Earth Engine module.\n",
    "ee.Initialize()"
   ]
  },
  {
   "cell_type": "markdown",
   "metadata": {},
   "source": [
    "ee.Initialize() can take time to load"
   ]
  },
  {
   "cell_type": "code",
   "execution_count": null,
   "metadata": {},
   "outputs": [],
   "source": [
    "print(ee.__version__)"
   ]
  },
  {
   "cell_type": "code",
   "execution_count": null,
   "metadata": {},
   "outputs": [],
   "source": [
    "# Test Google Earth Engine Connected and working\n",
    "# Print metadata for a DEM dataset.\n",
    "image = ee.Image('srtm90_v4')\n",
    "print(image.getInfo())"
   ]
  },
  {
   "cell_type": "markdown",
   "metadata": {},
   "source": [
    "### 1. Visualizing Feature Collection"
   ]
  },
  {
   "cell_type": "code",
   "execution_count": null,
   "metadata": {},
   "outputs": [],
   "source": [
    "Map = geemap.Map(center=[40,-100], zoom=4)"
   ]
  },
  {
   "cell_type": "code",
   "execution_count": null,
   "metadata": {},
   "outputs": [],
   "source": [
    "# Add Earth Engine dataset\n",
    "# Load a FeatureCollection from a table dataset: 'RESOLVE' ecoregions.\n",
    "ecoregions = ee.FeatureCollection('RESOLVE/ECOREGIONS/2017')\n",
    "\n",
    "# Display as default and with a custom color.\n",
    "Map.addLayer(ecoregions, {}, 'default display')\n",
    "Map.addLayer(ecoregions, {'color': 'FF0000'}, 'colored')\n",
    "\n",
    "\n",
    "Map.addLayer(ecoregions.draw(**{'color': '006600', 'strokeWidth': 5}), {}, 'drawn')\n",
    "\n",
    "\n",
    "# Create an empty image into which to paint the features, cast to byte.\n",
    "empty = ee.Image().byte()\n",
    "\n",
    "# Paint all the polygon edges with the same number and 'width', display.\n",
    "outline = empty.paint(**{\n",
    "  'featureCollection': ecoregions,\n",
    "  'color': 1,\n",
    "  'width': 3\n",
    "})\n",
    "Map.addLayer(outline, {'palette': 'FF0000'}, 'edges')\n",
    "\n",
    "\n",
    "# Paint the edges with different colors, display.\n",
    "outlines = empty.paint(**{\n",
    "  'featureCollection': ecoregions,\n",
    "  'color': 'BIOME_NUM',\n",
    "  'width': 4\n",
    "})\n",
    "palette = ['FF0000', '00FF00', '0000FF']\n",
    "Map.addLayer(outlines, {'palette': palette, 'max': 14}, 'different color edges')\n",
    "\n",
    "\n",
    "# Paint the edges with different colors and 'width's.\n",
    "outlines = empty.paint(**{\n",
    "  'featureCollection': ecoregions,\n",
    "  'color': 'BIOME_NUM',\n",
    "  'width': 'NNH'\n",
    "})\n",
    "Map.addLayer(outlines, {'palette': palette, 'max': 14}, 'different color, width edges')\n",
    "\n",
    "\n",
    "# Paint the interior of the polygons with different colors.\n",
    "fills = empty.paint(**{\n",
    "  'featureCollection': ecoregions,\n",
    "  'color': 'BIOME_NUM',\n",
    "    })\n",
    "Map.addLayer(fills, {'palette': palette, 'max': 14}, 'colored fills')\n",
    "\n",
    "\n",
    "# Paint both the fill and the edges.\n",
    "filledOutlines = empty.paint(ecoregions, 'BIOME_NUM').paint(ecoregions, 0, 2)\n",
    "Map.addLayer(filledOutlines, {'palette': ['000000'] + palette, 'max': 14}, 'edges and fills')"
   ]
  },
  {
   "cell_type": "code",
   "execution_count": null,
   "metadata": {},
   "outputs": [],
   "source": [
    "Map.addLayerControl() # This line is not needed for ipyleaflet-based Map.\n",
    "Map"
   ]
  },
  {
   "cell_type": "code",
   "execution_count": null,
   "metadata": {},
   "outputs": [],
   "source": [
    "# Add Earth Engine dataset\n",
    "# Use an elevation dataset and terrain functions to create\n",
    "# a custom visualization of topography.\n",
    "\n",
    "# Load a global elevation image.\n",
    "elev = ee.Image('USGS/GMTED2010')\n",
    "\n",
    "# Zoom to an area of interest.\n",
    "Map.setCenter(-121.069, 50.709, 6)\n",
    "\n",
    "# Add the elevation to the map.\n",
    "Map.addLayer(elev, {}, 'elev')\n",
    "\n",
    "# Use the terrain algorithms to compute a hillshade with 8-bit values.\n",
    "shade = ee.Terrain.hillshade(elev)\n",
    "Map.addLayer(shade, {}, 'hillshade', False)\n",
    "\n",
    "# Create a \"sea\" variable to be used for cartographic purposes\n",
    "sea = elev.lte(0)\n",
    "Map.addLayer(sea.mask(sea), {'palette':'000022'}, 'sea', False)\n",
    "\n",
    "# Create a custom elevation palette from hex strings.\n",
    "elevationPalette = ['006600', '002200', 'fff700', 'ab7634', 'c4d0ff', 'ffffff']\n",
    "# Use these visualization parameters, customized by location.\n",
    "visParams = {'min': 1, 'max': 3000, 'palette': elevationPalette}\n",
    "\n",
    "# Create a mosaic of the sea and the elevation data\n",
    "visualized = ee.ImageCollection([\n",
    "  # Mask the elevation to get only land\n",
    "  elev.mask(sea.Not()).visualize(**visParams),\n",
    "  # Use the sea mask directly to display sea.\n",
    "  sea.mask(sea).visualize(**{'palette':'000022'})\n",
    "]).mosaic()\n",
    "\n",
    "# Note that the visualization image doesn't require visualization parameters.\n",
    "Map.addLayer(visualized, {}, 'elev palette', False)\n",
    "\n",
    "# Convert the visualized elevation to HSV, first converting to [0, 1] data.\n",
    "hsv = visualized.divide(255).rgbToHsv()\n",
    "# Select only the hue and saturation bands.\n",
    "hs = hsv.select(0, 1)\n",
    "# Convert the hillshade to [0, 1] data, as expected by the HSV algorithm.\n",
    "v = shade.divide(255)\n",
    "# Create a visualization image by converting back to RGB from HSV.\n",
    "# Note the cast to byte in order to export the image correctly.\n",
    "rgb = hs.addBands(v).hsvToRgb().multiply(255).byte()\n",
    "Map.addLayer(rgb, {}, 'styled')"
   ]
  },
  {
   "cell_type": "code",
   "execution_count": null,
   "metadata": {},
   "outputs": [],
   "source": [
    "Map.addLayerControl() # This line is not needed for ipyleaflet-based Map.\n",
    "Map"
   ]
  },
  {
   "cell_type": "markdown",
   "metadata": {},
   "source": [
    "## 2. Proba-V Time-Series Analysis\n",
    "Basic Time-Series Analysis using Proba-V NDVI (Normalized Difference Vegetation Index) imagery.\n",
    "Read more about Proba-V: https://directory.eoportal.org/web/eoportal/satellite-missions/p/proba-v"
   ]
  },
  {
   "cell_type": "markdown",
   "metadata": {},
   "source": [
    "#### Load Proba-V image collection and point geometry\n",
    "Selected Location of point is from the Proba-V Footprint X18Y02 in Luxembourg, Europe. "
   ]
  },
  {
   "cell_type": "code",
   "execution_count": null,
   "metadata": {},
   "outputs": [],
   "source": [
    "# Set start and end date\n",
    "startTime = datetime.datetime(2015, 1, 1)\n",
    "endTime = datetime.datetime(2017, 12, 31)\n",
    "\n",
    "# Create image collection\n",
    "collection = ee.ImageCollection('VITO/PROBAV/C1/S1_TOC_100M').filterDate(startTime, endTime)\n",
    "# Create point in Luxembourg (Proba-V Footprint: X18Y02)\n",
    "point = {'type':'Point', 'coordinates':[6.134136, 49.612485]};"
   ]
  },
  {
   "cell_type": "markdown",
   "metadata": {},
   "source": [
    "### Retrieve information, reshape and calculate NDVI\n",
    "Retrieving information from point geometry with a buffer of 500m over image collection. Reshaping data and calculating NDVI from **RED** and **NIR** band."
   ]
  },
  {
   "cell_type": "code",
   "execution_count": null,
   "metadata": {},
   "outputs": [],
   "source": [
    "info = collection.getRegion(point,500).getInfo()"
   ]
  },
  {
   "cell_type": "code",
   "execution_count": null,
   "metadata": {},
   "outputs": [],
   "source": [
    "# Reshape image collection \n",
    "header = info[0]\n",
    "data = array(info[1:])\n",
    "\n",
    "iTime = header.index('time')\n",
    "time = [datetime.datetime.fromtimestamp(i/1000) for i in (data[0:,iTime].astype(int))]\n",
    "\n",
    "# List of used image bands\n",
    "band_list = ['RED',u'NIR']\n",
    "\n",
    "iBands = [header.index(b) for b in band_list]\n",
    "yData = data[0:,iBands].astype(np.float)\n",
    "\n",
    "# Calculate NDVI\n",
    "red = yData[:,0]\n",
    "nir = yData[:,1]\n",
    "ndvi = (nir - red) / (nir + red)"
   ]
  },
  {
   "cell_type": "markdown",
   "metadata": {},
   "source": [
    "### Reshape NDVI array into Pandas Dataframe"
   ]
  },
  {
   "cell_type": "code",
   "execution_count": null,
   "metadata": {},
   "outputs": [],
   "source": [
    "df = pd.DataFrame(data=ndvi, index=list(range(len(ndvi))), columns=['NDVI'])\n",
    "df = df.interpolate()\n",
    "df['Date'] = pd.Series(time, index=df.index)\n",
    "df = df.set_index(df.Date)\n",
    "df.index = pd.to_datetime(df.index)\n",
    "df['NDVI']=df['NDVI'].fillna(0)"
   ]
  },
  {
   "cell_type": "markdown",
   "metadata": {},
   "source": [
    "#### Obtain statistical information over all elements of the Time-Series"
   ]
  },
  {
   "cell_type": "code",
   "execution_count": null,
   "metadata": {},
   "outputs": [],
   "source": [
    "df.info()"
   ]
  },
  {
   "cell_type": "code",
   "execution_count": null,
   "metadata": {},
   "outputs": [],
   "source": [
    "df.describe()"
   ]
  },
  {
   "cell_type": "markdown",
   "metadata": {},
   "source": [
    "### Visualize Proba-V NDVI Time Series"
   ]
  },
  {
   "cell_type": "code",
   "execution_count": null,
   "metadata": {},
   "outputs": [],
   "source": [
    "sns.set(rc={'figure.figsize':(15, 6)})\n",
    "df['NDVI'].plot(linewidth=0.5);"
   ]
  },
  {
   "cell_type": "markdown",
   "metadata": {},
   "source": [
    "### Seasonal Decomposition"
   ]
  },
  {
   "cell_type": "code",
   "execution_count": null,
   "metadata": {},
   "outputs": [],
   "source": [
    "sd=seasonal_decompose(df['NDVI'], model='additive', freq=352)\n",
    "\n",
    "sd.seasonal.plot()\n",
    "sd.trend.plot()\n",
    "sd.resid.plot()\n",
    "plt.legend(['Seasonality', 'Trend', 'Residuals'])"
   ]
  },
  {
   "cell_type": "code",
   "execution_count": null,
   "metadata": {},
   "outputs": [],
   "source": [
    "# Plot\n",
    "plt.rcParams.update({'figure.figsize': (16,12)})\n",
    "sd.plot().suptitle('ETS Decomposition', fontsize=16)\n",
    "plt.tight_layout(rect=[0, 0.03, 1, 0.95])\n",
    "\n",
    "plt.show()"
   ]
  },
  {
   "cell_type": "markdown",
   "metadata": {},
   "source": [
    "### Resample data\n",
    "Resampling to weekly level and calculate the percentage change over one year."
   ]
  },
  {
   "cell_type": "code",
   "execution_count": null,
   "metadata": {},
   "outputs": [],
   "source": [
    "df_monthly=df.resample('W').mean()\n",
    "df_monthly['pct_change'] = df_monthly.pct_change(52)\n",
    "df_monthly['pct_change']['2016':].plot()\n",
    "plt.title('52 Weeks Percentage Change')"
   ]
  }
 ],
 "metadata": {
  "kernelspec": {
   "display_name": "Python 3",
   "language": "python",
   "name": "python3"
  },
  "language_info": {
   "codemirror_mode": {
    "name": "ipython",
    "version": 3
   },
   "file_extension": ".py",
   "mimetype": "text/x-python",
   "name": "python",
   "nbconvert_exporter": "python",
   "pygments_lexer": "ipython3",
   "version": "3.8.5"
  }
 },
 "nbformat": 4,
 "nbformat_minor": 4
}
