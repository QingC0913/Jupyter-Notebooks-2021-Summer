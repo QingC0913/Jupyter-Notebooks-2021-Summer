{
 "cells": [
  {
   "cell_type": "markdown",
   "metadata": {},
   "source": [
    "# <font color='#eb3483'> Exploratory Data Analysis - Part 2 </font>\n"
   ]
  },
  {
   "cell_type": "markdown",
   "metadata": {},
   "source": [
    "Let's remind ourselves of where we left off"
   ]
  },
  {
   "cell_type": "markdown",
   "metadata": {},
   "source": [
    "### <font color='#eb3483'> Data processing steps </font>\n",
    "- There are xxx duplicate rows (we have removed them)\n",
    "- The variables `xxx, xxx, xxx and xxx` have missing values - what did we do with these?\n",
    "- The categorical variable `xxx, xxx` has a dominant class (65% of xxx are xxx, etc)\n",
    "- There are outliers in the variables `xxx and xxx` - what did we do with these?\n"
   ]
  },
  {
   "cell_type": "markdown",
   "metadata": {},
   "source": [
    "### <font color='#eb3483'> Entity Description <font color='#eb3483'>\n",
    "\n",
    "Here we describe the possible entities(groupings) that we can break our dataset into, this will help us think of different ways to slice and group the dataset in further steps.\n",
    "\n",
    "- neighbourhood or zipcode. City was almost all Cape Town, so not very informative for differentiation (ie low cardinality).\n",
    "- Most common zipcode is 8001 and ward is 115.\n",
    "- property_type - whole houses and apartments is the most common type.\n",
    "- room_type -> a lot of entire apartments and shared rooms. \n",
    "- bed type -> predominently real beds. Not much value in this variable.\n",
    "- accommodates - > good range of sizes of properties.\n"
   ]
  },
  {
   "cell_type": "code",
   "execution_count": null,
   "metadata": {},
   "outputs": [],
   "source": [
    "# Importing the required packages here\n",
    "\n",
    "import numpy as np\n",
    "import pandas as pd\n",
    "import seaborn as sns\n",
    "import ast, json\n",
    "\n",
    "from datetime import datetime\n",
    "import matplotlib.pyplot as plt\n",
    "%matplotlib inline"
   ]
  },
  {
   "cell_type": "markdown",
   "metadata": {},
   "source": [
    "### <font color='#eb3483'>  Load our data </font>\n",
    "After each step it is important to save the dataset with a different name (so we dont modify the original)."
   ]
  },
  {
   "cell_type": "code",
   "execution_count": null,
   "metadata": {},
   "outputs": [],
   "source": [
    "df = pd.read_csv(\"data/airbnb_processed.csv\")\n",
    "df.head()"
   ]
  },
  {
   "cell_type": "markdown",
   "metadata": {},
   "source": [
    "## <font color='#eb3483'> 5. Comparisons and aggregations </font>\n",
    "\n",
    "The final stage of our EDA journey is going to be to look at the relationship between variables in our data. The goal of this stage is to get a better understanding of how our data interacts with each other."
   ]
  },
  {
   "cell_type": "markdown",
   "metadata": {},
   "source": [
    "## <font color='#eb3483'> Multiple group counts </font>"
   ]
  },
  {
   "cell_type": "code",
   "execution_count": null,
   "metadata": {},
   "outputs": [],
   "source": [
    "def pivot_count(df, rows, columns): # this just makes a function that does a pivotcount for us with different variables.\n",
    "    df_pivot = df.pivot_table(values=\"id\", # could be any column, since we are just counting rows \n",
    "                              index=rows, \n",
    "                              columns=columns, \n",
    "                              aggfunc=np.size\n",
    "                             ).dropna(axis=0, how='all')\n",
    "    return df_pivot"
   ]
  },
  {
   "cell_type": "code",
   "execution_count": null,
   "metadata": {},
   "outputs": [],
   "source": [
    "room_accommodates = pivot_count(df, \"room_type\",\"accommodates\")\n",
    "room_accommodates"
   ]
  },
  {
   "cell_type": "code",
   "execution_count": null,
   "metadata": {},
   "outputs": [],
   "source": [
    "# which neighbourhoods have places that accommodate the greatest number of guests\n",
    "wards_accommodates = pivot_count(df, \"neighbourhood\",\"accommodates\")\n",
    "wards_accommodates"
   ]
  },
  {
   "cell_type": "code",
   "execution_count": null,
   "metadata": {},
   "outputs": [],
   "source": [
    "# play around with some options. "
   ]
  },
  {
   "cell_type": "markdown",
   "metadata": {},
   "source": [
    "## <font color='#eb3483'> Categorical Variable Means </font>"
   ]
  },
  {
   "cell_type": "code",
   "execution_count": null,
   "metadata": {},
   "outputs": [],
   "source": [
    "#check out average price per room type and property type\n",
    "df.groupby(\"room_type\")[\"price\"].mean().plot.barh()   \n"
   ]
  },
  {
   "cell_type": "code",
   "execution_count": null,
   "metadata": {},
   "outputs": [],
   "source": [
    "#plot mean price of properties per property type\n",
    "plt.figure(figsize=(13,13))\n"
   ]
  },
  {
   "cell_type": "code",
   "execution_count": null,
   "metadata": {},
   "outputs": [],
   "source": [
    "# WHAT! the avergae price of dorm room is R70 000 ($3500 ish!?!) # No way we must have missed something there.\n",
    "# maybe we need to look at outliers per room type rather than overall?\n",
    "# A reminder that EDA is not a linear process. You will go back and forth A LOT"
   ]
  },
  {
   "cell_type": "code",
   "execution_count": null,
   "metadata": {},
   "outputs": [],
   "source": [
    "from ipywidgets import interact, interactive, fixed, interact_manual\n",
    "import ipywidgets as widgets\n",
    "\n",
    "categorical_variables = df.select_dtypes(\n",
    "    ['object', 'category']).columns.tolist()\n",
    "\n",
    "numerical_variables = df.select_dtypes(include=np.number) # different way of doing the above. \n",
    "#There is almnost always more than 1 way to skin a code\n",
    "\n",
    "def means_by_category(col_group, col_calc):\n",
    "    df.groupby(col_group)[col_calc].mean().nlargest(10).plot(kind='barh', figsize=(10,10))\n",
    "    sns.mpl.pyplot.xlabel('Mean values for variable {}'.format(col_calc))\n",
    "\n",
    "interact(means_by_category, col_group=categorical_variables, col_calc=numerical_variables);"
   ]
  },
  {
   "cell_type": "code",
   "execution_count": null,
   "metadata": {},
   "outputs": [],
   "source": [
    "#interactive widgets are great for playing around with your data\n",
    "#But if you are sharing your notebook and you want someone else to follow your logic - \n",
    "#good idea to rather code the options you are interested in. "
   ]
  },
  {
   "cell_type": "code",
   "execution_count": null,
   "metadata": {},
   "outputs": [],
   "source": []
  },
  {
   "cell_type": "markdown",
   "metadata": {},
   "source": [
    "##  <font color='#eb3483'> Correlations </font>\n"
   ]
  },
  {
   "cell_type": "markdown",
   "metadata": {},
   "source": [
    "An easy way to visually see all correlations is by using the `pairplot` function we learned with seaborn. However, this only works when there aren't many columns. \n",
    "\n",
    "**Note** Scatterplot matrices computation are a bit heavy, this might take a while in your computer."
   ]
  },
  {
   "cell_type": "code",
   "execution_count": null,
   "metadata": {},
   "outputs": [],
   "source": [
    "#sns.pairplot(df) #- not going to run this now but try it out for yourself later"
   ]
  },
  {
   "cell_type": "code",
   "execution_count": null,
   "metadata": {},
   "outputs": [],
   "source": [
    "# Do more expensive rentals get better ratings\n",
    "#Is there a relationship between price and review_score_rating?\n",
    "\n",
    "sns.regplot(\"price\", \"review_scores_rating\", data=df);"
   ]
  },
  {
   "cell_type": "code",
   "execution_count": null,
   "metadata": {},
   "outputs": [],
   "source": [
    "#try out any others that interest you"
   ]
  },
  {
   "cell_type": "markdown",
   "metadata": {},
   "source": [
    "<hr>"
   ]
  },
  {
   "cell_type": "markdown",
   "metadata": {},
   "source": [
    "Once we have finished the analyisis, the last step is to compile all of our findings and put it on one document. This document serves 2 purposes:\n",
    "\n",
    "- It helps inform people in the future of our findings. That person might even ourselves!.\n",
    "- Facilitate the replication of the analysis by other Data Scientists.\n",
    "\n",
    "Let's summarize all the work we've done!\n",
    "\n",
    "# <font color='#eb3483'> Analysis Conclusion </font>\n",
    "\n",
    "### <font color='#eb3483'> Description </font>\n",
    "\n",
    "Describe the data set. What it is. Where it comes from. Maybe the time period it covers. etc.\n",
    "\n",
    "\n",
    "\n",
    "### <font color='#eb3483'> Data dictionary </font>\n",
    "\n",
    "The variables that exist on the dataset are:\n",
    "\n",
    "```\n",
    "* xxx (categorical)\n",
    "etc.\n",
    "```\n",
    "\n",
    "### <font color='#eb3483'> Data Processing </font>\n",
    "\n",
    "- copy from previously\n",
    "\n",
    "### <font color='#eb3483'> Variable Exploration Description <font color='#eb3483'>\n",
    "- copy from previously\n",
    "\n",
    "\n",
    "### <font color='#eb3483'> Comparisons </font>\n",
    "\n",
    "- list any insights that stood out for you here.\n",
    "\n",
    "\n",
    "### <font color='#eb3483'> Conclusions </font>\n",
    "- list any major conclusions\n"
   ]
  },
  {
   "cell_type": "markdown",
   "metadata": {},
   "source": [
    "<hr>"
   ]
  },
  {
   "cell_type": "markdown",
   "metadata": {},
   "source": [
    "### <font color='#eb3483'> Pandas Profiling </font>\n"
   ]
  },
  {
   "cell_type": "markdown",
   "metadata": {},
   "source": [
    "To save us some trouble - pandas has a very nifty function that helps with some EDA  \n",
    "\n",
    "An awesome package that you can check-out here: https://github.com/JosPolfliet/pandas-profiling\n",
    "\n",
    "Here is a great example of Pandas profiling https://medium.com/analytics-vidhya/pandas-profiling-5ecd0b977ecd\n",
    "\n",
    "(warning it can be buggy and hard to get working but if you do it works well)\n",
    "\n",
    "To install you can run `conda install -c conda-forge pandas-profiling` - in terminal"
   ]
  },
  {
   "cell_type": "markdown",
   "metadata": {},
   "source": [
    "With pandas-profiling we can generate a report from a pandas dataframe that provides a ton of information about the data"
   ]
  },
  {
   "cell_type": "code",
   "execution_count": null,
   "metadata": {},
   "outputs": [],
   "source": [
    "#import pandas_profiling"
   ]
  },
  {
   "cell_type": "code",
   "execution_count": null,
   "metadata": {},
   "outputs": [],
   "source": [
    "#df = pd.read_csv(\"data/airbnb_processed.csv\")"
   ]
  },
  {
   "cell_type": "code",
   "execution_count": null,
   "metadata": {},
   "outputs": [],
   "source": [
    "#not going to run as it takes quite a bit of time.\n",
    "#report = pandas_profiling.ProfileReport(df)"
   ]
  },
  {
   "cell_type": "code",
   "execution_count": null,
   "metadata": {},
   "outputs": [],
   "source": [
    "#report"
   ]
  },
  {
   "cell_type": "markdown",
   "metadata": {},
   "source": [
    "We can even save the report as an html, this is very useful when sharing with a colleague"
   ]
  },
  {
   "cell_type": "code",
   "execution_count": null,
   "metadata": {},
   "outputs": [],
   "source": [
    "#type(report)\n",
    "#report.to_file(output_file = 'profiling_report.html')"
   ]
  },
  {
   "cell_type": "code",
   "execution_count": null,
   "metadata": {},
   "outputs": [],
   "source": []
  }
 ],
 "metadata": {
  "kernelspec": {
   "display_name": "Python 3",
   "language": "python",
   "name": "python3"
  },
  "language_info": {
   "codemirror_mode": {
    "name": "ipython",
    "version": 3
   },
   "file_extension": ".py",
   "mimetype": "text/x-python",
   "name": "python",
   "nbconvert_exporter": "python",
   "pygments_lexer": "ipython3",
   "version": "3.8.5"
  }
 },
 "nbformat": 4,
 "nbformat_minor": 2
}
