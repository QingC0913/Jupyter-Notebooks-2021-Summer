{
 "cells": [
  {
   "cell_type": "code",
   "execution_count": null,
   "metadata": {},
   "outputs": [],
   "source": [
    "import itertools\n",
    "import nltk\n",
    "from nltk.probability import FreqDist\n",
    "from nltk import sent_tokenize, word_tokenize\n",
    "import pandas as pd\n",
    "#import pygsheets\n",
    "import re\n",
    "import string \n",
    "import POSTagger"
   ]
  },
  {
   "cell_type": "code",
   "execution_count": null,
   "metadata": {},
   "outputs": [],
   "source": [
    "# train POSTagger model on training dataset\n",
    "\n",
    "corpus_root = \"Training_Datasets/\"\n",
    "train_file = \"tagged_corpus_train.txt\"\n",
    "\n",
    "tagger = POSTagger.create_model(corpus_root, train_file)"
   ]
  },
  {
   "cell_type": "code",
   "execution_count": null,
   "metadata": {},
   "outputs": [],
   "source": [
    "# test model performance on test dataset by comparing with true labels\n",
    "\n",
    "test_file_untagged = corpus_root + \"/corpus_test.txt\"\n",
    "test_file_tagged = corpus_root + \"/tagged_corpus_test.txt\"\n",
    "\n",
    "model_tags = POSTagger.tag_file(tagger, test_file_untagged)"
   ]
  },
  {
   "cell_type": "code",
   "execution_count": null,
   "metadata": {},
   "outputs": [],
   "source": [
    "def process(tagged_corpus):\n",
    "    '''Given file path `tagged_corpus`, returns a list of tuples of each token and its label'''\n",
    "    words = list()\n",
    "    tags = list()\n",
    "    \n",
    "    with open(tagged_corpus, \"r\") as tc:\n",
    "        contents = tc.read().splitlines()      \n",
    "        for line in contents:\n",
    "            tokens = line.split()\n",
    "            for tok in tokens:\n",
    "                try: # check if token is tagged\n",
    "                    split = tok.index(\"\\\\\")\n",
    "                    w, t = tok[:split], tok[split+1:]    \n",
    "                # if not set tag to None \n",
    "                except ValueError:  \n",
    "                    w, t = tok, None\n",
    "                words.append(w)\n",
    "                tags.append(t)\n",
    "\n",
    "    return list(zip(words, tags))"
   ]
  },
  {
   "cell_type": "code",
   "execution_count": null,
   "metadata": {
    "scrolled": false
   },
   "outputs": [],
   "source": [
    "true_tags = process(test_file_tagged)\n",
    "\n",
    "total = 0\n",
    "correct = 0\n",
    "\n",
    "for m, t in zip(model_tags, true_tags):\n",
    "    # check if the tokens agree\n",
    "    assert(m[0] == t[0])\n",
    "    \n",
    "    # then compute accuracy\n",
    "    total += 1\n",
    "    if m[1] == t[1]:\n",
    "        correct += 1\n",
    "        \n",
    "accuracy = correct / total\n",
    "print(accuracy)"
   ]
  },
  {
   "cell_type": "code",
   "execution_count": null,
   "metadata": {},
   "outputs": [],
   "source": []
  }
 ],
 "metadata": {
  "kernelspec": {
   "display_name": "Python 3",
   "language": "python",
   "name": "python3"
  },
  "language_info": {
   "codemirror_mode": {
    "name": "ipython",
    "version": 3
   },
   "file_extension": ".py",
   "mimetype": "text/x-python",
   "name": "python",
   "nbconvert_exporter": "python",
   "pygments_lexer": "ipython3",
   "version": "3.8.3"
  }
 },
 "nbformat": 4,
 "nbformat_minor": 4
}
